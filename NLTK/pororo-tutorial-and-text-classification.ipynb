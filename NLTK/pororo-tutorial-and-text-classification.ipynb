{
 "cells": [
  {
   "cell_type": "markdown",
   "id": "f451b587",
   "metadata": {},
   "source": [
    "# Pororo tutorial\n",
    "- [Repository](https://github.com/kakaobrain/pororo)\n",
    "- [Documentation](https://kakaobrain.github.io/pororo/)"
   ]
  },
  {
   "cell_type": "code",
   "execution_count": 1,
   "id": "60065f7e",
   "metadata": {},
   "outputs": [],
   "source": [
    "from pororo import Pororo"
   ]
  },
  {
   "cell_type": "markdown",
   "id": "a329098e",
   "metadata": {},
   "source": [
    "## 1. `pororo`에서 이용 가능한  작업들 보기"
   ]
  },
  {
   "cell_type": "code",
   "execution_count": 2,
   "id": "a6db8aa5",
   "metadata": {},
   "outputs": [
    {
     "data": {
      "text/plain": [
       "\"Available tasks are ['mrc', 'rc', 'qa', 'question_answering', 'machine_reading_comprehension', 'reading_comprehension', 'sentiment', 'sentiment_analysis', 'nli', 'natural_language_inference', 'inference', 'fill', 'fill_in_blank', 'fib', 'para', 'pi', 'cse', 'contextual_subword_embedding', 'similarity', 'sts', 'semantic_textual_similarity', 'sentence_similarity', 'sentvec', 'sentence_embedding', 'sentence_vector', 'se', 'inflection', 'morphological_inflection', 'g2p', 'grapheme_to_phoneme', 'grapheme_to_phoneme_conversion', 'w2v', 'wordvec', 'word2vec', 'word_vector', 'word_embedding', 'tokenize', 'tokenise', 'tokenization', 'tokenisation', 'tok', 'segmentation', 'seg', 'mt', 'machine_translation', 'translation', 'pos', 'tag', 'pos_tagging', 'tagging', 'const', 'constituency', 'constituency_parsing', 'cp', 'pg', 'collocation', 'collocate', 'col', 'word_translation', 'wt', 'summarization', 'summarisation', 'text_summarization', 'text_summarisation', 'summary', 'gec', 'review', 'review_scoring', 'lemmatization', 'lemmatisation', 'lemma', 'ner', 'named_entity_recognition', 'entity_recognition', 'zero-topic', 'dp', 'dep_parse', 'caption', 'captioning', 'asr', 'speech_recognition', 'st', 'speech_translation', 'tts', 'text_to_speech', 'speech_synthesis', 'ocr', 'srl', 'semantic_role_labeling', 'p2g', 'aes', 'essay', 'qg', 'question_generation', 'age_suitability', 'wsd']\""
      ]
     },
     "execution_count": 2,
     "metadata": {},
     "output_type": "execute_result"
    }
   ],
   "source": [
    "Pororo.available_tasks()"
   ]
  },
  {
   "cell_type": "markdown",
   "id": "de3f3aba",
   "metadata": {},
   "source": [
    "## 2. 특정 task에서 이용 가능한 모델들 보기"
   ]
  },
  {
   "cell_type": "code",
   "execution_count": 3,
   "id": "7c2b761e",
   "metadata": {},
   "outputs": [
    {
     "data": {
      "text/plain": [
       "'Available models for review are ([lang]: en, [model]: roberta.base.en.review), ([lang]: ko, [model]: brainbert.base.ko.review_rating), ([lang]: ja, [model]: jaberta.base.ja.review), ([lang]: zh, [model]: zhberta.base.zh.review)'"
      ]
     },
     "execution_count": 3,
     "metadata": {},
     "output_type": "execute_result"
    }
   ],
   "source": [
    "Pororo.available_models(\"review\")"
   ]
  },
  {
   "cell_type": "markdown",
   "id": "8ff23e34",
   "metadata": {},
   "source": [
    "## 3. 특정 task를 수행하기\n",
    "- 작업별 모델을 로드하는 팩토리 클래스 `Pororo`를 사용\n",
    "- task명과 언어를 각 인자에 맞게 작성\n",
    "- 객체를 출력함으로써 모듈 정보를 확인할 수 있음"
   ]
  },
  {
   "cell_type": "code",
   "execution_count": 4,
   "id": "691e452a",
   "metadata": {},
   "outputs": [
    {
     "data": {
      "text/plain": [
       "[TASK]: REVIEW\n",
       "[LANG]: KO\n",
       "[MODEL]: brainbert.base.ko.review_rating"
      ]
     },
     "execution_count": 4,
     "metadata": {},
     "output_type": "execute_result"
    }
   ],
   "source": [
    "review = Pororo(task=\"review\", lang=\"ko\")\n",
    "review"
   ]
  },
  {
   "cell_type": "markdown",
   "id": "da2f59f9",
   "metadata": {},
   "source": [
    "- 객체 생성 후에, 다음과 같이 입력 값을 전달"
   ]
  },
  {
   "cell_type": "code",
   "execution_count": 5,
   "id": "9f395efd",
   "metadata": {},
   "outputs": [
    {
     "data": {
      "text/plain": [
       "4.8"
      ]
     },
     "execution_count": 5,
     "metadata": {},
     "output_type": "execute_result"
    }
   ],
   "source": [
    "review(\"실리콘이라서 불편할거라 생각했는데 느낌이 보들보들하고 라이언이 너무 귀여워요. 안 찢어지고 지금 잘 사용하고 있습니다!!\")"
   ]
  },
  {
   "cell_type": "code",
   "execution_count": 6,
   "id": "3cfa3a14",
   "metadata": {},
   "outputs": [
    {
     "data": {
      "text/plain": [
       "1.24"
      ]
     },
     "execution_count": 6,
     "metadata": {},
     "output_type": "execute_result"
    }
   ],
   "source": [
    "review(\"가격대비 최악이에요 먼지 묻어도 너무 심한거 아니에요? 주머니 넣기가 무섭네요 맨날 닦을수도 없구요 귀찮네요\")"
   ]
  },
  {
   "cell_type": "markdown",
   "id": "11c37cf4",
   "metadata": {},
   "source": [
    "#### task가 여러 개의 모델을 지원한다면, `model` 인자를 바꿔 다른 모델을 사용할 수 있음"
   ]
  },
  {
   "cell_type": "code",
   "execution_count": 7,
   "id": "b559ecae",
   "metadata": {},
   "outputs": [
    {
     "data": {
      "text/plain": [
       "'Available models for mt are ([lang]: multi, [model]: transformer.large.multi.mtpg, transformer.large.multi.fast.mtpg)'"
      ]
     },
     "execution_count": 7,
     "metadata": {},
     "output_type": "execute_result"
    }
   ],
   "source": [
    "Pororo.available_models(\"mt\")"
   ]
  },
  {
   "cell_type": "code",
   "execution_count": 8,
   "id": "5352c179",
   "metadata": {},
   "outputs": [
    {
     "name": "stdout",
     "output_type": "stream",
     "text": [
      "[TASK]: MT\n",
      "[LANG]: MULTI\n",
      "[MODEL]: transformer.large.multi.mtpg\n"
     ]
    }
   ],
   "source": [
    "mt = Pororo(task=\"mt\", lang=\"multi\", model=\"transformer.large.multi.mtpg\")\n",
    "print(mt)"
   ]
  },
  {
   "cell_type": "code",
   "execution_count": 9,
   "id": "1bfa7f91",
   "metadata": {},
   "outputs": [
    {
     "name": "stdout",
     "output_type": "stream",
     "text": [
      "[TASK]: MT\n",
      "[LANG]: MULTI\n",
      "[MODEL]: transformer.large.multi.fast.mtpg\n"
     ]
    }
   ],
   "source": [
    "fast_mt = Pororo(task=\"mt\", lang=\"multi\", model=\"transformer.large.multi.fast.mtpg\")\n",
    "print(fast_mt)"
   ]
  },
  {
   "cell_type": "markdown",
   "id": "6c2c7192",
   "metadata": {},
   "source": [
    "# Text classification\n",
    "## [Automated Essay Scoring](https://kakaobrain.github.io/pororo/text_cls/aes.html)"
   ]
  },
  {
   "cell_type": "markdown",
   "id": "711dfeef",
   "metadata": {},
   "source": [
    "### 1. 이용 가능한 모델 확인"
   ]
  },
  {
   "cell_type": "code",
   "execution_count": 10,
   "id": "8f3315a5",
   "metadata": {},
   "outputs": [
    {
     "data": {
      "text/plain": [
       "'Available models for aes are ([lang]: en, [model]: roberta.base.en.aes)'"
      ]
     },
     "execution_count": 10,
     "metadata": {},
     "output_type": "execute_result"
    }
   ],
   "source": [
    "Pororo.available_models(\"aes\")"
   ]
  },
  {
   "cell_type": "markdown",
   "id": "4f18b43e",
   "metadata": {},
   "source": [
    "### 2. 객체 생성"
   ]
  },
  {
   "cell_type": "code",
   "execution_count": 11,
   "id": "1b9e69bd",
   "metadata": {},
   "outputs": [
    {
     "data": {
      "text/plain": [
       "[TASK]: AES\n",
       "[LANG]: EN\n",
       "[MODEL]: roberta.base.en.aes"
      ]
     },
     "execution_count": 11,
     "metadata": {},
     "output_type": "execute_result"
    }
   ],
   "source": [
    "aes = Pororo(task=\"aes\", lang=\"en\")\n",
    "aes"
   ]
  },
  {
   "cell_type": "markdown",
   "id": "d6a4d03c",
   "metadata": {},
   "source": [
    "### 3. 자동 에세이 채점"
   ]
  },
  {
   "cell_type": "code",
   "execution_count": 12,
   "id": "697f2e88",
   "metadata": {},
   "outputs": [
    {
     "data": {
      "text/plain": [
       "23.64"
      ]
     },
     "execution_count": 12,
     "metadata": {},
     "output_type": "execute_result"
    }
   ],
   "source": [
    "aes(\"\"\"\n",
    "More effort is wasted doing things that don't matter than is wasted doing things inefficiently.\n",
    "And if that is the case, elimination is a more useful skill than optimization.\n",
    "I am reminded of the famous Peter Drucker quote,\n",
    "'There is nothing so useless as doing efficiently that which should not be done at all.'\n",
    "\"\"\")"
   ]
  },
  {
   "cell_type": "markdown",
   "id": "63b083cd",
   "metadata": {},
   "source": [
    "## [Age Suitability Prediction](https://kakaobrain.github.io/pororo/text_cls/age_suitability.html)\n",
    "### 1. 이용 가능한 모델 확인"
   ]
  },
  {
   "cell_type": "code",
   "execution_count": 13,
   "id": "80f5b6c6",
   "metadata": {},
   "outputs": [
    {
     "data": {
      "text/plain": [
       "'Available models for age_suitability are ([lang]: en, [model]: roberta.base.en.movie)'"
      ]
     },
     "execution_count": 13,
     "metadata": {},
     "output_type": "execute_result"
    }
   ],
   "source": [
    "Pororo.available_models(\"age_suitability\")"
   ]
  },
  {
   "cell_type": "markdown",
   "id": "182ac14d",
   "metadata": {},
   "source": [
    "### 2. 객체 생성"
   ]
  },
  {
   "cell_type": "code",
   "execution_count": 14,
   "id": "3e2f4749",
   "metadata": {},
   "outputs": [
    {
     "data": {
      "text/plain": [
       "[TASK]: AGE_SUITABILITY\n",
       "[LANG]: EN\n",
       "[MODEL]: roberta.base.en.movie"
      ]
     },
     "execution_count": 14,
     "metadata": {},
     "output_type": "execute_result"
    }
   ],
   "source": [
    "age_suitability = Pororo(task=\"age_suitability\", lang=\"en\")\n",
    "age_suitability"
   ]
  },
  {
   "cell_type": "markdown",
   "id": "d9c1ec81",
   "metadata": {},
   "source": [
    "### 3. 연령 적합성 예측"
   ]
  },
  {
   "cell_type": "code",
   "execution_count": 15,
   "id": "3f3e0627",
   "metadata": {},
   "outputs": [
    {
     "data": {
      "text/plain": [
       "{'rating': {'class': 'PG',\n",
       "  'description': 'Parental Guidance Suggested. Some material may not be suitable for children.'},\n",
       " 'emotion': {'nudity': 'Low',\n",
       "  'violence': 'Low',\n",
       "  'profanity': 'Low',\n",
       "  'alcohol': 'Low',\n",
       "  'frightening': 'Low'}}"
      ]
     },
     "execution_count": 15,
     "metadata": {},
     "output_type": "execute_result"
    }
   ],
   "source": [
    "age_suitability(\"When I was a little girl in the 1950s, it would not have been possible for me to say, I want to be an anchorwoman when I grow up.\")"
   ]
  },
  {
   "cell_type": "code",
   "execution_count": 16,
   "id": "3cbea37f",
   "metadata": {},
   "outputs": [
    {
     "data": {
      "text/plain": [
       "{'rating': {'class': 'R',\n",
       "  'description': 'Restricted. Under 17 requires accompanying parent or adult guardian.'},\n",
       " 'emotion': {'nudity': 'Low',\n",
       "  'violence': 'Low',\n",
       "  'profanity': 'Low',\n",
       "  'alcohol': 'Low',\n",
       "  'frightening': 'Low'}}"
      ]
     },
     "execution_count": 16,
     "metadata": {},
     "output_type": "execute_result"
    }
   ],
   "source": [
    "age_suitability(\"The past can hurt, but you can either run from it, or learn from it.\")"
   ]
  },
  {
   "cell_type": "code",
   "execution_count": 17,
   "id": "2642ffb2",
   "metadata": {},
   "outputs": [
    {
     "data": {
      "text/plain": [
       "{'rating': {'class': 'PG-13',\n",
       "  'description': 'Parents Strongly Cautioned. Some material may be inappropriate for children under 13.'},\n",
       " 'emotion': {'nudity': 'Low',\n",
       "  'violence': 'Low',\n",
       "  'profanity': 'Low',\n",
       "  'alcohol': 'Low',\n",
       "  'frightening': 'Low'}}"
      ]
     },
     "execution_count": 17,
     "metadata": {},
     "output_type": "execute_result"
    }
   ],
   "source": [
    "age_suitability(\"At some point you've got to decide for yourself who you gonna be. Can't let nobody make that decision for you.\")"
   ]
  },
  {
   "cell_type": "markdown",
   "id": "1bf6b2dd",
   "metadata": {},
   "source": [
    "## [Natural Language Inference](https://kakaobrain.github.io/pororo/text_cls/nli.html)\n",
    "### 1. 이용 가능한 모델 확인"
   ]
  },
  {
   "cell_type": "code",
   "execution_count": 18,
   "id": "6032f44d",
   "metadata": {},
   "outputs": [
    {
     "data": {
      "text/plain": [
       "'Available models for nli are ([lang]: en, [model]: roberta.base.en.nli), ([lang]: ko, [model]: brainbert.base.ko.kornli), ([lang]: ja, [model]: jaberta.base.ja.nli), ([lang]: zh, [model]: zhberta.base.zh.nli)'"
      ]
     },
     "execution_count": 18,
     "metadata": {},
     "output_type": "execute_result"
    }
   ],
   "source": [
    "Pororo.available_models(\"nli\")"
   ]
  },
  {
   "cell_type": "markdown",
   "id": "0abfe677",
   "metadata": {},
   "source": [
    "### 2. 객체 생성"
   ]
  },
  {
   "cell_type": "code",
   "execution_count": 19,
   "id": "de383590",
   "metadata": {},
   "outputs": [],
   "source": [
    "nli_ko = Pororo(task=\"nli\", lang=\"ko\")"
   ]
  },
  {
   "cell_type": "code",
   "execution_count": 20,
   "id": "ac164b63",
   "metadata": {},
   "outputs": [],
   "source": [
    "nli_en = Pororo(task=\"nli\", lang=\"en\")"
   ]
  },
  {
   "cell_type": "markdown",
   "id": "eb92df51",
   "metadata": {},
   "source": [
    "### 3. 자연어 추론"
   ]
  },
  {
   "cell_type": "code",
   "execution_count": 21,
   "id": "3d051da6",
   "metadata": {},
   "outputs": [
    {
     "data": {
      "text/plain": [
       "'Contradiction'"
      ]
     },
     "execution_count": 21,
     "metadata": {},
     "output_type": "execute_result"
    }
   ],
   "source": [
    "nli_ko(\"저는, 그냥 알아내려고 거기 있었어요\", \"나는 처음부터 그것을 잘 이해했다\")"
   ]
  },
  {
   "cell_type": "code",
   "execution_count": 22,
   "id": "8623e0a1",
   "metadata": {},
   "outputs": [
    {
     "data": {
      "text/plain": [
       "'Entailment'"
      ]
     },
     "execution_count": 22,
     "metadata": {},
     "output_type": "execute_result"
    }
   ],
   "source": [
    "nli_ko(\"회색 개가 숲에서 쓰러진 나무를 핥고 있다.\", \"개가 밖에 있다.\")"
   ]
  },
  {
   "cell_type": "code",
   "execution_count": 23,
   "id": "2c0f2740",
   "metadata": {},
   "outputs": [
    {
     "data": {
      "text/plain": [
       "'Neutral'"
      ]
     },
     "execution_count": 23,
     "metadata": {},
     "output_type": "execute_result"
    }
   ],
   "source": [
    "nli_ko(\"스타벅스에서 뭐 마실지 고민된다.\", \"다양한 음료를 마셔봐도 역시 아메리카노가 최고다.\")"
   ]
  },
  {
   "cell_type": "code",
   "execution_count": 24,
   "id": "cb9ed0e9",
   "metadata": {},
   "outputs": [
    {
     "data": {
      "text/plain": [
       "'Entailment'"
      ]
     },
     "execution_count": 24,
     "metadata": {},
     "output_type": "execute_result"
    }
   ],
   "source": [
    "nli_en(\"A soccer game with multiple males playing.\", \"Some men are playing a sport.\")"
   ]
  },
  {
   "cell_type": "code",
   "execution_count": 25,
   "id": "adae8e73",
   "metadata": {},
   "outputs": [
    {
     "data": {
      "text/plain": [
       "'Contradiction'"
      ]
     },
     "execution_count": 25,
     "metadata": {},
     "output_type": "execute_result"
    }
   ],
   "source": [
    "nli_en(\"I have 2 cats.\", \"I do not have any pets. What is your cats name?\")"
   ]
  },
  {
   "cell_type": "code",
   "execution_count": 26,
   "id": "88e3c78d",
   "metadata": {},
   "outputs": [
    {
     "data": {
      "text/plain": [
       "'Neutral'"
      ]
     },
     "execution_count": 26,
     "metadata": {},
     "output_type": "execute_result"
    }
   ],
   "source": [
    "nli_en(\"A senior is waiting at the window of a restaurant that serves sandwiches.\", \"A man is looking to order a grilled cheese sandwich.\")"
   ]
  },
  {
   "cell_type": "markdown",
   "id": "b3ab6448",
   "metadata": {},
   "source": [
    "## [Paraphrase Identification](https://kakaobrain.github.io/pororo/text_cls/para_id.html)\n",
    "### 1. 이용 가능한 모델 확인"
   ]
  },
  {
   "cell_type": "code",
   "execution_count": 27,
   "id": "6f64e607",
   "metadata": {},
   "outputs": [
    {
     "data": {
      "text/plain": [
       "'Available models for pi are ([lang]: ko, [model]: brainbert.base.ko.paws)'"
      ]
     },
     "execution_count": 27,
     "metadata": {},
     "output_type": "execute_result"
    }
   ],
   "source": [
    "Pororo.available_models(\"pi\")"
   ]
  },
  {
   "cell_type": "markdown",
   "id": "052468b8",
   "metadata": {},
   "source": [
    "### 2. 객체 생성"
   ]
  },
  {
   "cell_type": "code",
   "execution_count": 28,
   "id": "f07cdc72",
   "metadata": {},
   "outputs": [
    {
     "name": "stderr",
     "output_type": "stream",
     "text": [
      "\n"
     ]
    }
   ],
   "source": [
    "pi = Pororo(task=\"pi\", lang=\"ko\")"
   ]
  },
  {
   "cell_type": "markdown",
   "id": "39281687",
   "metadata": {},
   "source": [
    "### 3. 의역 식별"
   ]
  },
  {
   "cell_type": "code",
   "execution_count": 29,
   "id": "af8b5f45",
   "metadata": {},
   "outputs": [
    {
     "data": {
      "text/plain": [
       "'Paraphrase'"
      ]
     },
     "execution_count": 29,
     "metadata": {},
     "output_type": "execute_result"
    }
   ],
   "source": [
    "pi(\"그는 빨간 자전거를 샀다\", \"그가 산 자전거는 빨간색이다.\")"
   ]
  },
  {
   "cell_type": "code",
   "execution_count": 30,
   "id": "5ce262eb",
   "metadata": {},
   "outputs": [
    {
     "data": {
      "text/plain": [
       "'NOT Paraphrase'"
      ]
     },
     "execution_count": 30,
     "metadata": {},
     "output_type": "execute_result"
    }
   ],
   "source": [
    "pi(\"그는 빨간 자전거를 샀다\", \"그가 타고 있는 자전거는 빨간색이다.\")"
   ]
  },
  {
   "cell_type": "code",
   "execution_count": 31,
   "id": "e9d6f308",
   "metadata": {},
   "outputs": [
    {
     "data": {
      "text/plain": [
       "'Paraphrase'"
      ]
     },
     "execution_count": 31,
     "metadata": {},
     "output_type": "execute_result"
    }
   ],
   "source": [
    "pi(\"그녀는 제주도에서 일출을 감상했다\", \"그녀는 일출을 감상하기 위해서 제주도에 갔다.\")"
   ]
  },
  {
   "cell_type": "code",
   "execution_count": 32,
   "id": "897f8aaf",
   "metadata": {},
   "outputs": [
    {
     "data": {
      "text/plain": [
       "'Paraphrase'"
      ]
     },
     "execution_count": 32,
     "metadata": {},
     "output_type": "execute_result"
    }
   ],
   "source": [
    "pi(\"그녀는 제주도에서 일출을 감상했다\", \"그녀는 제주도에 갔다.\")"
   ]
  },
  {
   "cell_type": "code",
   "execution_count": 33,
   "id": "d959fa4d",
   "metadata": {},
   "outputs": [
    {
     "data": {
      "text/plain": [
       "'Paraphrase'"
      ]
     },
     "execution_count": 33,
     "metadata": {},
     "output_type": "execute_result"
    }
   ],
   "source": [
    "pi(\"그녀는 제주도에서 일출을 감상했다\", \"그녀는 일출을 감상했다\")"
   ]
  },
  {
   "cell_type": "code",
   "execution_count": 34,
   "id": "c79e036f",
   "metadata": {},
   "outputs": [
    {
     "data": {
      "text/plain": [
       "'NOT Paraphrase'"
      ]
     },
     "execution_count": 34,
     "metadata": {},
     "output_type": "execute_result"
    }
   ],
   "source": [
    "pi(\"그녀는 제주도에서 일출을 감상했다\", \"그녀는 강릉에서 일출을 감상했다\")"
   ]
  },
  {
   "cell_type": "markdown",
   "id": "96f89146",
   "metadata": {},
   "source": [
    "## [Review Scoring](https://kakaobrain.github.io/pororo/text_cls/review_score.html)\n",
    "### 1. 이용 가능한 모델 확인"
   ]
  },
  {
   "cell_type": "code",
   "execution_count": 35,
   "id": "7d29de26",
   "metadata": {},
   "outputs": [
    {
     "data": {
      "text/plain": [
       "'Available models for review are ([lang]: en, [model]: roberta.base.en.review), ([lang]: ko, [model]: brainbert.base.ko.review_rating), ([lang]: ja, [model]: jaberta.base.ja.review), ([lang]: zh, [model]: zhberta.base.zh.review)'"
      ]
     },
     "execution_count": 35,
     "metadata": {},
     "output_type": "execute_result"
    }
   ],
   "source": [
    "Pororo.available_models(\"review\")"
   ]
  },
  {
   "cell_type": "markdown",
   "id": "32adeac6",
   "metadata": {},
   "source": [
    "### 2. 객체 생성"
   ]
  },
  {
   "cell_type": "code",
   "execution_count": 36,
   "id": "d382889f",
   "metadata": {},
   "outputs": [
    {
     "name": "stderr",
     "output_type": "stream",
     "text": [
      "\n"
     ]
    }
   ],
   "source": [
    "review_ko = Pororo(task=\"review\", lang=\"ko\")\n",
    "review_en = Pororo(task=\"review\", lang=\"en\")"
   ]
  },
  {
   "cell_type": "markdown",
   "id": "3de94850",
   "metadata": {},
   "source": [
    "### 3. 리뷰 평점"
   ]
  },
  {
   "cell_type": "code",
   "execution_count": 37,
   "id": "b5775c55",
   "metadata": {},
   "outputs": [
    {
     "data": {
      "text/plain": [
       "4.79"
      ]
     },
     "execution_count": 37,
     "metadata": {},
     "output_type": "execute_result"
    }
   ],
   "source": [
    "review_en(\"Just what I needed! Perfect for western theme party.\")"
   ]
  },
  {
   "cell_type": "code",
   "execution_count": 38,
   "id": "3360f0f5",
   "metadata": {},
   "outputs": [
    {
     "data": {
      "text/plain": [
       "2.65"
      ]
     },
     "execution_count": 38,
     "metadata": {},
     "output_type": "execute_result"
    }
   ],
   "source": [
    "review_en(\"Received wrong size.\")"
   ]
  },
  {
   "cell_type": "code",
   "execution_count": 39,
   "id": "031b13b8",
   "metadata": {},
   "outputs": [
    {
     "data": {
      "text/plain": [
       "2.96"
      ]
     },
     "execution_count": 39,
     "metadata": {},
     "output_type": "execute_result"
    }
   ],
   "source": [
    "review_ko(\"그냥저냥 다른데랑 똑같숩니다\")"
   ]
  },
  {
   "cell_type": "code",
   "execution_count": 40,
   "id": "86d76faa",
   "metadata": {},
   "outputs": [
    {
     "data": {
      "text/plain": [
       "3.92"
      ]
     },
     "execution_count": 40,
     "metadata": {},
     "output_type": "execute_result"
    }
   ],
   "source": [
    "review_ko(\"좋습니다 만족해요 배송만 좀 더 빨랐으면..\")"
   ]
  },
  {
   "cell_type": "markdown",
   "id": "29672bd9",
   "metadata": {},
   "source": [
    "## [Semantic Textual Similarity](https://kakaobrain.github.io/pororo/text_cls/sts.html)\n",
    "### 1. 이용 가능한 모델 확인"
   ]
  },
  {
   "cell_type": "code",
   "execution_count": 41,
   "id": "cdba6889",
   "metadata": {},
   "outputs": [
    {
     "data": {
      "text/plain": [
       "'Available models for similarity are ([lang]: en, [model]: roberta.base.en.sts), ([lang]: ko, [model]: brainbert.base.ko.korsts, brainsbert.base.ko.kornli.korsts), ([lang]: ja, [model]: jaberta.base.ja.sts, jasbert.base.ja.nli.sts), ([lang]: zh, [model]: zhberta.base.zh.sts, zhsbert.base.zh.nli.sts)'"
      ]
     },
     "execution_count": 41,
     "metadata": {},
     "output_type": "execute_result"
    }
   ],
   "source": [
    "Pororo.available_models(\"similarity\")"
   ]
  },
  {
   "cell_type": "markdown",
   "id": "64c087ef",
   "metadata": {},
   "source": [
    "### 2. 객체 생성"
   ]
  },
  {
   "cell_type": "code",
   "execution_count": 42,
   "id": "e184f048",
   "metadata": {},
   "outputs": [
    {
     "name": "stderr",
     "output_type": "stream",
     "text": [
      "\n",
      "\n"
     ]
    }
   ],
   "source": [
    "sts_ko = Pororo(task=\"similarity\", lang=\"ko\")\n",
    "sts_en = Pororo(task=\"similarity\", lang=\"en\")"
   ]
  },
  {
   "cell_type": "markdown",
   "id": "1b6161cf",
   "metadata": {},
   "source": [
    "### 3. 의미적 텍스트 유사도"
   ]
  },
  {
   "cell_type": "code",
   "execution_count": 43,
   "id": "8c99384c",
   "metadata": {},
   "outputs": [
    {
     "data": {
      "text/plain": [
       "0.415"
      ]
     },
     "execution_count": 43,
     "metadata": {},
     "output_type": "execute_result"
    }
   ],
   "source": [
    "sts_ko(\"나는 동물을 좋아하는 사람이야\", \"강아지를 좋아하는 아버지\")"
   ]
  },
  {
   "cell_type": "code",
   "execution_count": 44,
   "id": "a559cb9c",
   "metadata": {},
   "outputs": [
    {
     "data": {
      "text/plain": [
       "0.215"
      ]
     },
     "execution_count": 44,
     "metadata": {},
     "output_type": "execute_result"
    }
   ],
   "source": [
    "sts_ko(\"빨리 주말이 왔으면 좋겠다\", \"저녁 뭐 먹지\")"
   ]
  },
  {
   "cell_type": "code",
   "execution_count": 47,
   "id": "e6632d6c",
   "metadata": {},
   "outputs": [
    {
     "data": {
      "text/plain": [
       "0.749"
      ]
     },
     "execution_count": 47,
     "metadata": {},
     "output_type": "execute_result"
    }
   ],
   "source": [
    "sts_ko(\"아메리카노 좋아 좋아 좋아\", \"싸구려 커피를 마신다\")"
   ]
  },
  {
   "cell_type": "code",
   "execution_count": 48,
   "id": "b99bb8cd",
   "metadata": {},
   "outputs": [
    {
     "data": {
      "text/plain": [
       "0.921"
      ]
     },
     "execution_count": 48,
     "metadata": {},
     "output_type": "execute_result"
    }
   ],
   "source": [
    "sts_en(\"Two dogs and one cat sitting on couch.\", \"Two dogs and a cat resting on a couch.\")"
   ]
  },
  {
   "cell_type": "code",
   "execution_count": 49,
   "id": "5c931e16",
   "metadata": {},
   "outputs": [
    {
     "data": {
      "text/plain": [
       "0.017"
      ]
     },
     "execution_count": 49,
     "metadata": {},
     "output_type": "execute_result"
    }
   ],
   "source": [
    "sts_en(\"I hope the weekend comes soon\", \"what to eat for dinner?\")"
   ]
  },
  {
   "cell_type": "code",
   "execution_count": 50,
   "id": "dcd4c901",
   "metadata": {},
   "outputs": [
    {
     "data": {
      "text/plain": [
       "0.835"
      ]
     },
     "execution_count": 50,
     "metadata": {},
     "output_type": "execute_result"
    }
   ],
   "source": [
    "sts_en(\"I like Starbucks better than Hollys\", \"I prefer Hollys than Starbucks\")"
   ]
  },
  {
   "cell_type": "markdown",
   "id": "ead51c16",
   "metadata": {},
   "source": [
    "## [Sentence Embedding](https://kakaobrain.github.io/pororo/text_cls/sent2vec.html)\n",
    "### 1. 이용 가능한 모델 확인"
   ]
  },
  {
   "cell_type": "code",
   "execution_count": 51,
   "id": "49dd1373",
   "metadata": {},
   "outputs": [
    {
     "data": {
      "text/plain": [
       "'Available models for sentence_embedding are ([lang]: en, [model]: stsb-roberta-base, stsb-roberta-large, stsb-bert-base, stsb-bert-large, stsb-distillbert-base), ([lang]: ko, [model]: brainsbert.base.ko.kornli.korsts), ([lang]: ja, [model]: jasbert.base.ja.nli.sts), ([lang]: zh, [model]: zhsbert.base.zh.nli.sts)'"
      ]
     },
     "execution_count": 51,
     "metadata": {},
     "output_type": "execute_result"
    }
   ],
   "source": [
    "Pororo.available_models(\"sentence_embedding\")"
   ]
  },
  {
   "cell_type": "markdown",
   "id": "d4fbe9f0",
   "metadata": {},
   "source": [
    "### 2. 객체 생성"
   ]
  },
  {
   "cell_type": "code",
   "execution_count": 52,
   "id": "96e82fb3",
   "metadata": {},
   "outputs": [
    {
     "name": "stderr",
     "output_type": "stream",
     "text": [
      "\n",
      "\n"
     ]
    },
    {
     "data": {
      "application/vnd.jupyter.widget-view+json": {
       "model_id": "c00413e4ac6246dab3302d3bfcf1cfda",
       "version_major": 2,
       "version_minor": 0
      },
      "text/plain": [
       "Downloading:   0%|          | 0.00/744 [00:00<?, ?B/s]"
      ]
     },
     "metadata": {},
     "output_type": "display_data"
    },
    {
     "data": {
      "application/vnd.jupyter.widget-view+json": {
       "model_id": "54c49c8c79904abe9990e461c90ec961",
       "version_major": 2,
       "version_minor": 0
      },
      "text/plain": [
       "Downloading:   0%|          | 0.00/3.90k [00:00<?, ?B/s]"
      ]
     },
     "metadata": {},
     "output_type": "display_data"
    },
    {
     "data": {
      "application/vnd.jupyter.widget-view+json": {
       "model_id": "c23720e4683148319b7c006163d30f34",
       "version_major": 2,
       "version_minor": 0
      },
      "text/plain": [
       "Downloading:   0%|          | 0.00/672 [00:00<?, ?B/s]"
      ]
     },
     "metadata": {},
     "output_type": "display_data"
    },
    {
     "data": {
      "application/vnd.jupyter.widget-view+json": {
       "model_id": "0c1cb91f88aa4499a13853058a49b7e3",
       "version_major": 2,
       "version_minor": 0
      },
      "text/plain": [
       "Downloading:   0%|          | 0.00/122 [00:00<?, ?B/s]"
      ]
     },
     "metadata": {},
     "output_type": "display_data"
    },
    {
     "data": {
      "application/vnd.jupyter.widget-view+json": {
       "model_id": "05a269f7d7304b61a91b4df0daac1959",
       "version_major": 2,
       "version_minor": 0
      },
      "text/plain": [
       "Downloading:   0%|          | 0.00/456k [00:00<?, ?B/s]"
      ]
     },
     "metadata": {},
     "output_type": "display_data"
    },
    {
     "data": {
      "application/vnd.jupyter.widget-view+json": {
       "model_id": "2fca9864181646d1a30417a21054f098",
       "version_major": 2,
       "version_minor": 0
      },
      "text/plain": [
       "Downloading:   0%|          | 0.00/229 [00:00<?, ?B/s]"
      ]
     },
     "metadata": {},
     "output_type": "display_data"
    },
    {
     "data": {
      "application/vnd.jupyter.widget-view+json": {
       "model_id": "918a364010e54ffc92b1f747ced2673c",
       "version_major": 2,
       "version_minor": 0
      },
      "text/plain": [
       "Downloading:   0%|          | 0.00/499M [00:00<?, ?B/s]"
      ]
     },
     "metadata": {},
     "output_type": "display_data"
    },
    {
     "data": {
      "application/vnd.jupyter.widget-view+json": {
       "model_id": "1a65c058c0cd43dd8804751a7ffc746e",
       "version_major": 2,
       "version_minor": 0
      },
      "text/plain": [
       "Downloading:   0%|          | 0.00/52.0 [00:00<?, ?B/s]"
      ]
     },
     "metadata": {},
     "output_type": "display_data"
    },
    {
     "data": {
      "application/vnd.jupyter.widget-view+json": {
       "model_id": "850ec884251b472e96ddf90ad2f3fee9",
       "version_major": 2,
       "version_minor": 0
      },
      "text/plain": [
       "Downloading:   0%|          | 0.00/239 [00:00<?, ?B/s]"
      ]
     },
     "metadata": {},
     "output_type": "display_data"
    },
    {
     "data": {
      "application/vnd.jupyter.widget-view+json": {
       "model_id": "d4eb145f22b741968d8e7ccbf4c0a778",
       "version_major": 2,
       "version_minor": 0
      },
      "text/plain": [
       "Downloading:   0%|          | 0.00/1.36M [00:00<?, ?B/s]"
      ]
     },
     "metadata": {},
     "output_type": "display_data"
    },
    {
     "data": {
      "application/vnd.jupyter.widget-view+json": {
       "model_id": "828d8ec864ff44c2986b667b622396bd",
       "version_major": 2,
       "version_minor": 0
      },
      "text/plain": [
       "Downloading:   0%|          | 0.00/1.17k [00:00<?, ?B/s]"
      ]
     },
     "metadata": {},
     "output_type": "display_data"
    },
    {
     "data": {
      "application/vnd.jupyter.widget-view+json": {
       "model_id": "f03cfe07f08e45bdb0b0a9f37e53b0bd",
       "version_major": 2,
       "version_minor": 0
      },
      "text/plain": [
       "Downloading:   0%|          | 0.00/798k [00:00<?, ?B/s]"
      ]
     },
     "metadata": {},
     "output_type": "display_data"
    },
    {
     "data": {
      "application/vnd.jupyter.widget-view+json": {
       "model_id": "b3e2c2f355de44fbab628e8f50f550ec",
       "version_major": 2,
       "version_minor": 0
      },
      "text/plain": [
       "Downloading:   0%|          | 0.00/190 [00:00<?, ?B/s]"
      ]
     },
     "metadata": {},
     "output_type": "display_data"
    }
   ],
   "source": [
    "se_ko = Pororo(task=\"sentence_embedding\", lang=\"ko\")\n",
    "se_en = Pororo(task=\"sentence_embedding\", lang=\"en\")"
   ]
  },
  {
   "cell_type": "markdown",
   "id": "3c9bac51",
   "metadata": {},
   "source": [
    "### 3. 문장 임베딩"
   ]
  },
  {
   "cell_type": "code",
   "execution_count": 53,
   "id": "84238b91",
   "metadata": {},
   "outputs": [
    {
     "data": {
      "text/plain": [
       "array([-1.11333758e-01, -1.35307372e-01, -7.16666281e-01,  4.40386869e-02,\n",
       "       -3.23292576e-02,  7.28820562e-02,  7.84086064e-02,  1.85461298e-01,\n",
       "        2.15100035e-01,  1.87195837e-01,  2.51216531e-01,  1.10763721e-01,\n",
       "       -2.04379261e-01, -2.05295190e-01, -1.47498831e-01,  5.79995476e-02,\n",
       "        1.75289258e-01,  1.04383618e-01,  2.93260515e-01,  4.02837098e-02,\n",
       "       -2.40168825e-01, -1.90112218e-01, -4.69484478e-02, -1.42773092e-01,\n",
       "        3.78997773e-02,  9.07172486e-02, -1.47194222e-01,  2.66549766e-01,\n",
       "        5.33436164e-02, -6.24033175e-02,  1.97511062e-01,  1.39006460e-02,\n",
       "       -7.20208213e-02,  2.33352751e-01,  2.96607524e-01,  2.02621520e-01,\n",
       "       -1.52824238e-01, -4.48255055e-02, -3.64014894e-01,  3.27529907e-01,\n",
       "       -4.52227332e-02, -2.09124386e-01,  7.84826636e-01, -1.07783321e-02,\n",
       "        1.64855585e-01,  2.65738852e-02,  1.12240359e-01, -3.45210344e-01,\n",
       "       -5.95277585e-02,  2.34145168e-02, -1.71330944e-03, -1.60204887e-01,\n",
       "        4.32447821e-01,  1.88542739e-01, -8.54264423e-02, -8.56342241e-02,\n",
       "        2.60120511e-01,  4.85690683e-01, -1.26831904e-01,  2.31105909e-01,\n",
       "       -4.52107608e-01,  6.08082041e-02, -8.74029994e-02,  2.41496023e-02,\n",
       "       -8.48805234e-02,  1.99168682e-01, -1.27451897e-01, -1.54735059e-01,\n",
       "       -6.92376122e-02,  1.85178995e-01,  2.71239191e-01,  4.81924176e-01,\n",
       "        1.68670326e-01,  1.73516646e-01, -2.36605294e-02,  2.46620700e-01,\n",
       "       -4.48313415e-01,  1.46738783e-01,  9.05827284e-02, -3.25910300e-01,\n",
       "       -1.61424838e-02, -2.88707435e-01,  5.11114262e-02,  7.93408826e-02,\n",
       "       -1.03018790e-01, -2.56343722e-01,  2.68270597e-02,  2.61829972e-01,\n",
       "        3.37121695e-01,  1.57264933e-01, -1.59901112e-01, -2.11522490e-01,\n",
       "       -5.47513925e-02,  1.99700966e-01,  2.99209744e-01,  1.87386706e-01,\n",
       "        5.82413338e-02, -5.91129810e-02, -5.45216322e-01,  2.37120971e-01,\n",
       "       -1.55337200e-01,  8.64304975e-02,  2.16048047e-01,  2.61377711e-02,\n",
       "        3.98154348e-01, -4.30101380e-02,  4.48955111e-02,  2.75057346e-01,\n",
       "       -1.97061524e-02, -1.36639327e-01,  9.28882882e-02, -8.88139084e-02,\n",
       "        2.32341588e-01,  1.45074978e-01,  4.48841602e-02,  2.16145992e-01,\n",
       "       -7.35281594e-03, -2.97616988e-01,  3.53725394e-03,  2.41734073e-01,\n",
       "       -1.56372070e-01,  1.78964838e-01, -2.11475030e-01, -2.67747253e-01,\n",
       "       -2.15132013e-01, -1.32571280e-01,  1.00355633e-01,  2.46918544e-01,\n",
       "       -5.17349064e-01,  1.13370225e-01,  5.71575500e-02, -1.15262382e-01,\n",
       "        8.36099088e-02, -3.10449619e-02, -3.47785503e-02, -1.36494726e-01,\n",
       "        7.17347413e-02,  1.66219682e-01,  2.10748496e-03, -1.43485487e-01,\n",
       "        3.59865874e-01,  7.60391578e-02,  2.26823270e-01, -5.42865336e-01,\n",
       "        6.08651377e-02, -8.89869556e-02,  2.19483990e-02,  7.73390904e-02,\n",
       "        1.20111160e-01, -6.52416050e-02, -4.28115092e-02,  5.54305874e-02,\n",
       "        1.42924696e-01,  1.76649764e-01, -3.42917264e-01, -3.46875608e-01,\n",
       "       -4.29002196e-01, -4.86988164e-02, -1.19260408e-01,  6.07911795e-02,\n",
       "        3.97730082e-01, -2.01792240e-01, -3.47251087e-01,  4.67686281e-02,\n",
       "        2.50760436e-01, -2.85576638e-02, -1.56452402e-01,  6.66543543e-01,\n",
       "       -3.67679112e-02, -3.23019117e-01, -4.97527979e-02,  9.45077837e-02,\n",
       "       -1.65257379e-02, -2.42753744e-01,  8.88338536e-02, -1.55853750e-02,\n",
       "       -1.01053976e-01, -8.54684263e-02, -1.56439051e-01, -1.04148105e-01,\n",
       "       -5.50231449e-02, -2.30965987e-01,  2.62138266e-02,  3.67501765e-01,\n",
       "       -1.72853574e-01, -9.45881531e-02,  1.64120302e-01,  2.65348315e-01,\n",
       "        1.00060388e-01, -4.24062848e-01,  1.61433473e-01, -7.82782584e-02,\n",
       "       -2.44027078e-01, -1.09045506e-01, -2.15529203e-01, -7.50811119e-03,\n",
       "        9.18326303e-02, -6.77025735e-01, -4.59391586e-02, -2.92665660e-01,\n",
       "        1.78304002e-01,  1.11224413e-01, -1.56589393e-02, -1.74909875e-01,\n",
       "       -1.53358370e-01,  1.46731064e-01, -2.04277948e-01,  2.02588663e-01,\n",
       "        1.74606189e-01, -5.70419170e-02, -1.29353806e-01,  2.01011181e-01,\n",
       "       -2.74721593e-01,  1.66240275e-01,  1.60255318e-03,  1.49869859e-01,\n",
       "       -9.66543034e-02, -3.26001257e-01, -1.49526289e-02,  4.36390877e-01,\n",
       "        3.07795972e-01, -1.80865551e-04,  2.68365979e-01, -1.75762668e-01,\n",
       "        2.31003284e-01,  5.33760153e-03,  2.85232425e-01,  1.29352227e-01,\n",
       "       -1.81864351e-01,  2.88982183e-01,  2.10411083e-02, -6.32429644e-02,\n",
       "       -1.76055163e-01, -2.18446597e-01,  3.39348674e-01,  2.17244431e-01,\n",
       "       -2.09055483e-01, -3.34445387e-02, -2.10360616e-01,  7.30277523e-02,\n",
       "       -1.43068328e-01, -1.89699635e-01, -2.08724156e-01, -2.26045232e-02,\n",
       "        7.42747858e-02, -4.58570719e-02, -1.90376025e-02, -2.95134425e-01,\n",
       "        2.40944862e-01, -7.64751509e-02, -1.13796644e-01, -4.47684735e-01,\n",
       "       -1.27306459e-02, -1.51069254e-01,  5.04106889e-03,  1.00479394e-01,\n",
       "        4.57536429e-02, -7.82431066e-02, -2.18672752e-01, -1.39298499e-01,\n",
       "        1.43266067e-01, -2.69093156e-01, -5.53255454e-02,  1.90756649e-01,\n",
       "        2.76663620e-02,  1.03697531e-01, -6.01331750e-03, -7.31839687e-02,\n",
       "       -3.70419733e-02, -2.95757707e-02, -2.28271052e-01,  3.04257303e-01,\n",
       "       -2.87038758e-02,  4.15073842e-01, -5.14132008e-02, -1.57753691e-01,\n",
       "       -5.43655306e-02, -2.10525423e-01, -7.25814775e-02,  1.33105814e-01,\n",
       "       -3.49743843e-01,  1.39185905e-01,  1.01366013e-01,  2.72481382e-01,\n",
       "       -1.33254424e-01,  4.99636978e-02,  1.14949413e-01, -1.65343657e-02,\n",
       "       -1.30869940e-01, -2.03420341e-01,  1.08199529e-01, -7.83974454e-02,\n",
       "        6.84300587e-02,  3.79358865e-02, -4.53643113e-01, -6.39492832e-03,\n",
       "        2.39825144e-01,  1.20026479e-02, -2.84762651e-01, -6.21344568e-03,\n",
       "       -1.11683674e-01,  2.96717346e-01, -4.91912700e-02, -1.34235814e-01,\n",
       "        1.04613908e-01,  7.83465132e-02, -2.26608533e-02,  2.19521865e-01,\n",
       "        1.65418133e-01, -2.65412801e-03,  1.77082211e-01, -1.53812990e-01,\n",
       "        4.08975333e-02,  1.11081168e-01,  6.21567257e-02, -8.29686671e-02,\n",
       "       -1.10121958e-01, -4.43228811e-01,  2.04287037e-01, -1.32398829e-01,\n",
       "        4.61397290e-01, -7.80150473e-01, -4.18488204e-01, -6.06348515e-02,\n",
       "        1.41522020e-01,  2.39143133e-01,  5.96718453e-02,  1.89114273e-01,\n",
       "       -1.89177189e-02,  6.53399825e-02,  3.78068313e-02, -2.48746917e-01,\n",
       "        4.81787920e-02,  2.53994192e-04,  1.07165292e-01, -1.55722871e-01,\n",
       "        2.64263362e-01,  1.20129608e-01, -3.53215247e-01,  6.68864325e-02,\n",
       "        2.67066360e-01,  1.34266153e-01, -7.15048611e-02,  8.46907198e-01,\n",
       "        2.21265834e-02,  4.01764661e-02, -1.10932946e-01, -4.22004908e-02,\n",
       "        2.27355227e-01, -1.83697000e-01, -1.16957016e-01, -1.05551533e-01,\n",
       "        1.68118462e-01,  1.08925052e-01,  5.35291098e-02,  1.07794039e-01,\n",
       "       -1.60305545e-01, -1.13247879e-01,  1.73400879e-01,  2.65157253e-01,\n",
       "       -3.05971175e-01, -5.61994672e-01,  3.47220302e-01,  3.68648171e-01,\n",
       "       -2.85664618e-01,  5.15262596e-02, -3.32934052e-01,  3.99338454e-02,\n",
       "       -1.09203242e-01, -2.04518020e-01, -9.88398567e-02, -1.40789710e-02,\n",
       "        1.56887084e-01,  2.07189277e-01,  3.24961782e-01,  2.64904886e-01,\n",
       "       -1.26442511e-03, -1.14251785e-01,  1.56874403e-01, -3.97349447e-01,\n",
       "        1.74219921e-01,  8.39341581e-02, -1.71455219e-01, -4.77401577e-02,\n",
       "       -2.35446706e-01,  3.74646068e-01,  7.36861154e-02, -1.17717907e-01,\n",
       "        1.06143616e-01, -2.52400413e-02,  1.97416455e-01,  5.10575138e-02,\n",
       "       -1.74677521e-01, -4.56434228e-02,  1.52297258e-01, -5.15685715e-02,\n",
       "        1.07889943e-01,  8.39033648e-02,  4.32736129e-01,  4.61486578e-02,\n",
       "       -1.99990511e-01, -3.24600220e-01, -1.41434342e-01, -3.68596196e-01,\n",
       "        1.39877692e-01, -6.12870678e-02, -1.49973169e-01,  8.99178088e-02,\n",
       "       -2.69610196e-01, -2.52995044e-01,  1.97276786e-01, -1.59833252e-01,\n",
       "        2.83336341e-01, -4.07112995e-03,  7.15611503e-02,  3.28049064e-02,\n",
       "       -2.57668495e-01, -1.45892143e-01, -3.15878272e-01, -2.35259682e-01,\n",
       "       -5.55523038e-01, -2.58538216e-01,  2.59604007e-01, -5.03956079e-01,\n",
       "        3.66879366e-02, -2.17499509e-01, -2.35467240e-01, -9.32999775e-02,\n",
       "       -1.09087422e-01, -6.73208311e-02,  4.15234387e-01, -9.05736461e-02,\n",
       "        1.60370991e-01, -7.72744743e-03, -1.02771588e-01, -2.63116717e-01,\n",
       "       -3.93344700e-01, -4.28906530e-01, -1.39525114e-02, -3.45387518e-01,\n",
       "       -3.84358376e-01, -1.13859229e-01,  7.34144971e-02,  4.44537923e-02,\n",
       "       -2.05487907e-01, -6.58327043e-02, -3.12434703e-01, -2.32332289e-01,\n",
       "       -2.25984573e-01, -1.49036460e-02,  6.27893731e-02, -4.80265170e-02,\n",
       "        1.29199177e-01,  4.21440601e-01, -4.98683564e-02, -1.84757963e-01,\n",
       "        1.01742841e-01, -8.41502007e-03,  1.28445849e-01,  1.34067126e-02,\n",
       "       -5.98097816e-02, -4.04266357e-01,  1.02142222e-01, -4.23431993e-02,\n",
       "       -7.92050909e-04, -1.67311151e-02,  1.27950802e-01, -1.95213649e-02,\n",
       "        1.52527532e-02,  2.14648545e-01,  2.48431996e-03,  1.18709326e-01,\n",
       "        2.25504506e-02,  4.85316142e-02,  7.52924606e-02, -2.17721835e-01,\n",
       "       -8.26056719e-01,  7.07420632e-02,  8.91698450e-02, -2.81080365e-01,\n",
       "        8.06639194e-02, -8.85762572e-02, -1.88590914e-01, -1.44587368e-01,\n",
       "        7.40958080e-02, -1.73731759e-01,  2.65579045e-01,  1.37721539e-01,\n",
       "        2.11421289e-02, -1.01196043e-01,  5.32152891e-01, -1.45496195e-02,\n",
       "       -1.93879947e-01, -2.13871896e-01,  2.08932310e-01, -1.39702454e-01,\n",
       "        2.10951149e-01,  7.07453936e-02, -6.15756363e-02,  1.25160277e-01,\n",
       "       -2.15574160e-01,  3.79335582e-01,  4.39914502e-02,  4.66290981e-01,\n",
       "       -4.73803170e-02, -5.39132893e-01,  2.28988633e-01, -8.44447911e-02,\n",
       "       -1.26557857e-01,  2.92079598e-01, -2.16348156e-01, -3.84262562e-01,\n",
       "        1.88694168e-02, -8.15721303e-02, -1.00022890e-01, -3.04280072e-01,\n",
       "        1.50763929e-01,  2.32123181e-01,  1.76672518e-01,  2.92183489e-01,\n",
       "       -2.92677999e-01, -3.19027901e-01, -3.26176971e-01,  5.43310195e-02,\n",
       "        1.27463445e-01,  4.04372901e-01,  8.53409022e-02, -2.62095660e-01,\n",
       "        1.45853966e-01, -5.34405336e-02,  1.59393828e-02,  9.03123170e-02,\n",
       "       -7.53810883e-01, -2.72898465e-01, -4.11197431e-02, -1.90049216e-01,\n",
       "        3.67429107e-03, -2.15112582e-01, -1.77267686e-01,  9.70806181e-02,\n",
       "        2.48322070e-01,  1.20335035e-01, -4.55077678e-01,  1.22599609e-01,\n",
       "       -8.31396654e-02, -8.53902474e-02,  1.78220406e-01, -2.39065871e-01,\n",
       "       -1.00454517e-01, -7.95614421e-02,  2.02779882e-02,  2.88537741e-02,\n",
       "       -2.17493400e-01, -6.56635463e-02, -1.50216803e-01,  2.11243913e-01,\n",
       "        5.48192896e-02, -2.50990897e-01,  7.97650963e-02, -7.13460520e-02,\n",
       "        6.61558434e-02, -3.34631302e-04,  2.38677368e-01, -1.99951112e-01,\n",
       "       -3.42035860e-01, -3.88126597e-02, -3.41733396e-02,  4.94475327e-02,\n",
       "       -1.33734077e-01, -1.86009228e-01,  3.37362498e-01, -2.90240109e-01,\n",
       "       -4.21286412e-02,  2.69145131e-01, -3.28581706e-02,  3.24836046e-01,\n",
       "       -3.28819416e-02,  2.14089736e-01,  4.18625087e-01, -1.19587280e-01,\n",
       "       -1.34838954e-01,  1.55801907e-01, -1.55382603e-01, -1.22614287e-01,\n",
       "       -2.22245932e-01, -1.69279143e-01,  7.74489567e-02, -1.83831990e-01,\n",
       "       -8.81922338e-03,  1.65194049e-01,  4.70648259e-01, -7.31362253e-02,\n",
       "        8.91119018e-02, -6.16797209e-02,  3.25441569e-01,  1.08588956e-01,\n",
       "       -2.55311757e-01, -3.84431481e-01, -1.01159982e-01,  8.18258822e-02,\n",
       "       -7.11364225e-02, -2.82958269e-01,  1.46659533e-03, -9.07858927e-03,\n",
       "        8.22941028e-03, -6.62667975e-02, -3.19010973e-01, -7.68670440e-03,\n",
       "       -3.48223418e-01,  4.51395869e-01, -8.38331655e-02, -2.06517786e-01,\n",
       "       -1.57478526e-01, -8.10041353e-02,  7.02114478e-02, -2.08673716e-01,\n",
       "        6.15775809e-02, -5.27698025e-02, -1.11197596e-02,  4.19131279e-01,\n",
       "        3.43175512e-03,  3.89944762e-01, -8.78504813e-02, -2.75946688e-02,\n",
       "        1.16743296e-01,  3.54248315e-01,  2.02721030e-01, -1.83534712e-01,\n",
       "        5.43466248e-02, -2.99195051e-02, -4.48430441e-02, -8.74570310e-02,\n",
       "        4.54928502e-02, -7.04823881e-02, -4.19937968e-01,  1.68173477e-01,\n",
       "       -3.68770391e-01, -6.90683573e-02,  1.79727018e-01,  5.97802596e-03,\n",
       "       -7.02330470e-02, -1.72988579e-01,  1.25371784e-01, -2.46391475e-01,\n",
       "        1.89068466e-01,  1.59968823e-01,  2.48148829e-01,  5.88669293e-02,\n",
       "       -9.12026092e-02, -1.57733038e-01, -7.77109921e-01,  4.71335888e-01,\n",
       "       -7.06220465e-03, -6.07542753e-01,  3.13604288e-02, -7.80753791e-02,\n",
       "       -1.80869907e-01, -6.73285425e-02,  3.37870903e-02,  1.66122377e-01,\n",
       "       -3.15174065e-03, -9.48192850e-02, -3.45880657e-01, -1.54406726e-01,\n",
       "        4.16745454e-01, -5.71511872e-02,  8.39127004e-02, -4.96865243e-01,\n",
       "       -3.03101808e-01,  5.02142459e-02, -8.75157118e-02,  1.34887159e-01,\n",
       "       -1.56196401e-01,  2.39631325e-01, -1.15963653e-01, -6.06995113e-02,\n",
       "       -1.68071032e-01, -3.52116704e-01,  1.09787792e-01,  2.32351646e-02,\n",
       "       -4.93462294e-01,  1.52522981e-01,  6.51855916e-02,  3.14801067e-01,\n",
       "       -3.73113081e-02,  1.09604165e-01,  4.28854339e-02,  3.96831408e-02,\n",
       "        1.15089178e-01, -1.37114018e-01, -2.37315997e-01, -6.16297945e-02,\n",
       "       -2.58293718e-01, -2.31904257e-02, -2.19438463e-01,  2.66748499e-02,\n",
       "       -2.87229329e-01, -2.72064179e-01, -1.74186602e-01,  3.21470946e-02,\n",
       "       -1.58944204e-01,  5.77372797e-02,  4.72801477e-01, -1.35842085e-01,\n",
       "        1.28228322e-01, -4.37245667e-01,  6.89071938e-02, -2.91007727e-01,\n",
       "        2.23119389e-02, -5.09175770e-02, -1.78916797e-01,  6.54073283e-02,\n",
       "        1.91317737e-01, -1.80955734e-02,  8.54266211e-02, -2.28772298e-01,\n",
       "       -5.45514859e-02, -2.09052730e-02,  4.58917841e-02,  3.66775334e-01,\n",
       "       -1.11038208e-01, -1.70071945e-01, -2.26191044e-01, -1.24505885e-01,\n",
       "       -4.94154066e-01,  6.32990450e-02, -1.85273170e-01,  8.59100595e-02,\n",
       "       -3.41144592e-01, -7.35076010e-01, -1.65396854e-01, -8.51394236e-02,\n",
       "       -1.65402561e-01,  2.76030213e-01,  1.14297740e-01,  1.68553218e-01,\n",
       "       -2.18918603e-02,  4.51449119e-02,  8.94271359e-02, -1.15818292e-01,\n",
       "        1.74124226e-01,  5.20001501e-02,  5.29438913e-01,  4.73027490e-02,\n",
       "       -9.74903777e-02, -8.13904926e-02, -1.82421284e-03, -1.13748483e-01,\n",
       "       -3.73065114e-01, -2.58745104e-01, -6.10900745e-02,  2.35840842e-01,\n",
       "       -2.41197109e-01, -2.28810143e-02,  4.46761213e-02,  1.15721442e-01,\n",
       "       -4.15717334e-01,  4.79023121e-02, -1.73460022e-01,  1.10939719e-01,\n",
       "       -1.13284327e-01,  2.21747264e-01,  2.66482443e-01,  7.11636022e-02,\n",
       "        1.36740386e-01,  8.26312378e-02, -1.32175952e-01, -3.44360292e-01],\n",
       "      dtype=float32)"
      ]
     },
     "execution_count": 53,
     "metadata": {},
     "output_type": "execute_result"
    }
   ],
   "source": [
    "se_ko(\"나는 칵테일을 좋아하는 사람이야\")"
   ]
  },
  {
   "cell_type": "code",
   "execution_count": 54,
   "id": "ed11669a",
   "metadata": {},
   "outputs": [
    {
     "data": {
      "text/plain": [
       "array([ 7.80217588e-01,  7.32849464e-02, -8.01883757e-01,  8.56393874e-01,\n",
       "        6.60546780e-01,  1.44161963e+00, -6.75821066e-01, -5.98490119e-01,\n",
       "       -1.03425372e+00, -7.70245790e-01, -1.07619655e+00,  5.10522485e-01,\n",
       "        8.12755227e-02,  5.32469392e-01, -4.27171201e-01,  1.48525953e+00,\n",
       "       -1.29110718e+00,  1.13370693e+00, -1.82235718e-01,  1.22072828e+00,\n",
       "       -7.79307544e-01,  6.45991385e-01,  1.50008941e+00,  4.50024158e-01,\n",
       "        7.67633677e-01, -5.10136008e-01, -1.21352367e-01, -3.06882709e-01,\n",
       "        3.62064838e-02, -1.57526523e-01, -1.63681650e+00, -4.75979447e-01,\n",
       "        5.97763658e-01,  4.51422721e-01, -6.70185983e-01, -2.34835580e-01,\n",
       "       -1.61100760e-01, -2.05329680e+00,  6.88002825e-01, -2.61599898e-01,\n",
       "       -1.18386555e+00,  1.29555777e-01,  7.65036419e-02,  1.27786815e-01,\n",
       "       -1.01904936e-01, -2.29878306e-01, -2.58991480e-01, -4.36614692e-01,\n",
       "        4.67166342e-02,  5.14221847e-01,  5.69943190e-01,  1.40233099e+00,\n",
       "       -3.22453052e-01,  3.06527942e-01, -8.38185251e-01,  1.01470029e+00,\n",
       "       -3.14197063e-01, -4.93169188e-01,  1.07398951e+00, -1.26208997e+00,\n",
       "        8.68739307e-01,  5.33049107e-01, -5.00849068e-01,  4.10334051e-01,\n",
       "        4.92448390e-01, -1.21002711e-01, -1.98704705e-01, -1.92782056e+00,\n",
       "       -6.05810821e-01, -1.78156585e-01, -1.24869734e-01,  1.88544579e-02,\n",
       "        6.85295582e-01,  1.90938747e+00, -5.41843884e-02,  9.20992970e-01,\n",
       "        6.88117445e-01,  7.41703868e-01, -9.89445210e-01, -5.63764572e-01,\n",
       "       -2.24842399e-01, -2.47518271e-01, -9.19088006e-01, -1.05549538e+00,\n",
       "        2.10471839e-01, -2.19880342e+00,  2.50048935e-01,  3.20466816e-01,\n",
       "       -4.84064519e-01, -1.99414599e+00, -2.60158777e-01,  1.29652336e-01,\n",
       "       -1.36262625e-01, -1.21782413e-02, -1.77957964e+00,  3.51939142e-01,\n",
       "        1.16928816e-01, -9.81812894e-01,  4.20704573e-01,  8.18510711e-01,\n",
       "        1.68028519e-01,  7.98036158e-01, -4.83380586e-01, -4.40685987e-01,\n",
       "        3.91750872e-01, -9.03253317e-01, -3.24575305e-01,  1.00837506e-01,\n",
       "        5.25095761e-01,  1.44251823e+00,  9.98368859e-01, -9.26034927e-01,\n",
       "       -2.69835085e-01, -1.41684534e-02, -1.53606251e-01,  4.48456585e-01,\n",
       "       -5.41602552e-01,  3.60614173e-02, -3.21132392e-02, -1.62179887e+00,\n",
       "       -9.96090844e-02,  4.93321419e-01, -8.49974602e-02, -3.37986320e-01,\n",
       "       -3.00293535e-01,  3.63990664e-02,  2.22521394e-01, -5.53925514e-01,\n",
       "       -6.52193904e-01, -1.31843194e-01, -8.25850725e-01, -1.40878677e+00,\n",
       "       -6.07962310e-01, -1.30011231e-01, -9.46400404e-01, -6.99871778e-01,\n",
       "        7.21791029e-01,  9.48279738e-01,  3.89050208e-02, -8.30164552e-02,\n",
       "       -9.62254405e-02,  3.07368934e-02,  1.08262032e-01,  3.77340198e-01,\n",
       "       -3.57979201e-02,  9.39172149e-01, -6.97991490e-01,  5.00740716e-04,\n",
       "       -1.45231998e+00, -1.51064739e-01, -2.66377002e-01,  7.05373406e-01,\n",
       "        2.20637724e-01, -8.06837380e-01, -8.35527420e-01,  5.16442657e-01,\n",
       "       -7.03259945e-01, -6.20794535e-01,  8.40366125e-01,  4.73157704e-01,\n",
       "       -2.49887824e-01,  6.14417911e-01,  2.04605624e-01, -1.00368881e+00,\n",
       "        4.58573028e-02, -1.16752297e-01, -9.29984927e-01,  8.99610341e-01,\n",
       "        2.08698094e-01,  1.01461852e+00, -4.53508973e-01,  1.33913910e+00,\n",
       "        4.90502000e-01, -3.29333603e-01, -8.82294402e-02,  2.28457674e-01,\n",
       "        3.05782676e-01,  5.06656587e-01,  4.87884909e-01, -3.83238971e-01,\n",
       "        7.00949430e-01, -2.93836862e-01,  7.75621653e-01,  2.99395800e-01,\n",
       "        3.86439204e-01, -8.24962676e-01, -9.80441347e-02, -3.22998554e-01,\n",
       "        3.98177564e-01, -9.01095510e-01, -1.22656286e+00,  3.62196982e-01,\n",
       "       -8.99745598e-02, -3.65116090e-01, -3.55416924e-01, -5.37810564e-01,\n",
       "       -3.39058578e-01,  3.76818210e-01,  9.40966487e-01,  3.05410981e-01,\n",
       "       -3.99629772e-01,  1.03371918e+00,  5.24397194e-01,  2.70656407e-01,\n",
       "        1.27905011e+00,  1.00918794e+00,  1.17862606e+00, -7.06518888e-01,\n",
       "       -1.06211030e+00, -1.16898751e+00,  6.70600414e-01,  4.33824480e-01,\n",
       "       -9.16180074e-01,  1.33944139e-01, -7.99697340e-01, -1.24536777e+00,\n",
       "        6.59599602e-01,  3.96067828e-01,  4.09932256e-01,  3.89958054e-01,\n",
       "        3.59288663e-01,  3.51773351e-01, -8.45705450e-01, -4.39951509e-01,\n",
       "        1.92643940e-01, -5.57950079e-01, -7.42234066e-02, -1.53700724e-01,\n",
       "       -1.05541661e-01,  6.97097927e-02,  3.66079390e-01,  2.03965977e-01,\n",
       "        5.02528489e-01, -1.46637976e+00, -3.66413772e-01,  4.99615550e-01,\n",
       "        3.01650614e-01, -3.55683118e-01,  1.25347465e-01, -6.21759593e-01,\n",
       "       -1.62019944e+00,  4.00174469e-01,  1.26080608e+00, -2.93038905e-01,\n",
       "       -4.21376854e-01, -2.01498866e+00,  5.78697443e-01,  6.79101288e-01,\n",
       "       -4.15453076e-01,  8.39208484e-01, -4.44153510e-02,  6.07591152e-01,\n",
       "        7.24361241e-01, -8.53444114e-02, -4.82455939e-01,  5.06158471e-01,\n",
       "        7.09659159e-01, -4.80379462e-01, -1.55562639e+00, -6.15126908e-01,\n",
       "       -1.94695294e-01, -4.80055958e-02, -5.62457561e-01, -1.23590207e+00,\n",
       "        1.51758209e-01,  2.06090778e-01, -4.57237452e-01, -4.82970268e-01,\n",
       "       -2.71289706e-01,  2.07118124e-01, -7.07379580e-01, -3.31495374e-01,\n",
       "        6.24131203e-01, -1.55981588e+00,  5.24232328e-01, -2.13281646e-01,\n",
       "       -1.24906853e-01,  1.69060028e+00, -3.13427955e-01,  9.77700710e-01,\n",
       "       -4.26696777e-01,  7.04571486e-01,  8.31881315e-02, -5.03835261e-01,\n",
       "        4.39181030e-01, -3.94896358e-01, -3.89107108e-01, -3.10052544e-01,\n",
       "        8.74149650e-02, -4.74817574e-01,  4.92939025e-01,  1.71311945e-01,\n",
       "        1.09673059e+00, -8.36752504e-02, -6.53419942e-02, -5.74786425e-01,\n",
       "        1.10734773e+00, -3.22694719e-01,  6.76284850e-01,  4.44566518e-01,\n",
       "       -7.40787804e-01,  1.83299258e-01, -7.23219991e-01,  1.66852236e-01,\n",
       "        6.17189586e-01,  1.97399884e-01, -8.14426959e-01, -2.18005791e-01,\n",
       "       -5.14894910e-03, -1.13350785e+00, -4.88975853e-01,  2.94665154e-02,\n",
       "        2.23925188e-01, -1.25904948e-01, -1.36300933e+00, -3.78795564e-01,\n",
       "        7.33291328e-01, -1.09972095e+00,  2.37243578e-01,  3.39302793e-02,\n",
       "       -1.90079883e-01,  1.21138096e+00, -2.90577918e-01, -3.83967489e-01,\n",
       "        7.08114207e-02,  1.53877378e-01,  2.59467304e-01,  2.34502956e-01,\n",
       "        2.80784488e-01, -2.85343051e-01,  8.42657804e-01,  2.50903702e+00,\n",
       "        6.57955587e-01, -3.05045366e-01,  1.06614575e-01,  2.70054191e-02,\n",
       "        1.16437543e-02,  7.61524141e-01,  1.40936506e+00, -7.28306651e-01,\n",
       "        9.59209800e-02,  5.82344353e-01,  4.07725930e-01,  7.31778622e-01,\n",
       "        1.05245382e-01, -7.32652962e-01,  2.11694956e-01,  8.27775061e-01,\n",
       "       -5.15283942e-01,  1.18622446e+00, -3.95689130e-01,  1.42737377e+00,\n",
       "       -7.31202662e-01, -1.01704478e+00, -5.87251425e-01, -6.23818338e-01,\n",
       "       -1.95580319e-01, -4.40432221e-01,  1.07708764e+00,  6.70469999e-01,\n",
       "        1.89163342e-01,  6.27232850e-01,  1.04971260e-01, -1.35007918e+00,\n",
       "        6.10927343e-01, -4.08888161e-01, -3.88727963e-01,  4.03863788e-02,\n",
       "        3.45819950e-01, -2.94388495e-02,  1.52177262e+00, -8.33819389e-01,\n",
       "        8.90569627e-01,  1.00727245e-01, -4.46277916e-01,  8.46974477e-02,\n",
       "        9.15167183e-02,  2.16119647e-01,  1.31220952e-01, -7.06163466e-01,\n",
       "        1.84761673e-01, -3.58331233e-01, -4.64082956e-01,  3.77452254e-01,\n",
       "        3.39177474e-02,  1.02716875e+00,  5.62937498e-01, -7.29857504e-01,\n",
       "        4.44798172e-02,  6.32311463e-01,  1.57362556e+00,  3.73921603e-01,\n",
       "       -9.52723205e-01,  6.23324156e-01, -1.40012383e-01, -5.38250387e-01,\n",
       "       -3.29178005e-01,  3.68952900e-01,  4.31005895e-01, -5.27312756e-01,\n",
       "        7.02022314e-01,  1.70182943e-01,  6.04662240e-01, -1.00564885e+00,\n",
       "        4.46629584e-01, -1.65285468e-01,  1.52880728e+00,  2.48997644e-01,\n",
       "        1.84276700e+00,  6.32474244e-01,  1.03285575e+00,  1.05641508e+00,\n",
       "        3.15017581e-01, -3.88604730e-01, -1.05563462e-01,  6.43870831e-01,\n",
       "        3.35512131e-01,  1.38639823e-01,  6.32508636e-01, -1.05981648e+00,\n",
       "       -5.86748183e-01,  6.08427227e-01,  4.98899609e-01, -4.66024041e-01,\n",
       "        1.50201499e+00,  1.30172145e+00,  6.19124711e-01, -4.62675467e-02,\n",
       "       -1.86670041e+00,  1.39840320e-01,  6.08343124e-01,  2.30644107e-01,\n",
       "        3.16323340e-02,  1.69772542e+00,  7.01327264e-01, -4.28506033e-03,\n",
       "        6.82487547e-01, -4.06654418e-01, -8.82023335e-01, -7.51644969e-01,\n",
       "        6.91833440e-03,  1.32403803e+00,  8.28062445e-02, -2.49501303e-01,\n",
       "       -8.96212757e-02,  4.61378276e-01,  6.99376166e-01,  3.27401876e-01,\n",
       "       -2.79581964e-01,  1.79474086e-01,  1.28850269e+00, -1.18395224e-01,\n",
       "       -4.51334007e-02, -1.93385196e+00, -4.25602645e-02,  1.21689296e+00,\n",
       "        5.61985373e-01, -7.59411931e-01, -3.68454337e-01,  6.62001297e-02,\n",
       "        3.73679072e-01,  7.35923588e-01,  8.26979578e-01,  6.30554438e-01,\n",
       "       -7.40689278e-01,  1.07631043e-01, -4.36317742e-01,  8.23225617e-01,\n",
       "        3.31241220e-01,  1.49160177e-01, -1.15362935e-01,  1.27375156e-01,\n",
       "       -6.54096723e-01,  4.88764137e-01, -7.55357891e-02,  5.50251245e-01,\n",
       "       -5.53008199e-01, -1.09415375e-01,  9.42926526e-01, -7.01845288e-01,\n",
       "       -3.83576393e-01,  2.05741286e-01, -1.66382030e-01,  1.98636055e-01,\n",
       "       -4.93099004e-01,  3.17363918e-01, -9.93476570e-01, -7.67619073e-01,\n",
       "       -3.49853665e-01,  6.52512014e-01, -8.07753444e-01, -1.18698299e+00,\n",
       "       -6.65767670e-01,  3.71821642e-01, -1.49157226e-01,  5.15317976e-01,\n",
       "        1.40913159e-01,  1.82551062e+00,  3.04869682e-01,  1.94518238e-01,\n",
       "        4.39105257e-02,  1.43925726e+00,  4.40905213e-01,  1.77260056e-01,\n",
       "       -6.94461823e-01,  4.42552477e-01, -1.53587356e-01, -4.49371040e-02,\n",
       "       -1.36130825e-01,  1.26280761e+00, -3.39257300e-01, -1.13952506e+00,\n",
       "       -1.37508363e-01,  5.88829517e-01, -3.29777479e-01,  1.52631378e+00,\n",
       "        2.43758559e-01,  1.65654492e+00, -4.84683365e-01,  4.06888545e-01,\n",
       "       -6.26333833e-01,  3.45191538e-01,  1.34929225e-01,  1.04504061e+00,\n",
       "        1.03019223e-01,  8.78202021e-02, -1.26139021e+00, -1.46574020e-01,\n",
       "       -2.38153249e-01,  1.46522164e+00,  5.14756501e-01, -1.39746055e-01,\n",
       "        3.61385405e-01, -2.84127116e-01,  1.25271821e+00,  2.26045370e-01,\n",
       "       -1.22370315e+00, -5.13627827e-01,  5.82670450e-01, -7.04813600e-01,\n",
       "       -5.55673122e-01, -1.56069636e-01,  7.35154569e-01,  8.97480369e-01,\n",
       "       -1.72585833e+00, -5.33083975e-01,  7.50548005e-01,  1.30714446e-01,\n",
       "        9.75147724e-01, -4.78538603e-01, -1.23389624e-03, -6.41493618e-01,\n",
       "       -1.66575706e+00, -1.83286905e-01,  5.24316251e-01,  8.12213123e-01,\n",
       "        4.89813268e-01, -2.47615069e-01,  3.48052084e-01, -2.63650715e-01,\n",
       "        2.70043015e-01, -2.54047847e+00, -3.18171382e-01, -6.21335395e-02,\n",
       "       -1.36410868e+00,  2.73755431e-01, -1.79111913e-01,  1.42686134e-02,\n",
       "       -8.50579858e-01, -1.02542788e-01, -1.81203794e+00, -2.04931479e-03,\n",
       "       -1.84824061e+00, -4.93963957e-01,  1.71695781e+00, -7.73153007e-02,\n",
       "       -3.18694234e-01, -2.21705139e-01, -4.98847067e-01, -8.26662898e-01,\n",
       "        1.18103600e+00,  8.32902372e-01,  1.64470285e-01,  5.39062381e-01,\n",
       "        3.84758323e-01, -1.57189250e+00,  9.85477746e-01,  1.22374654e-01,\n",
       "        3.34935880e+00,  1.02269936e+00, -7.52334714e-01, -3.16633403e-01,\n",
       "        2.14665294e-01, -4.38534051e-01,  3.26295346e-01, -1.30952224e-01,\n",
       "       -3.12537193e-01, -4.65108752e-02, -2.28268132e-02, -5.50432801e-01,\n",
       "        1.05608433e-01,  4.39711422e-01, -1.08393133e-02, -2.18466938e-01,\n",
       "       -2.56449193e-01,  6.09651625e-01,  1.39143121e+00, -2.03352988e-01,\n",
       "        2.05836505e-01,  1.20759869e+00, -3.24689299e-01, -3.86221081e-01,\n",
       "        7.24493742e-01,  5.20465016e-01,  6.84281111e-01, -5.24981260e-01,\n",
       "       -5.60993552e-01,  3.15333039e-01, -9.09215212e-02,  4.21723992e-01,\n",
       "        1.70770335e+00, -8.40918005e-01, -6.51441932e-01, -2.53304452e-01,\n",
       "        8.60240996e-01,  1.01699865e+00, -1.41597375e-01,  3.01862597e-01,\n",
       "       -4.40265626e-01, -2.00099683e+00,  8.00629556e-01, -7.10278511e-01,\n",
       "       -3.69545937e-01, -7.61649728e-01,  3.74976486e-01, -1.01368916e+00,\n",
       "       -7.10423410e-01, -9.65265155e-01, -2.76548773e-01, -1.72624692e-01,\n",
       "        3.25212508e-01,  7.60835886e-01,  6.92437887e-01, -1.08565770e-01,\n",
       "       -2.90885996e-02,  1.46337897e-01, -1.34363100e-01,  1.52377522e+00,\n",
       "       -3.04704070e-01,  3.89907420e-01,  2.04994869e+00, -1.92066625e-01,\n",
       "        5.87396502e-01,  1.16779119e-01, -5.28519094e-01,  4.47123200e-01,\n",
       "        8.47730696e-01, -8.38289797e-01,  1.81818247e-01,  9.13957775e-01,\n",
       "       -2.34489501e-01,  3.85754973e-01, -1.22694023e-01,  1.12587917e+00,\n",
       "        2.60266721e-01,  3.96262288e-01,  7.67811179e-01,  1.35540128e+00,\n",
       "       -3.38442028e-01,  1.21058035e+00,  5.76181293e-01, -1.96244687e-01,\n",
       "       -4.52735603e-01,  2.66542643e-01, -8.70943904e-01,  1.05126882e+00,\n",
       "       -6.19982958e-01, -1.37879074e-01, -5.71498871e-02,  9.84677315e-01,\n",
       "       -4.14226562e-01,  1.51168978e+00,  3.65657270e-01, -3.57491791e-01,\n",
       "       -6.64165318e-01,  3.25723171e-01, -4.54073250e-01, -1.72595471e-01,\n",
       "        6.15137279e-01,  1.52464941e-01, -6.56507850e-01,  1.45941043e+00,\n",
       "       -4.10506278e-01, -5.63768029e-01, -1.12210357e+00,  4.27814573e-01,\n",
       "        5.95441163e-01,  1.96365610e-01,  5.15049696e-03,  5.53030491e-01,\n",
       "       -2.45136261e-01, -1.81502163e-01, -1.41318214e+00, -3.88370603e-01,\n",
       "       -2.80423611e-01,  1.79382309e-01, -9.39341187e-01,  8.84087920e-01,\n",
       "        3.03419143e-01,  1.75800949e-01, -3.29837501e-01,  1.05620611e+00,\n",
       "       -6.23573437e-02, -4.45577763e-02, -3.44487309e-01, -4.61966127e-01,\n",
       "        4.29434240e-01, -6.33626223e-01, -2.45109797e+00,  2.92901039e-01,\n",
       "       -2.94360608e-01,  1.85803965e-01, -1.09577820e-01, -2.29132444e-01,\n",
       "       -3.12992871e-01, -1.52366802e-01,  1.73163012e-01,  2.07305744e-01,\n",
       "       -8.21938097e-01,  1.02489042e+00, -1.19328427e+00, -9.31057572e-01,\n",
       "       -3.03886570e-02,  1.24249077e+00, -3.54035407e-01,  4.19362783e-01,\n",
       "       -2.92152345e-01, -4.94442075e-01,  2.02918485e-01, -1.54641420e-01,\n",
       "       -2.01678034e-02, -1.60866842e-01,  1.21795392e+00,  8.45404983e-01,\n",
       "       -5.41849613e-01,  4.04965058e-02,  1.32535547e-01,  1.57365069e-01,\n",
       "        1.21351458e-01,  2.41578579e-01,  4.72822756e-01,  5.52352846e-01,\n",
       "        5.09789884e-01,  4.81097043e-01,  7.74465084e-01,  5.87582350e-01,\n",
       "       -4.65343595e-01,  6.97171271e-01, -1.78934351e-01, -4.22841012e-01,\n",
       "       -1.21479082e+00,  1.19511366e+00,  5.08973300e-01, -9.61462706e-02,\n",
       "        9.02219489e-02,  5.55654883e-01,  5.64410269e-01, -7.21648216e-01],\n",
       "      dtype=float32)"
      ]
     },
     "execution_count": 54,
     "metadata": {},
     "output_type": "execute_result"
    }
   ],
   "source": [
    "se_en(\"I'm a cocktail lover!\")"
   ]
  },
  {
   "cell_type": "code",
   "execution_count": 55,
   "id": "261b6a8e",
   "metadata": {},
   "outputs": [
    {
     "data": {
      "text/plain": [
       "{'query': '고양이가 창 밖을 바라본다',\n",
       " 'ranking': [(5, '창밖을 내다보는 고양이', 0.93),\n",
       "  (4, '테이블 위에 앉아 있는 고양이가 창밖을 내다보고 있다', 0.91),\n",
       "  (3, '두 마리의 고양이가 창문을 보고 있다', 0.78),\n",
       "  (0, '고양이가 카메라를 켠다', 0.74),\n",
       "  (2, '고양이가 개를 만지려 하고 있다', 0.41)]}"
      ]
     },
     "execution_count": 55,
     "metadata": {},
     "output_type": "execute_result"
    }
   ],
   "source": [
    "query_ko = \"고양이가 창 밖을 바라본다\"\n",
    "cands_ko = [\n",
    "    \"고양이가 카메라를 켠다\",\n",
    "    \"남자와 여자가 걷고 있다\",\n",
    "    \"고양이가 개를 만지려 하고 있다\",\n",
    "    \"두 마리의 고양이가 창문을 보고 있다\",\n",
    "    \"테이블 위에 앉아 있는 고양이가 창밖을 내다보고 있다\",\n",
    "    \"창밖을 내다보는 고양이\"\n",
    "]\n",
    "se_ko.find_similar_sentences(query_ko, cands_ko)"
   ]
  },
  {
   "cell_type": "code",
   "execution_count": 56,
   "id": "5c754010",
   "metadata": {},
   "outputs": [
    {
     "data": {
      "text/plain": [
       "{'query': 'He is the tallest person in the world',\n",
       " 'ranking': [(1, 'You are so lovely!', 0.5),\n",
       "  (2, 'Tom is taller than Jim.', 0.44),\n",
       "  (0, 'I hate this guy.', 0.2)]}"
      ]
     },
     "execution_count": 56,
     "metadata": {},
     "output_type": "execute_result"
    }
   ],
   "source": [
    "query_en = \"He is the tallest person in the world\"\n",
    "cands_en = [\n",
    "    \"I hate this guy.\",\n",
    "    \"You are so lovely!\",\n",
    "    \"Tom is taller than Jim.\"\n",
    "]\n",
    "se_en.find_similar_sentences(query_en, cands_en)"
   ]
  },
  {
   "cell_type": "code",
   "execution_count": null,
   "id": "be14a5aa",
   "metadata": {},
   "outputs": [],
   "source": []
  }
 ],
 "metadata": {
  "kernelspec": {
   "display_name": "Python 3",
   "language": "python",
   "name": "python3"
  },
  "language_info": {
   "codemirror_mode": {
    "name": "ipython",
    "version": 3
   },
   "file_extension": ".py",
   "mimetype": "text/x-python",
   "name": "python",
   "nbconvert_exporter": "python",
   "pygments_lexer": "ipython3",
   "version": "3.8.10"
  }
 },
 "nbformat": 4,
 "nbformat_minor": 5
}
