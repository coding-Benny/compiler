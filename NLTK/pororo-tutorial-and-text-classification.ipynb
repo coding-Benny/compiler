{
 "cells": [
  {
   "cell_type": "markdown",
   "id": "f451b587",
   "metadata": {},
   "source": [
    "# Pororo tutorial\n",
    "- [Repository](https://github.com/kakaobrain/pororo)\n",
    "- [Documentation](https://kakaobrain.github.io/pororo/)"
   ]
  },
  {
   "cell_type": "code",
   "execution_count": 1,
   "id": "60065f7e",
   "metadata": {},
   "outputs": [],
   "source": [
    "from pororo import Pororo"
   ]
  },
  {
   "cell_type": "markdown",
   "id": "a329098e",
   "metadata": {},
   "source": [
    "## 1. `pororo`에서 이용 가능한  작업들 보기"
   ]
  },
  {
   "cell_type": "code",
   "execution_count": 2,
   "id": "a6db8aa5",
   "metadata": {},
   "outputs": [
    {
     "data": {
      "text/plain": [
       "\"Available tasks are ['mrc', 'rc', 'qa', 'question_answering', 'machine_reading_comprehension', 'reading_comprehension', 'sentiment', 'sentiment_analysis', 'nli', 'natural_language_inference', 'inference', 'fill', 'fill_in_blank', 'fib', 'para', 'pi', 'cse', 'contextual_subword_embedding', 'similarity', 'sts', 'semantic_textual_similarity', 'sentence_similarity', 'sentvec', 'sentence_embedding', 'sentence_vector', 'se', 'inflection', 'morphological_inflection', 'g2p', 'grapheme_to_phoneme', 'grapheme_to_phoneme_conversion', 'w2v', 'wordvec', 'word2vec', 'word_vector', 'word_embedding', 'tokenize', 'tokenise', 'tokenization', 'tokenisation', 'tok', 'segmentation', 'seg', 'mt', 'machine_translation', 'translation', 'pos', 'tag', 'pos_tagging', 'tagging', 'const', 'constituency', 'constituency_parsing', 'cp', 'pg', 'collocation', 'collocate', 'col', 'word_translation', 'wt', 'summarization', 'summarisation', 'text_summarization', 'text_summarisation', 'summary', 'gec', 'review', 'review_scoring', 'lemmatization', 'lemmatisation', 'lemma', 'ner', 'named_entity_recognition', 'entity_recognition', 'zero-topic', 'dp', 'dep_parse', 'caption', 'captioning', 'asr', 'speech_recognition', 'st', 'speech_translation', 'tts', 'text_to_speech', 'speech_synthesis', 'ocr', 'srl', 'semantic_role_labeling', 'p2g', 'aes', 'essay', 'qg', 'question_generation', 'age_suitability', 'wsd']\""
      ]
     },
     "execution_count": 2,
     "metadata": {},
     "output_type": "execute_result"
    }
   ],
   "source": [
    "Pororo.available_tasks()"
   ]
  },
  {
   "cell_type": "markdown",
   "id": "de3f3aba",
   "metadata": {},
   "source": [
    "## 2. 특정 task에서 이용 가능한 모델들 보기"
   ]
  },
  {
   "cell_type": "code",
   "execution_count": 3,
   "id": "7c2b761e",
   "metadata": {},
   "outputs": [
    {
     "data": {
      "text/plain": [
       "'Available models for review are ([lang]: en, [model]: roberta.base.en.review), ([lang]: ko, [model]: brainbert.base.ko.review_rating), ([lang]: ja, [model]: jaberta.base.ja.review), ([lang]: zh, [model]: zhberta.base.zh.review)'"
      ]
     },
     "execution_count": 3,
     "metadata": {},
     "output_type": "execute_result"
    }
   ],
   "source": [
    "Pororo.available_models(\"review\")"
   ]
  },
  {
   "cell_type": "markdown",
   "id": "8ff23e34",
   "metadata": {},
   "source": [
    "## 3. 특정 task를 수행하기\n",
    "- 작업별 모델을 로드하는 팩토리 클래스 `Pororo`를 사용\n",
    "- task명과 언어를 각 인자에 맞게 작성\n",
    "- 객체를 출력함으로써 모듈 정보를 확인할 수 있음"
   ]
  },
  {
   "cell_type": "code",
   "execution_count": 4,
   "id": "691e452a",
   "metadata": {},
   "outputs": [
    {
     "data": {
      "text/plain": [
       "[TASK]: REVIEW\n",
       "[LANG]: KO\n",
       "[MODEL]: brainbert.base.ko.review_rating"
      ]
     },
     "execution_count": 4,
     "metadata": {},
     "output_type": "execute_result"
    }
   ],
   "source": [
    "review = Pororo(task=\"review\", lang=\"ko\")\n",
    "review"
   ]
  },
  {
   "cell_type": "markdown",
   "id": "da2f59f9",
   "metadata": {},
   "source": [
    "- 객체 생성 후에, 다음과 같이 입력 값을 전달"
   ]
  },
  {
   "cell_type": "code",
   "execution_count": 5,
   "id": "9f395efd",
   "metadata": {},
   "outputs": [
    {
     "data": {
      "text/plain": [
       "4.8"
      ]
     },
     "execution_count": 5,
     "metadata": {},
     "output_type": "execute_result"
    }
   ],
   "source": [
    "review(\"실리콘이라서 불편할거라 생각했는데 느낌이 보들보들하고 라이언이 너무 귀여워요. 안 찢어지고 지금 잘 사용하고 있습니다!!\")"
   ]
  },
  {
   "cell_type": "code",
   "execution_count": 6,
   "id": "3cfa3a14",
   "metadata": {},
   "outputs": [
    {
     "data": {
      "text/plain": [
       "1.24"
      ]
     },
     "execution_count": 6,
     "metadata": {},
     "output_type": "execute_result"
    }
   ],
   "source": [
    "review(\"가격대비 최악이에요 먼지 묻어도 너무 심한거 아니에요? 주머니 넣기가 무섭네요 맨날 닦을수도 없구요 귀찮네요\")"
   ]
  },
  {
   "cell_type": "markdown",
   "id": "11c37cf4",
   "metadata": {},
   "source": [
    "#### task가 여러 개의 모델을 지원한다면, `model` 인자를 바꿔 다른 모델을 사용할 수 있음"
   ]
  },
  {
   "cell_type": "code",
   "execution_count": 7,
   "id": "b559ecae",
   "metadata": {},
   "outputs": [
    {
     "data": {
      "text/plain": [
       "'Available models for mt are ([lang]: multi, [model]: transformer.large.multi.mtpg, transformer.large.multi.fast.mtpg)'"
      ]
     },
     "execution_count": 7,
     "metadata": {},
     "output_type": "execute_result"
    }
   ],
   "source": [
    "Pororo.available_models(\"mt\")"
   ]
  },
  {
   "cell_type": "code",
   "execution_count": 8,
   "id": "5352c179",
   "metadata": {},
   "outputs": [
    {
     "name": "stdout",
     "output_type": "stream",
     "text": [
      "[TASK]: MT\n",
      "[LANG]: MULTI\n",
      "[MODEL]: transformer.large.multi.mtpg\n"
     ]
    }
   ],
   "source": [
    "mt = Pororo(task=\"mt\", lang=\"multi\", model=\"transformer.large.multi.mtpg\")\n",
    "print(mt)"
   ]
  },
  {
   "cell_type": "code",
   "execution_count": 9,
   "id": "1bfa7f91",
   "metadata": {},
   "outputs": [
    {
     "name": "stdout",
     "output_type": "stream",
     "text": [
      "[TASK]: MT\n",
      "[LANG]: MULTI\n",
      "[MODEL]: transformer.large.multi.fast.mtpg\n"
     ]
    }
   ],
   "source": [
    "fast_mt = Pororo(task=\"mt\", lang=\"multi\", model=\"transformer.large.multi.fast.mtpg\")\n",
    "print(fast_mt)"
   ]
  },
  {
   "cell_type": "markdown",
   "id": "6c2c7192",
   "metadata": {},
   "source": [
    "# Text classification\n",
    "## [Automated Essay Scoring](https://kakaobrain.github.io/pororo/text_cls/aes.html)"
   ]
  },
  {
   "cell_type": "markdown",
   "id": "711dfeef",
   "metadata": {},
   "source": [
    "### 1. 이용 가능한 모델 확인"
   ]
  },
  {
   "cell_type": "code",
   "execution_count": 10,
   "id": "8f3315a5",
   "metadata": {},
   "outputs": [
    {
     "data": {
      "text/plain": [
       "'Available models for aes are ([lang]: en, [model]: roberta.base.en.aes)'"
      ]
     },
     "execution_count": 10,
     "metadata": {},
     "output_type": "execute_result"
    }
   ],
   "source": [
    "Pororo.available_models(\"aes\")"
   ]
  },
  {
   "cell_type": "markdown",
   "id": "4f18b43e",
   "metadata": {},
   "source": [
    "### 2. 객체 생성"
   ]
  },
  {
   "cell_type": "code",
   "execution_count": 11,
   "id": "1b9e69bd",
   "metadata": {},
   "outputs": [
    {
     "data": {
      "text/plain": [
       "[TASK]: AES\n",
       "[LANG]: EN\n",
       "[MODEL]: roberta.base.en.aes"
      ]
     },
     "execution_count": 11,
     "metadata": {},
     "output_type": "execute_result"
    }
   ],
   "source": [
    "aes = Pororo(task=\"aes\", lang=\"en\")\n",
    "aes"
   ]
  },
  {
   "cell_type": "markdown",
   "id": "d6a4d03c",
   "metadata": {},
   "source": [
    "### 3. 자동 에세이 채점"
   ]
  },
  {
   "cell_type": "code",
   "execution_count": 12,
   "id": "697f2e88",
   "metadata": {},
   "outputs": [
    {
     "data": {
      "text/plain": [
       "23.64"
      ]
     },
     "execution_count": 12,
     "metadata": {},
     "output_type": "execute_result"
    }
   ],
   "source": [
    "aes(\"\"\"\n",
    "More effort is wasted doing things that don't matter than is wasted doing things inefficiently.\n",
    "And if that is the case, elimination is a more useful skill than optimization.\n",
    "I am reminded of the famous Peter Drucker quote,\n",
    "'There is nothing so useless as doing efficiently that which should not be done at all.'\n",
    "\"\"\")"
   ]
  },
  {
   "cell_type": "markdown",
   "id": "63b083cd",
   "metadata": {},
   "source": [
    "## [Age Suitability Prediction](https://kakaobrain.github.io/pororo/text_cls/age_suitability.html)\n",
    "### 1. 이용 가능한 모델 확인"
   ]
  },
  {
   "cell_type": "code",
   "execution_count": 13,
   "id": "80f5b6c6",
   "metadata": {},
   "outputs": [
    {
     "data": {
      "text/plain": [
       "'Available models for age_suitability are ([lang]: en, [model]: roberta.base.en.movie)'"
      ]
     },
     "execution_count": 13,
     "metadata": {},
     "output_type": "execute_result"
    }
   ],
   "source": [
    "Pororo.available_models(\"age_suitability\")"
   ]
  },
  {
   "cell_type": "markdown",
   "id": "182ac14d",
   "metadata": {},
   "source": [
    "### 2. 객체 생성"
   ]
  },
  {
   "cell_type": "code",
   "execution_count": 14,
   "id": "3e2f4749",
   "metadata": {},
   "outputs": [
    {
     "data": {
      "text/plain": [
       "[TASK]: AGE_SUITABILITY\n",
       "[LANG]: EN\n",
       "[MODEL]: roberta.base.en.movie"
      ]
     },
     "execution_count": 14,
     "metadata": {},
     "output_type": "execute_result"
    }
   ],
   "source": [
    "age_suitability = Pororo(task=\"age_suitability\", lang=\"en\")\n",
    "age_suitability"
   ]
  },
  {
   "cell_type": "markdown",
   "id": "d9c1ec81",
   "metadata": {},
   "source": [
    "### 3. 연령 적합성 예측"
   ]
  },
  {
   "cell_type": "code",
   "execution_count": 15,
   "id": "3f3e0627",
   "metadata": {},
   "outputs": [
    {
     "data": {
      "text/plain": [
       "{'rating': {'class': 'PG',\n",
       "  'description': 'Parental Guidance Suggested. Some material may not be suitable for children.'},\n",
       " 'emotion': {'nudity': 'Low',\n",
       "  'violence': 'Low',\n",
       "  'profanity': 'Low',\n",
       "  'alcohol': 'Low',\n",
       "  'frightening': 'Low'}}"
      ]
     },
     "execution_count": 15,
     "metadata": {},
     "output_type": "execute_result"
    }
   ],
   "source": [
    "age_suitability(\"When I was a little girl in the 1950s, it would not have been possible for me to say, I want to be an anchorwoman when I grow up.\")"
   ]
  },
  {
   "cell_type": "code",
   "execution_count": 16,
   "id": "1822639d",
   "metadata": {},
   "outputs": [
    {
     "data": {
      "text/plain": [
       "{'rating': {'class': 'R',\n",
       "  'description': 'Restricted. Under 17 requires accompanying parent or adult guardian.'},\n",
       " 'emotion': {'nudity': 'Low',\n",
       "  'violence': 'Low',\n",
       "  'profanity': 'Low',\n",
       "  'alcohol': 'Low',\n",
       "  'frightening': 'Low'}}"
      ]
     },
     "execution_count": 16,
     "metadata": {},
     "output_type": "execute_result"
    }
   ],
   "source": [
    "age_suitability(\"The past can hurt, but you can either run from it, or learn from it.\")"
   ]
  },
  {
   "cell_type": "code",
   "execution_count": 17,
   "id": "355cb62c",
   "metadata": {},
   "outputs": [
    {
     "data": {
      "text/plain": [
       "{'rating': {'class': 'PG-13',\n",
       "  'description': 'Parents Strongly Cautioned. Some material may be inappropriate for children under 13.'},\n",
       " 'emotion': {'nudity': 'Low',\n",
       "  'violence': 'Low',\n",
       "  'profanity': 'Low',\n",
       "  'alcohol': 'Low',\n",
       "  'frightening': 'Low'}}"
      ]
     },
     "execution_count": 17,
     "metadata": {},
     "output_type": "execute_result"
    }
   ],
   "source": [
    "age_suitability(\"At some point you've got to decide for yourself who you gonna be. Can't let nobody make that decision for you.\")"
   ]
  },
  {
   "cell_type": "markdown",
   "id": "1bf6b2dd",
   "metadata": {},
   "source": [
    "## [Natural Language Inference](https://kakaobrain.github.io/pororo/text_cls/nli.html)\n",
    "### 1. 이용 가능한 모델 확인"
   ]
  },
  {
   "cell_type": "code",
   "execution_count": 18,
   "id": "6032f44d",
   "metadata": {},
   "outputs": [
    {
     "data": {
      "text/plain": [
       "'Available models for nli are ([lang]: en, [model]: roberta.base.en.nli), ([lang]: ko, [model]: brainbert.base.ko.kornli), ([lang]: ja, [model]: jaberta.base.ja.nli), ([lang]: zh, [model]: zhberta.base.zh.nli)'"
      ]
     },
     "execution_count": 18,
     "metadata": {},
     "output_type": "execute_result"
    }
   ],
   "source": [
    "Pororo.available_models(\"nli\")"
   ]
  },
  {
   "cell_type": "markdown",
   "id": "0abfe677",
   "metadata": {},
   "source": [
    "### 2. 객체 생성"
   ]
  },
  {
   "cell_type": "code",
   "execution_count": 19,
   "id": "de383590",
   "metadata": {},
   "outputs": [],
   "source": [
    "nli_ko = Pororo(task=\"nli\", lang=\"ko\")"
   ]
  },
  {
   "cell_type": "code",
   "execution_count": 20,
   "id": "ac164b63",
   "metadata": {},
   "outputs": [],
   "source": [
    "nli_en = Pororo(task=\"nli\", lang=\"en\")"
   ]
  },
  {
   "cell_type": "markdown",
   "id": "eb92df51",
   "metadata": {},
   "source": [
    "### 3. 자연어 추론"
   ]
  },
  {
   "cell_type": "code",
   "execution_count": 21,
   "id": "3d051da6",
   "metadata": {},
   "outputs": [
    {
     "data": {
      "text/plain": [
       "'Contradiction'"
      ]
     },
     "execution_count": 21,
     "metadata": {},
     "output_type": "execute_result"
    }
   ],
   "source": [
    "nli_ko(\"저는, 그냥 알아내려고 거기 있었어요\", \"나는 처음부터 그것을 잘 이해했다\")"
   ]
  },
  {
   "cell_type": "code",
   "execution_count": 22,
   "id": "8623e0a1",
   "metadata": {},
   "outputs": [
    {
     "data": {
      "text/plain": [
       "'Entailment'"
      ]
     },
     "execution_count": 22,
     "metadata": {},
     "output_type": "execute_result"
    }
   ],
   "source": [
    "nli_ko(\"회색 개가 숲에서 쓰러진 나무를 핥고 있다.\", \"개가 밖에 있다.\")"
   ]
  },
  {
   "cell_type": "code",
   "execution_count": 23,
   "id": "d7b59aed",
   "metadata": {},
   "outputs": [
    {
     "data": {
      "text/plain": [
       "'Neutral'"
      ]
     },
     "execution_count": 23,
     "metadata": {},
     "output_type": "execute_result"
    }
   ],
   "source": [
    "nli_ko(\"스타벅스에서 뭐 마실지 고민된다.\", \"다양한 음료를 마셔봐도 역시 아메리카노가 최고다.\")"
   ]
  },
  {
   "cell_type": "code",
   "execution_count": 24,
   "id": "cb9ed0e9",
   "metadata": {},
   "outputs": [
    {
     "data": {
      "text/plain": [
       "'Entailment'"
      ]
     },
     "execution_count": 24,
     "metadata": {},
     "output_type": "execute_result"
    }
   ],
   "source": [
    "nli_en(\"A soccer game with multiple males playing.\", \"Some men are playing a sport.\")"
   ]
  },
  {
   "cell_type": "code",
   "execution_count": 25,
   "id": "adae8e73",
   "metadata": {},
   "outputs": [
    {
     "data": {
      "text/plain": [
       "'Contradiction'"
      ]
     },
     "execution_count": 25,
     "metadata": {},
     "output_type": "execute_result"
    }
   ],
   "source": [
    "nli_en(\"I have 2 cats.\", \"I do not have any pets. What is your cats name?\")"
   ]
  },
  {
   "cell_type": "code",
   "execution_count": 26,
   "id": "3e6666c8",
   "metadata": {},
   "outputs": [
    {
     "data": {
      "text/plain": [
       "'Neutral'"
      ]
     },
     "execution_count": 26,
     "metadata": {},
     "output_type": "execute_result"
    }
   ],
   "source": [
    "nli_en(\"A senior is waiting at the window of a restaurant that serves sandwiches.\", \"A man is looking to order a grilled cheese sandwich.\")"
   ]
  },
  {
   "cell_type": "markdown",
   "id": "909fa96c",
   "metadata": {},
   "source": [
    "## [Paraphrase Identification](https://kakaobrain.github.io/pororo/text_cls/para_id.html)\n",
    "### 1. 이용 가능한 모델 확인"
   ]
  },
  {
   "cell_type": "code",
   "execution_count": 27,
   "id": "e52edade",
   "metadata": {},
   "outputs": [
    {
     "data": {
      "text/plain": [
       "'Available models for pi are ([lang]: ko, [model]: brainbert.base.ko.paws)'"
      ]
     },
     "execution_count": 27,
     "metadata": {},
     "output_type": "execute_result"
    }
   ],
   "source": [
    "Pororo.available_models(\"pi\")"
   ]
  },
  {
   "cell_type": "markdown",
   "id": "6a2072c6",
   "metadata": {},
   "source": [
    "### 2. 객체 생성"
   ]
  },
  {
   "cell_type": "code",
   "execution_count": 28,
   "id": "6c0c8129",
   "metadata": {},
   "outputs": [
    {
     "name": "stderr",
     "output_type": "stream",
     "text": [
      "\n"
     ]
    }
   ],
   "source": [
    "pi = Pororo(task=\"pi\", lang=\"ko\")"
   ]
  },
  {
   "cell_type": "markdown",
   "id": "9da9de61",
   "metadata": {},
   "source": [
    "### 3. 의역 식별"
   ]
  },
  {
   "cell_type": "code",
   "execution_count": 29,
   "id": "075575c9",
   "metadata": {},
   "outputs": [
    {
     "data": {
      "text/plain": [
       "'Paraphrase'"
      ]
     },
     "execution_count": 29,
     "metadata": {},
     "output_type": "execute_result"
    }
   ],
   "source": [
    "pi(\"그는 빨간 자전거를 샀다\", \"그가 산 자전거는 빨간색이다.\")"
   ]
  },
  {
   "cell_type": "code",
   "execution_count": 30,
   "id": "22438d23",
   "metadata": {},
   "outputs": [
    {
     "data": {
      "text/plain": [
       "'NOT Paraphrase'"
      ]
     },
     "execution_count": 30,
     "metadata": {},
     "output_type": "execute_result"
    }
   ],
   "source": [
    "pi(\"그는 빨간 자전거를 샀다\", \"그가 타고 있는 자전거는 빨간색이다.\")"
   ]
  },
  {
   "cell_type": "code",
   "execution_count": 31,
   "id": "396f7159",
   "metadata": {},
   "outputs": [
    {
     "data": {
      "text/plain": [
       "'Paraphrase'"
      ]
     },
     "execution_count": 31,
     "metadata": {},
     "output_type": "execute_result"
    }
   ],
   "source": [
    "pi(\"그녀는 제주도에서 일출을 감상했다\", \"그녀는 일출을 감상하기 위해서 제주도에 갔다.\")"
   ]
  },
  {
   "cell_type": "code",
   "execution_count": 32,
   "id": "0c4ad6c2",
   "metadata": {},
   "outputs": [
    {
     "data": {
      "text/plain": [
       "'Paraphrase'"
      ]
     },
     "execution_count": 32,
     "metadata": {},
     "output_type": "execute_result"
    }
   ],
   "source": [
    "pi(\"그녀는 제주도에서 일출을 감상했다\", \"그녀는 제주도에 갔다.\")"
   ]
  },
  {
   "cell_type": "code",
   "execution_count": 33,
   "id": "810d8fc5",
   "metadata": {},
   "outputs": [
    {
     "data": {
      "text/plain": [
       "'Paraphrase'"
      ]
     },
     "execution_count": 33,
     "metadata": {},
     "output_type": "execute_result"
    }
   ],
   "source": [
    "pi(\"그녀는 제주도에서 일출을 감상했다\", \"그녀는 일출을 감상했다\")"
   ]
  },
  {
   "cell_type": "code",
   "execution_count": 34,
   "id": "9babedee",
   "metadata": {},
   "outputs": [
    {
     "data": {
      "text/plain": [
       "'NOT Paraphrase'"
      ]
     },
     "execution_count": 34,
     "metadata": {},
     "output_type": "execute_result"
    }
   ],
   "source": [
    "pi(\"그녀는 제주도에서 일출을 감상했다\", \"그녀는 강릉에서 일출을 감상했다\")"
   ]
  },
  {
   "cell_type": "markdown",
   "id": "79950302",
   "metadata": {},
   "source": [
    "## [Review Scoring](https://kakaobrain.github.io/pororo/text_cls/review_score.html)\n",
    "### 1. 이용 가능한 모델 확인"
   ]
  },
  {
   "cell_type": "code",
   "execution_count": 35,
   "id": "5de0a603",
   "metadata": {},
   "outputs": [
    {
     "data": {
      "text/plain": [
       "'Available models for review are ([lang]: en, [model]: roberta.base.en.review), ([lang]: ko, [model]: brainbert.base.ko.review_rating), ([lang]: ja, [model]: jaberta.base.ja.review), ([lang]: zh, [model]: zhberta.base.zh.review)'"
      ]
     },
     "execution_count": 35,
     "metadata": {},
     "output_type": "execute_result"
    }
   ],
   "source": [
    "Pororo.available_models(\"review\")"
   ]
  },
  {
   "cell_type": "markdown",
   "id": "7ceeb499",
   "metadata": {},
   "source": [
    "### 2. 객체 생성"
   ]
  },
  {
   "cell_type": "code",
   "execution_count": 36,
   "id": "955efaa2",
   "metadata": {},
   "outputs": [
    {
     "name": "stderr",
     "output_type": "stream",
     "text": [
      "\n"
     ]
    }
   ],
   "source": [
    "review_ko = Pororo(task=\"review\", lang=\"ko\")\n",
    "review_en = Pororo(task=\"review\", lang=\"en\")"
   ]
  },
  {
   "cell_type": "markdown",
   "id": "c58ea8ac",
   "metadata": {},
   "source": [
    "### 3. 리뷰 평점"
   ]
  },
  {
   "cell_type": "code",
   "execution_count": 37,
   "id": "248f435d",
   "metadata": {},
   "outputs": [
    {
     "data": {
      "text/plain": [
       "4.79"
      ]
     },
     "execution_count": 37,
     "metadata": {},
     "output_type": "execute_result"
    }
   ],
   "source": [
    "review_en(\"Just what I needed! Perfect for western theme party.\")"
   ]
  },
  {
   "cell_type": "code",
   "execution_count": 38,
   "id": "1a4bacb9",
   "metadata": {},
   "outputs": [
    {
     "data": {
      "text/plain": [
       "2.65"
      ]
     },
     "execution_count": 38,
     "metadata": {},
     "output_type": "execute_result"
    }
   ],
   "source": [
    "review_en(\"Received wrong size.\")"
   ]
  },
  {
   "cell_type": "code",
   "execution_count": 39,
   "id": "3f253c67",
   "metadata": {},
   "outputs": [
    {
     "data": {
      "text/plain": [
       "2.96"
      ]
     },
     "execution_count": 39,
     "metadata": {},
     "output_type": "execute_result"
    }
   ],
   "source": [
    "review_ko(\"그냥저냥 다른데랑 똑같숩니다\")"
   ]
  },
  {
   "cell_type": "code",
   "execution_count": 40,
   "id": "0771f6e9",
   "metadata": {},
   "outputs": [
    {
     "data": {
      "text/plain": [
       "3.92"
      ]
     },
     "execution_count": 40,
     "metadata": {},
     "output_type": "execute_result"
    }
   ],
   "source": [
    "review_ko(\"좋습니다 만족해요 배송만 좀 더 빨랐으면..\")"
   ]
  },
  {
   "cell_type": "markdown",
   "id": "55dc07df",
   "metadata": {},
   "source": [
    "## [Semantic Textual Similarity](https://kakaobrain.github.io/pororo/text_cls/sts.html)\n",
    "### 1. 이용 가능한 모델 확인"
   ]
  },
  {
   "cell_type": "code",
   "execution_count": 41,
   "id": "4abecbbe",
   "metadata": {},
   "outputs": [
    {
     "data": {
      "text/plain": [
       "'Available models for similarity are ([lang]: en, [model]: roberta.base.en.sts), ([lang]: ko, [model]: brainbert.base.ko.korsts, brainsbert.base.ko.kornli.korsts), ([lang]: ja, [model]: jaberta.base.ja.sts, jasbert.base.ja.nli.sts), ([lang]: zh, [model]: zhberta.base.zh.sts, zhsbert.base.zh.nli.sts)'"
      ]
     },
     "execution_count": 41,
     "metadata": {},
     "output_type": "execute_result"
    }
   ],
   "source": [
    "Pororo.available_models(\"similarity\")"
   ]
  },
  {
   "cell_type": "markdown",
   "id": "efde9612",
   "metadata": {},
   "source": [
    "### 2. 객체 생성"
   ]
  },
  {
   "cell_type": "code",
   "execution_count": 42,
   "id": "181a47d9",
   "metadata": {},
   "outputs": [
    {
     "name": "stderr",
     "output_type": "stream",
     "text": [
      "\n",
      "\n"
     ]
    }
   ],
   "source": [
    "sts_ko = Pororo(task=\"similarity\", lang=\"ko\")\n",
    "sts_en = Pororo(task=\"similarity\", lang=\"en\")"
   ]
  },
  {
   "cell_type": "markdown",
   "id": "677bdf30",
   "metadata": {},
   "source": [
    "### 3. 의미적 텍스트 유사도"
   ]
  },
  {
   "cell_type": "code",
   "execution_count": 43,
   "id": "33e7f9bb",
   "metadata": {},
   "outputs": [
    {
     "data": {
      "text/plain": [
       "0.415"
      ]
     },
     "execution_count": 43,
     "metadata": {},
     "output_type": "execute_result"
    }
   ],
   "source": [
    "sts_ko(\"나는 동물을 좋아하는 사람이야\", \"강아지를 좋아하는 아버지\")"
   ]
  },
  {
   "cell_type": "code",
   "execution_count": 44,
   "id": "433455aa",
   "metadata": {},
   "outputs": [
    {
     "data": {
      "text/plain": [
       "0.215"
      ]
     },
     "execution_count": 44,
     "metadata": {},
     "output_type": "execute_result"
    }
   ],
   "source": [
    "sts_ko(\"빨리 주말이 왔으면 좋겠다\", \"저녁 뭐 먹지\")"
   ]
  },
  {
   "cell_type": "code",
   "execution_count": 47,
   "id": "29693d21",
   "metadata": {},
   "outputs": [
    {
     "data": {
      "text/plain": [
       "0.749"
      ]
     },
     "execution_count": 47,
     "metadata": {},
     "output_type": "execute_result"
    }
   ],
   "source": [
    "sts_ko(\"아메리카노 좋아 좋아 좋아\", \"싸구려 커피를 마신다\")"
   ]
  },
  {
   "cell_type": "code",
   "execution_count": 48,
   "id": "fd03a830",
   "metadata": {},
   "outputs": [
    {
     "data": {
      "text/plain": [
       "0.921"
      ]
     },
     "execution_count": 48,
     "metadata": {},
     "output_type": "execute_result"
    }
   ],
   "source": [
    "sts_en(\"Two dogs and one cat sitting on couch.\", \"Two dogs and a cat resting on a couch.\")"
   ]
  },
  {
   "cell_type": "code",
   "execution_count": 49,
   "id": "7aeaf885",
   "metadata": {},
   "outputs": [
    {
     "data": {
      "text/plain": [
       "0.017"
      ]
     },
     "execution_count": 49,
     "metadata": {},
     "output_type": "execute_result"
    }
   ],
   "source": [
    "sts_en(\"I hope the weekend comes soon\", \"what to eat for dinner?\")"
   ]
  },
  {
   "cell_type": "code",
   "execution_count": 50,
   "id": "82038f74",
   "metadata": {},
   "outputs": [
    {
     "data": {
      "text/plain": [
       "0.835"
      ]
     },
     "execution_count": 50,
     "metadata": {},
     "output_type": "execute_result"
    }
   ],
   "source": [
    "sts_en(\"I like Starbucks better than Hollys\", \"I prefer Hollys than Starbucks\")"
   ]
  },
  {
   "cell_type": "code",
   "execution_count": null,
   "id": "9262a8b2",
   "metadata": {},
   "outputs": [],
   "source": []
  }
 ],
 "metadata": {
  "kernelspec": {
   "display_name": "Python 3",
   "language": "python",
   "name": "python3"
  },
  "language_info": {
   "codemirror_mode": {
    "name": "ipython",
    "version": 3
   },
   "file_extension": ".py",
   "mimetype": "text/x-python",
   "name": "python",
   "nbconvert_exporter": "python",
   "pygments_lexer": "ipython3",
   "version": "3.8.10"
  }
 },
 "nbformat": 4,
 "nbformat_minor": 5
}
