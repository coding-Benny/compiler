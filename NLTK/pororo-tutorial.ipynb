{
 "cells": [
  {
   "cell_type": "markdown",
   "id": "1d24cf4a",
   "metadata": {},
   "source": [
    "# Pororo tutorial"
   ]
  },
  {
   "cell_type": "code",
   "execution_count": 1,
   "id": "bfcb9301",
   "metadata": {},
   "outputs": [],
   "source": [
    "from pororo import Pororo"
   ]
  },
  {
   "cell_type": "markdown",
   "id": "9f96e554",
   "metadata": {},
   "source": [
    "## 1. `pororo`에서 이용 가능한  작업들 보기"
   ]
  },
  {
   "cell_type": "code",
   "execution_count": 2,
   "id": "37e64e5f",
   "metadata": {},
   "outputs": [
    {
     "data": {
      "text/plain": [
       "\"Available tasks are ['mrc', 'rc', 'qa', 'question_answering', 'machine_reading_comprehension', 'reading_comprehension', 'sentiment', 'sentiment_analysis', 'nli', 'natural_language_inference', 'inference', 'fill', 'fill_in_blank', 'fib', 'para', 'pi', 'cse', 'contextual_subword_embedding', 'similarity', 'sts', 'semantic_textual_similarity', 'sentence_similarity', 'sentvec', 'sentence_embedding', 'sentence_vector', 'se', 'inflection', 'morphological_inflection', 'g2p', 'grapheme_to_phoneme', 'grapheme_to_phoneme_conversion', 'w2v', 'wordvec', 'word2vec', 'word_vector', 'word_embedding', 'tokenize', 'tokenise', 'tokenization', 'tokenisation', 'tok', 'segmentation', 'seg', 'mt', 'machine_translation', 'translation', 'pos', 'tag', 'pos_tagging', 'tagging', 'const', 'constituency', 'constituency_parsing', 'cp', 'pg', 'collocation', 'collocate', 'col', 'word_translation', 'wt', 'summarization', 'summarisation', 'text_summarization', 'text_summarisation', 'summary', 'gec', 'review', 'review_scoring', 'lemmatization', 'lemmatisation', 'lemma', 'ner', 'named_entity_recognition', 'entity_recognition', 'zero-topic', 'dp', 'dep_parse', 'caption', 'captioning', 'asr', 'speech_recognition', 'st', 'speech_translation', 'tts', 'text_to_speech', 'speech_synthesis', 'ocr', 'srl', 'semantic_role_labeling', 'p2g', 'aes', 'essay', 'qg', 'question_generation', 'age_suitability', 'wsd']\""
      ]
     },
     "execution_count": 2,
     "metadata": {},
     "output_type": "execute_result"
    }
   ],
   "source": [
    "Pororo.available_tasks()"
   ]
  },
  {
   "cell_type": "markdown",
   "id": "8dc95bd5",
   "metadata": {},
   "source": [
    "## 2. 특정 task에서 이용 가능한 모델들 보기"
   ]
  },
  {
   "cell_type": "code",
   "execution_count": 3,
   "id": "acd40038",
   "metadata": {},
   "outputs": [
    {
     "data": {
      "text/plain": [
       "'Available models for review are ([lang]: en, [model]: roberta.base.en.review), ([lang]: ko, [model]: brainbert.base.ko.review_rating), ([lang]: ja, [model]: jaberta.base.ja.review), ([lang]: zh, [model]: zhberta.base.zh.review)'"
      ]
     },
     "execution_count": 3,
     "metadata": {},
     "output_type": "execute_result"
    }
   ],
   "source": [
    "Pororo.available_models(\"review\")"
   ]
  },
  {
   "cell_type": "markdown",
   "id": "c5ea3763",
   "metadata": {},
   "source": [
    "## 3. 특정 task를 수행하기\n",
    "- 작업별 모델을 로드하는 팩토리 클래스 `Pororo`를 사용\n",
    "- task명과 언어를 각 인자에 맞게 작성\n",
    "- 객체를 출력함으로써 모듈 정보를 확인할 수 있음"
   ]
  },
  {
   "cell_type": "code",
   "execution_count": 4,
   "id": "080b8899",
   "metadata": {},
   "outputs": [
    {
     "data": {
      "text/plain": [
       "[TASK]: REVIEW\n",
       "[LANG]: KO\n",
       "[MODEL]: brainbert.base.ko.review_rating"
      ]
     },
     "execution_count": 4,
     "metadata": {},
     "output_type": "execute_result"
    }
   ],
   "source": [
    "review = Pororo(task=\"review\", lang=\"ko\")\n",
    "review"
   ]
  },
  {
   "cell_type": "markdown",
   "id": "462fded7",
   "metadata": {},
   "source": [
    "- 객체 생성 후에, 다음과 같이 입력 값을 전달"
   ]
  },
  {
   "cell_type": "code",
   "execution_count": 5,
   "id": "0fc60087",
   "metadata": {},
   "outputs": [
    {
     "data": {
      "text/plain": [
       "4.8"
      ]
     },
     "execution_count": 5,
     "metadata": {},
     "output_type": "execute_result"
    }
   ],
   "source": [
    "review(\"실리콘이라서 불편할거라 생각했는데 느낌이 보들보들하고 라이언이 너무 귀여워요. 안 찢어지고 지금 잘 사용하고 있습니다!!\")"
   ]
  },
  {
   "cell_type": "code",
   "execution_count": 6,
   "id": "3827938f",
   "metadata": {},
   "outputs": [
    {
     "data": {
      "text/plain": [
       "1.24"
      ]
     },
     "execution_count": 6,
     "metadata": {},
     "output_type": "execute_result"
    }
   ],
   "source": [
    "review(\"가격대비 최악이에요 먼지 묻어도 너무 심한거 아니에요? 주머니 넣기가 무섭네요 맨날 닦을수도 없구요 귀찮네요\")"
   ]
  },
  {
   "cell_type": "markdown",
   "id": "2062d18d",
   "metadata": {},
   "source": [
    "- task가 여러 개의 모델을 지원한다면, `model` 인자를 바꿔 다른 모델을 사용할 수 있음"
   ]
  },
  {
   "cell_type": "code",
   "execution_count": 7,
   "id": "9acaeb96",
   "metadata": {},
   "outputs": [],
   "source": [
    "mt = Pororo(task=\"mt\", lang=\"multi\", model=\"transformer.large.multi.mtpg\")\n",
    "fast_mt = Pororo(task=\"mt\", lang=\"multi\", model=\"transformer.large.multi.fast.mtpg\")"
   ]
  },
  {
   "cell_type": "code",
   "execution_count": null,
   "id": "bb549db8",
   "metadata": {},
   "outputs": [],
   "source": []
  }
 ],
 "metadata": {
  "kernelspec": {
   "display_name": "Python 3",
   "language": "python",
   "name": "python3"
  },
  "language_info": {
   "codemirror_mode": {
    "name": "ipython",
    "version": 3
   },
   "file_extension": ".py",
   "mimetype": "text/x-python",
   "name": "python",
   "nbconvert_exporter": "python",
   "pygments_lexer": "ipython3",
   "version": "3.8.10"
  }
 },
 "nbformat": 4,
 "nbformat_minor": 5
}
