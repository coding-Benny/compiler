{
 "cells": [
  {
   "cell_type": "markdown",
   "id": "f451b587",
   "metadata": {},
   "source": [
    "# Pororo tutorial\n",
    "- [Repository](https://github.com/kakaobrain/pororo)\n",
    "- [Documentation](https://kakaobrain.github.io/pororo/)"
   ]
  },
  {
   "cell_type": "code",
   "execution_count": 1,
   "id": "60065f7e",
   "metadata": {},
   "outputs": [],
   "source": [
    "from pororo import Pororo"
   ]
  },
  {
   "cell_type": "markdown",
   "id": "a329098e",
   "metadata": {},
   "source": [
    "## 1. `pororo`에서 이용 가능한  작업들 보기"
   ]
  },
  {
   "cell_type": "code",
   "execution_count": 2,
   "id": "a6db8aa5",
   "metadata": {},
   "outputs": [
    {
     "data": {
      "text/plain": [
       "\"Available tasks are ['mrc', 'rc', 'qa', 'question_answering', 'machine_reading_comprehension', 'reading_comprehension', 'sentiment', 'sentiment_analysis', 'nli', 'natural_language_inference', 'inference', 'fill', 'fill_in_blank', 'fib', 'para', 'pi', 'cse', 'contextual_subword_embedding', 'similarity', 'sts', 'semantic_textual_similarity', 'sentence_similarity', 'sentvec', 'sentence_embedding', 'sentence_vector', 'se', 'inflection', 'morphological_inflection', 'g2p', 'grapheme_to_phoneme', 'grapheme_to_phoneme_conversion', 'w2v', 'wordvec', 'word2vec', 'word_vector', 'word_embedding', 'tokenize', 'tokenise', 'tokenization', 'tokenisation', 'tok', 'segmentation', 'seg', 'mt', 'machine_translation', 'translation', 'pos', 'tag', 'pos_tagging', 'tagging', 'const', 'constituency', 'constituency_parsing', 'cp', 'pg', 'collocation', 'collocate', 'col', 'word_translation', 'wt', 'summarization', 'summarisation', 'text_summarization', 'text_summarisation', 'summary', 'gec', 'review', 'review_scoring', 'lemmatization', 'lemmatisation', 'lemma', 'ner', 'named_entity_recognition', 'entity_recognition', 'zero-topic', 'dp', 'dep_parse', 'caption', 'captioning', 'asr', 'speech_recognition', 'st', 'speech_translation', 'tts', 'text_to_speech', 'speech_synthesis', 'ocr', 'srl', 'semantic_role_labeling', 'p2g', 'aes', 'essay', 'qg', 'question_generation', 'age_suitability', 'wsd']\""
      ]
     },
     "execution_count": 2,
     "metadata": {},
     "output_type": "execute_result"
    }
   ],
   "source": [
    "Pororo.available_tasks()"
   ]
  },
  {
   "cell_type": "markdown",
   "id": "de3f3aba",
   "metadata": {},
   "source": [
    "## 2. 특정 task에서 이용 가능한 모델들 보기"
   ]
  },
  {
   "cell_type": "code",
   "execution_count": 3,
   "id": "7c2b761e",
   "metadata": {},
   "outputs": [
    {
     "data": {
      "text/plain": [
       "'Available models for review are ([lang]: en, [model]: roberta.base.en.review), ([lang]: ko, [model]: brainbert.base.ko.review_rating), ([lang]: ja, [model]: jaberta.base.ja.review), ([lang]: zh, [model]: zhberta.base.zh.review)'"
      ]
     },
     "execution_count": 3,
     "metadata": {},
     "output_type": "execute_result"
    }
   ],
   "source": [
    "Pororo.available_models(\"review\")"
   ]
  },
  {
   "cell_type": "markdown",
   "id": "8ff23e34",
   "metadata": {},
   "source": [
    "## 3. 특정 task를 수행하기\n",
    "- 작업별 모델을 로드하는 팩토리 클래스 `Pororo`를 사용\n",
    "- task명과 언어를 각 인자에 맞게 작성\n",
    "- 객체를 출력함으로써 모듈 정보를 확인할 수 있음"
   ]
  },
  {
   "cell_type": "code",
   "execution_count": 4,
   "id": "691e452a",
   "metadata": {},
   "outputs": [
    {
     "data": {
      "text/plain": [
       "[TASK]: REVIEW\n",
       "[LANG]: KO\n",
       "[MODEL]: brainbert.base.ko.review_rating"
      ]
     },
     "execution_count": 4,
     "metadata": {},
     "output_type": "execute_result"
    }
   ],
   "source": [
    "review = Pororo(task=\"review\", lang=\"ko\")\n",
    "review"
   ]
  },
  {
   "cell_type": "markdown",
   "id": "da2f59f9",
   "metadata": {},
   "source": [
    "- 객체 생성 후에, 다음과 같이 입력 값을 전달"
   ]
  },
  {
   "cell_type": "code",
   "execution_count": 5,
   "id": "9f395efd",
   "metadata": {},
   "outputs": [
    {
     "data": {
      "text/plain": [
       "4.8"
      ]
     },
     "execution_count": 5,
     "metadata": {},
     "output_type": "execute_result"
    }
   ],
   "source": [
    "review(\"실리콘이라서 불편할거라 생각했는데 느낌이 보들보들하고 라이언이 너무 귀여워요. 안 찢어지고 지금 잘 사용하고 있습니다!!\")"
   ]
  },
  {
   "cell_type": "code",
   "execution_count": 6,
   "id": "3cfa3a14",
   "metadata": {},
   "outputs": [
    {
     "data": {
      "text/plain": [
       "1.24"
      ]
     },
     "execution_count": 6,
     "metadata": {},
     "output_type": "execute_result"
    }
   ],
   "source": [
    "review(\"가격대비 최악이에요 먼지 묻어도 너무 심한거 아니에요? 주머니 넣기가 무섭네요 맨날 닦을수도 없구요 귀찮네요\")"
   ]
  },
  {
   "cell_type": "markdown",
   "id": "11c37cf4",
   "metadata": {},
   "source": [
    "#### task가 여러 개의 모델을 지원한다면, `model` 인자를 바꿔 다른 모델을 사용할 수 있음"
   ]
  },
  {
   "cell_type": "code",
   "execution_count": 7,
   "id": "b559ecae",
   "metadata": {},
   "outputs": [
    {
     "data": {
      "text/plain": [
       "'Available models for mt are ([lang]: multi, [model]: transformer.large.multi.mtpg, transformer.large.multi.fast.mtpg)'"
      ]
     },
     "execution_count": 7,
     "metadata": {},
     "output_type": "execute_result"
    }
   ],
   "source": [
    "Pororo.available_models(\"mt\")"
   ]
  },
  {
   "cell_type": "code",
   "execution_count": 8,
   "id": "5352c179",
   "metadata": {},
   "outputs": [
    {
     "name": "stdout",
     "output_type": "stream",
     "text": [
      "[TASK]: MT\n",
      "[LANG]: MULTI\n",
      "[MODEL]: transformer.large.multi.mtpg\n"
     ]
    }
   ],
   "source": [
    "mt = Pororo(task=\"mt\", lang=\"multi\", model=\"transformer.large.multi.mtpg\")\n",
    "print(mt)"
   ]
  },
  {
   "cell_type": "code",
   "execution_count": 9,
   "id": "1bfa7f91",
   "metadata": {},
   "outputs": [
    {
     "name": "stdout",
     "output_type": "stream",
     "text": [
      "[TASK]: MT\n",
      "[LANG]: MULTI\n",
      "[MODEL]: transformer.large.multi.fast.mtpg\n"
     ]
    }
   ],
   "source": [
    "fast_mt = Pororo(task=\"mt\", lang=\"multi\", model=\"transformer.large.multi.fast.mtpg\")\n",
    "print(fast_mt)"
   ]
  },
  {
   "cell_type": "markdown",
   "id": "6c2c7192",
   "metadata": {},
   "source": [
    "# [Automated Essay Scoring](https://kakaobrain.github.io/pororo/text_cls/aes.html)"
   ]
  },
  {
   "cell_type": "markdown",
   "id": "711dfeef",
   "metadata": {},
   "source": [
    "## 1. 이용 가능한 모델 확인"
   ]
  },
  {
   "cell_type": "code",
   "execution_count": 10,
   "id": "8f3315a5",
   "metadata": {},
   "outputs": [
    {
     "data": {
      "text/plain": [
       "'Available models for aes are ([lang]: en, [model]: roberta.base.en.aes)'"
      ]
     },
     "execution_count": 10,
     "metadata": {},
     "output_type": "execute_result"
    }
   ],
   "source": [
    "Pororo.available_models(\"aes\")"
   ]
  },
  {
   "cell_type": "markdown",
   "id": "4f18b43e",
   "metadata": {},
   "source": [
    "## 2. 객체 생성"
   ]
  },
  {
   "cell_type": "code",
   "execution_count": 11,
   "id": "1b9e69bd",
   "metadata": {},
   "outputs": [
    {
     "data": {
      "text/plain": [
       "[TASK]: AES\n",
       "[LANG]: EN\n",
       "[MODEL]: roberta.base.en.aes"
      ]
     },
     "execution_count": 11,
     "metadata": {},
     "output_type": "execute_result"
    }
   ],
   "source": [
    "aes = Pororo(task=\"aes\", lang=\"en\")\n",
    "aes"
   ]
  },
  {
   "cell_type": "markdown",
   "id": "d6a4d03c",
   "metadata": {},
   "source": [
    "## 3. 자동 에세이 채점"
   ]
  },
  {
   "cell_type": "code",
   "execution_count": 12,
   "id": "697f2e88",
   "metadata": {},
   "outputs": [
    {
     "data": {
      "text/plain": [
       "23.64"
      ]
     },
     "execution_count": 12,
     "metadata": {},
     "output_type": "execute_result"
    }
   ],
   "source": [
    "aes(\"\"\"\n",
    "More effort is wasted doing things that don't matter than is wasted doing things inefficiently.\n",
    "And if that is the case, elimination is a more useful skill than optimization.\n",
    "I am reminded of the famous Peter Drucker quote,\n",
    "'There is nothing so useless as doing efficiently that which should not be done at all.'\n",
    "\"\"\")"
   ]
  },
  {
   "cell_type": "markdown",
   "id": "63b083cd",
   "metadata": {},
   "source": [
    "# [Age Suitability Prediction](https://kakaobrain.github.io/pororo/text_cls/age_suitability.html)\n",
    "## 1. 이용 가능한 모델 확인"
   ]
  },
  {
   "cell_type": "code",
   "execution_count": 13,
   "id": "80f5b6c6",
   "metadata": {},
   "outputs": [
    {
     "data": {
      "text/plain": [
       "'Available models for age_suitability are ([lang]: en, [model]: roberta.base.en.movie)'"
      ]
     },
     "execution_count": 13,
     "metadata": {},
     "output_type": "execute_result"
    }
   ],
   "source": [
    "Pororo.available_models(\"age_suitability\")"
   ]
  },
  {
   "cell_type": "markdown",
   "id": "182ac14d",
   "metadata": {},
   "source": [
    "## 2. 객체 생성"
   ]
  },
  {
   "cell_type": "code",
   "execution_count": 14,
   "id": "3e2f4749",
   "metadata": {},
   "outputs": [
    {
     "data": {
      "text/plain": [
       "[TASK]: AGE_SUITABILITY\n",
       "[LANG]: EN\n",
       "[MODEL]: roberta.base.en.movie"
      ]
     },
     "execution_count": 14,
     "metadata": {},
     "output_type": "execute_result"
    }
   ],
   "source": [
    "age_suitability = Pororo(task=\"age_suitability\", lang=\"en\")\n",
    "age_suitability"
   ]
  },
  {
   "cell_type": "markdown",
   "id": "d9c1ec81",
   "metadata": {},
   "source": [
    "## 3. 연령 적합성 예측"
   ]
  },
  {
   "cell_type": "code",
   "execution_count": 15,
   "id": "3f3e0627",
   "metadata": {},
   "outputs": [
    {
     "data": {
      "text/plain": [
       "{'rating': {'class': 'PG',\n",
       "  'description': 'Parental Guidance Suggested. Some material may not be suitable for children.'},\n",
       " 'emotion': {'nudity': 'Low',\n",
       "  'violence': 'Low',\n",
       "  'profanity': 'Low',\n",
       "  'alcohol': 'Low',\n",
       "  'frightening': 'Low'}}"
      ]
     },
     "execution_count": 15,
     "metadata": {},
     "output_type": "execute_result"
    }
   ],
   "source": [
    "age_suitability(\"When I was a little girl in the 1950s, it would not have been possible for me to say, I want to be an anchorwoman when I grow up.\")"
   ]
  },
  {
   "cell_type": "code",
   "execution_count": 16,
   "id": "3d241cf6",
   "metadata": {},
   "outputs": [
    {
     "data": {
      "text/plain": [
       "{'rating': {'class': 'R',\n",
       "  'description': 'Restricted. Under 17 requires accompanying parent or adult guardian.'},\n",
       " 'emotion': {'nudity': 'Low',\n",
       "  'violence': 'Low',\n",
       "  'profanity': 'Low',\n",
       "  'alcohol': 'Low',\n",
       "  'frightening': 'Low'}}"
      ]
     },
     "execution_count": 16,
     "metadata": {},
     "output_type": "execute_result"
    }
   ],
   "source": [
    "age_suitability(\"The past can hurt, but you can either run from it, or learn from it.\")"
   ]
  },
  {
   "cell_type": "code",
   "execution_count": 17,
   "id": "b3baa2ad",
   "metadata": {},
   "outputs": [
    {
     "data": {
      "text/plain": [
       "{'rating': {'class': 'PG-13',\n",
       "  'description': 'Parents Strongly Cautioned. Some material may be inappropriate for children under 13.'},\n",
       " 'emotion': {'nudity': 'Low',\n",
       "  'violence': 'Low',\n",
       "  'profanity': 'Low',\n",
       "  'alcohol': 'Low',\n",
       "  'frightening': 'Low'}}"
      ]
     },
     "execution_count": 17,
     "metadata": {},
     "output_type": "execute_result"
    }
   ],
   "source": [
    "age_suitability(\"At some point you've got to decide for yourself who you gonna be. Can't let nobody make that decision for you.\")"
   ]
  },
  {
   "cell_type": "markdown",
   "id": "1bf6b2dd",
   "metadata": {},
   "source": [
    "# [Natural Language Inference](https://kakaobrain.github.io/pororo/text_cls/nli.html)\n",
    "## 1. 이용 가능한 모델 확인"
   ]
  },
  {
   "cell_type": "code",
   "execution_count": 18,
   "id": "6032f44d",
   "metadata": {},
   "outputs": [
    {
     "data": {
      "text/plain": [
       "'Available models for nli are ([lang]: en, [model]: roberta.base.en.nli), ([lang]: ko, [model]: brainbert.base.ko.kornli), ([lang]: ja, [model]: jaberta.base.ja.nli), ([lang]: zh, [model]: zhberta.base.zh.nli)'"
      ]
     },
     "execution_count": 18,
     "metadata": {},
     "output_type": "execute_result"
    }
   ],
   "source": [
    "Pororo.available_models(\"nli\")"
   ]
  },
  {
   "cell_type": "markdown",
   "id": "0abfe677",
   "metadata": {},
   "source": [
    "## 2. 객체 생성"
   ]
  },
  {
   "cell_type": "code",
   "execution_count": 19,
   "id": "de383590",
   "metadata": {},
   "outputs": [],
   "source": [
    "nli_ko = Pororo(task=\"nli\", lang=\"ko\")"
   ]
  },
  {
   "cell_type": "code",
   "execution_count": 20,
   "id": "ac164b63",
   "metadata": {},
   "outputs": [],
   "source": [
    "nli_en = Pororo(task=\"nli\", lang=\"en\")"
   ]
  },
  {
   "cell_type": "markdown",
   "id": "eb92df51",
   "metadata": {},
   "source": [
    "## 3. 자연어 추론"
   ]
  },
  {
   "cell_type": "code",
   "execution_count": 21,
   "id": "3d051da6",
   "metadata": {},
   "outputs": [
    {
     "data": {
      "text/plain": [
       "'Contradiction'"
      ]
     },
     "execution_count": 21,
     "metadata": {},
     "output_type": "execute_result"
    }
   ],
   "source": [
    "nli_ko(\"저는, 그냥 알아내려고 거기 있었어요\", \"나는 처음부터 그것을 잘 이해했다\")"
   ]
  },
  {
   "cell_type": "code",
   "execution_count": 22,
   "id": "8623e0a1",
   "metadata": {},
   "outputs": [
    {
     "data": {
      "text/plain": [
       "'Entailment'"
      ]
     },
     "execution_count": 22,
     "metadata": {},
     "output_type": "execute_result"
    }
   ],
   "source": [
    "nli_ko(\"회색 개가 숲에서 쓰러진 나무를 핥고 있다.\", \"개가 밖에 있다.\")"
   ]
  },
  {
   "cell_type": "code",
   "execution_count": 23,
   "id": "357bd876",
   "metadata": {},
   "outputs": [
    {
     "data": {
      "text/plain": [
       "'Neutral'"
      ]
     },
     "execution_count": 23,
     "metadata": {},
     "output_type": "execute_result"
    }
   ],
   "source": [
    "nli_ko(\"스타벅스에서 뭐 마실지 고민된다.\", \"다양한 음료를 마셔봐도 역시 아메리카노가 최고다.\")"
   ]
  },
  {
   "cell_type": "code",
   "execution_count": 24,
   "id": "cb9ed0e9",
   "metadata": {},
   "outputs": [
    {
     "data": {
      "text/plain": [
       "'Entailment'"
      ]
     },
     "execution_count": 24,
     "metadata": {},
     "output_type": "execute_result"
    }
   ],
   "source": [
    "nli_en(\"A soccer game with multiple males playing.\", \"Some men are playing a sport.\")"
   ]
  },
  {
   "cell_type": "code",
   "execution_count": 25,
   "id": "adae8e73",
   "metadata": {},
   "outputs": [
    {
     "data": {
      "text/plain": [
       "'Contradiction'"
      ]
     },
     "execution_count": 25,
     "metadata": {},
     "output_type": "execute_result"
    }
   ],
   "source": [
    "nli_en(\"I have 2 cats.\", \"I do not have any pets. What is your cats name?\")"
   ]
  },
  {
   "cell_type": "code",
   "execution_count": 26,
   "id": "f5071687",
   "metadata": {},
   "outputs": [
    {
     "data": {
      "text/plain": [
       "'Neutral'"
      ]
     },
     "execution_count": 26,
     "metadata": {},
     "output_type": "execute_result"
    }
   ],
   "source": [
    "nli_en(\"A senior is waiting at the window of a restaurant that serves sandwiches.\", \"A man is looking to order a grilled cheese sandwich.\")"
   ]
  },
  {
   "cell_type": "code",
   "execution_count": null,
   "id": "7b8ff59f",
   "metadata": {},
   "outputs": [],
   "source": []
  }
 ],
 "metadata": {
  "kernelspec": {
   "display_name": "Python 3",
   "language": "python",
   "name": "python3"
  },
  "language_info": {
   "codemirror_mode": {
    "name": "ipython",
    "version": 3
   },
   "file_extension": ".py",
   "mimetype": "text/x-python",
   "name": "python",
   "nbconvert_exporter": "python",
   "pygments_lexer": "ipython3",
   "version": "3.8.10"
  }
 },
 "nbformat": 4,
 "nbformat_minor": 5
}
