{
 "cells": [
  {
   "cell_type": "markdown",
   "id": "bc908b4f",
   "metadata": {},
   "source": [
    "# Pororo\n",
    "- [Repository](https://github.com/kakaobrain/pororo)\n",
    "- [Documentation](https://kakaobrain.github.io/pororo/)"
   ]
  },
  {
   "cell_type": "code",
   "execution_count": 1,
   "id": "3c13f05c",
   "metadata": {},
   "outputs": [],
   "source": [
    "from pororo import Pororo"
   ]
  },
  {
   "cell_type": "markdown",
   "id": "724b95e9",
   "metadata": {},
   "source": [
    "# misc.\n",
    "## [Automatic Speech Recognition](https://kakaobrain.github.io/pororo/miscs/asr.html)\n",
    "#### Speech Synthesis\n",
    "- **음성합성** 모듈을 활용하기 위해서는 아래 모듈들을 추가로 설치해야 함\n",
    "```\n",
    "requirements = [\n",
    "    \"editdistance==0.5.3\",\n",
    "    \"epitran==1.2\",\n",
    "    \"fastdtw==0.3.4\",\n",
    "    \"future\",\n",
    "    \"jieba==0.42.1\",\n",
    "    \"librosa==0.7.0\",\n",
    "    \"phonemizer==2.1\",\n",
    "    \"Pillow==7.1.0\",\n",
    "    \"pinyin==0.4.0\",\n",
    "    \"scipy\",\n",
    "    \"SoundFile==0.10.2\",\n",
    "    \"numba==0.48\",\n",
    "    \"ko_pron\",\n",
    "]\n",
    "```\n",
    "\n",
    "### 1. 이용 가능한 모델 확인"
   ]
  },
  {
   "cell_type": "code",
   "execution_count": 2,
   "id": "bd4a18a2",
   "metadata": {},
   "outputs": [
    {
     "data": {
      "text/plain": [
       "'Available models for asr are ([lang]: en, [model]: wav2vec.en), ([lang]: ko, [model]: wav2vec.ko), ([lang]: zh, [model]: wav2vec.zh)'"
      ]
     },
     "execution_count": 2,
     "metadata": {},
     "output_type": "execute_result"
    }
   ],
   "source": [
    "Pororo.available_models(\"asr\")"
   ]
  },
  {
   "cell_type": "markdown",
   "id": "c2235959",
   "metadata": {},
   "source": [
    "### 2. 객체 생성"
   ]
  },
  {
   "cell_type": "code",
   "execution_count": null,
   "id": "78c00125",
   "metadata": {},
   "outputs": [],
   "source": [
    "asr_ko = Pororo(task=\"asr\", lang=\"ko\")\n",
    "asr_en = Pororo(task=\"asr\", lang=\"en\")"
   ]
  },
  {
   "cell_type": "code",
   "execution_count": null,
   "id": "92bb581e",
   "metadata": {},
   "outputs": [],
   "source": [
    "asr_ko('korean_speech.wav')"
   ]
  },
  {
   "cell_type": "code",
   "execution_count": null,
   "id": "ccdf43d2",
   "metadata": {},
   "outputs": [],
   "source": [
    "asr_en('english_speech.wav')"
   ]
  },
  {
   "cell_type": "markdown",
   "id": "cccb2362",
   "metadata": {},
   "source": [
    "## [Image Captioning](https://kakaobrain.github.io/pororo/miscs/caption.html)\n",
    "### 1. 이용 가능한 모델 확인"
   ]
  },
  {
   "cell_type": "code",
   "execution_count": 3,
   "id": "58ff4049",
   "metadata": {},
   "outputs": [
    {
     "data": {
      "text/plain": [
       "'Available models for caption are ([lang]: en, [model]: transformer.base.en.caption), ([lang]: ko, [model]: transformer.base.en.caption), ([lang]: zh, [model]: transformer.base.en.caption), ([lang]: ja, [model]: transformer.base.en.caption)'"
      ]
     },
     "execution_count": 3,
     "metadata": {},
     "output_type": "execute_result"
    }
   ],
   "source": [
    "Pororo.available_models(\"caption\")"
   ]
  },
  {
   "cell_type": "markdown",
   "id": "fa37288e",
   "metadata": {},
   "source": [
    "### 2. 객체 생성"
   ]
  },
  {
   "cell_type": "code",
   "execution_count": 4,
   "id": "a0fa4fe3",
   "metadata": {},
   "outputs": [
    {
     "name": "stderr",
     "output_type": "stream",
     "text": [
      "Using cache found in /Users/benny/.cache/torch/hub/facebookresearch_detr_master\n",
      "Using cache found in /Users/benny/.cache/torch/hub/facebookresearch_detr_master\n"
     ]
    }
   ],
   "source": [
    "caption_ko = Pororo(task=\"caption\", lang=\"ko\")\n",
    "caption_en = Pororo(task=\"caption\", lang=\"en\")"
   ]
  },
  {
   "cell_type": "markdown",
   "id": "08de6d49",
   "metadata": {},
   "source": [
    "### 3. 이미지 캡션"
   ]
  },
  {
   "cell_type": "markdown",
   "id": "240fdf0b",
   "metadata": {},
   "source": [
    "![pancakes](https://images.unsplash.com/photo-1628083578371-e210a991d713?ixid=MnwxMjA3fDB8MHxwaG90by1wYWdlfHx8fGVufDB8fHx8&ixlib=rb-1.2.1&auto=format&fit=crop&w=334&q=80)"
   ]
  },
  {
   "cell_type": "code",
   "execution_count": 5,
   "id": "b91fadd0",
   "metadata": {},
   "outputs": [
    {
     "data": {
      "text/plain": [
       "'식사 한 접시가 있는 식탁에 음식 한 그릇을 얹었다.'"
      ]
     },
     "execution_count": 5,
     "metadata": {},
     "output_type": "execute_result"
    }
   ],
   "source": [
    "caption_ko(\"https://images.unsplash.com/photo-1628083578371-e210a991d713?ixid=MnwxMjA3fDB8MHxwaG90by1wYWdlfHx8fGVufDB8fHx8&ixlib=rb-1.2.1&auto=format&fit=crop&w=334&q=80\")"
   ]
  },
  {
   "cell_type": "markdown",
   "id": "a059965e",
   "metadata": {},
   "source": [
    "![working-cat](https://images.unsplash.com/photo-1547960450-2ea08b931270?ixid=MnwxMjA3fDB8MHxwaG90by1wYWdlfHx8fGVufDB8fHx8&ixlib=rb-1.2.1&auto=format&fit=crop&w=890&q=80)"
   ]
  },
  {
   "cell_type": "code",
   "execution_count": 6,
   "id": "ad80f244",
   "metadata": {},
   "outputs": [
    {
     "data": {
      "text/plain": [
       "'고양이가 노트북 키보드에 앉아 있다'"
      ]
     },
     "execution_count": 6,
     "metadata": {},
     "output_type": "execute_result"
    }
   ],
   "source": [
    "caption_ko(\"https://images.unsplash.com/photo-1547960450-2ea08b931270?ixid=MnwxMjA3fDB8MHxwaG90by1wYWdlfHx8fGVufDB8fHx8&ixlib=rb-1.2.1&auto=format&fit=crop&w=890&q=80\")"
   ]
  },
  {
   "cell_type": "markdown",
   "id": "91b404c1",
   "metadata": {},
   "source": [
    "![book](https://images.unsplash.com/photo-1517849325426-6eac321919a0?ixid=MnwxMjA3fDB8MHxwaG90by1wYWdlfHx8fGVufDB8fHx8&ixlib=rb-1.2.1&auto=format&fit=crop&w=750&q=80)"
   ]
  },
  {
   "cell_type": "code",
   "execution_count": 7,
   "id": "716ac9a7",
   "metadata": {},
   "outputs": [
    {
     "data": {
      "text/plain": [
       "'A book that is sitting on a table.'"
      ]
     },
     "execution_count": 7,
     "metadata": {},
     "output_type": "execute_result"
    }
   ],
   "source": [
    "caption_en(\"https://images.unsplash.com/photo-1517849325426-6eac321919a0?ixid=MnwxMjA3fDB8MHxwaG90by1wYWdlfHx8fGVufDB8fHx8&ixlib=rb-1.2.1&auto=format&fit=crop&w=750&q=80\")"
   ]
  },
  {
   "cell_type": "markdown",
   "id": "86af732e",
   "metadata": {},
   "source": [
    "![watermelon-orange](https://images.unsplash.com/photo-1621659911279-b08ce9ff421f?ixid=MnwxMjA3fDB8MHxwaG90by1wYWdlfHx8fGVufDB8fHx8&ixlib=rb-1.2.1&auto=format&fit=crop&w=400&q=80)"
   ]
  },
  {
   "cell_type": "code",
   "execution_count": 8,
   "id": "23b28466",
   "metadata": {},
   "outputs": [
    {
     "data": {
      "text/plain": [
       "'A vase with a picture of a bird on it.'"
      ]
     },
     "execution_count": 8,
     "metadata": {},
     "output_type": "execute_result"
    }
   ],
   "source": [
    "caption_en(\"https://images.unsplash.com/photo-1621659911279-b08ce9ff421f?ixid=MnwxMjA3fDB8MHxwaG90by1wYWdlfHx8fGVufDB8fHx8&ixlib=rb-1.2.1&auto=format&fit=crop&w=400&q=80\")"
   ]
  },
  {
   "cell_type": "markdown",
   "id": "c1e13a3d",
   "metadata": {},
   "source": [
    "![apple-items](https://images.unsplash.com/photo-1550029402-8ea9bfe19f04?ixid=MnwxMjA3fDB8MHxwaG90by1wYWdlfHx8fGVufDB8fHx8&ixlib=rb-1.2.1&auto=format&fit=crop&w=400&q=80)"
   ]
  },
  {
   "cell_type": "code",
   "execution_count": 9,
   "id": "08672744",
   "metadata": {},
   "outputs": [
    {
     "data": {
      "text/plain": [
       "'A laptop computer sitting on top of a table.'"
      ]
     },
     "execution_count": 9,
     "metadata": {},
     "output_type": "execute_result"
    }
   ],
   "source": [
    "caption_en(\"https://images.unsplash.com/photo-1550029402-8ea9bfe19f04?ixid=MnwxMjA3fDB8MHxwaG90by1wYWdlfHx8fGVufDB8fHx8&ixlib=rb-1.2.1&auto=format&fit=crop&w=400&q=80\")"
   ]
  },
  {
   "cell_type": "code",
   "execution_count": null,
   "id": "8d1fa110",
   "metadata": {},
   "outputs": [],
   "source": []
  }
 ],
 "metadata": {
  "kernelspec": {
   "display_name": "Python 3",
   "language": "python",
   "name": "python3"
  },
  "language_info": {
   "codemirror_mode": {
    "name": "ipython",
    "version": 3
   },
   "file_extension": ".py",
   "mimetype": "text/x-python",
   "name": "python",
   "nbconvert_exporter": "python",
   "pygments_lexer": "ipython3",
   "version": "3.8.10"
  }
 },
 "nbformat": 4,
 "nbformat_minor": 5
}
