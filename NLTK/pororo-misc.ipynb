{
 "cells": [
  {
   "cell_type": "markdown",
   "id": "bc908b4f",
   "metadata": {},
   "source": [
    "# Pororo\n",
    "- [Repository](https://github.com/kakaobrain/pororo)\n",
    "- [Documentation](https://kakaobrain.github.io/pororo/)"
   ]
  },
  {
   "cell_type": "code",
   "execution_count": 1,
   "id": "3c13f05c",
   "metadata": {},
   "outputs": [],
   "source": [
    "from pororo import Pororo"
   ]
  },
  {
   "cell_type": "markdown",
   "id": "724b95e9",
   "metadata": {},
   "source": [
    "# misc.\n",
    "## [Automatic Speech Recognition](https://kakaobrain.github.io/pororo/miscs/asr.html)\n",
    "#### Speech Synthesis\n",
    "- **음성합성** 모듈을 활용하기 위해서는 아래 모듈들을 추가로 설치해야 함\n",
    "```\n",
    "requirements = [\n",
    "    \"editdistance==0.5.3\",\n",
    "    \"epitran==1.2\",\n",
    "    \"fastdtw==0.3.4\",\n",
    "    \"future\",\n",
    "    \"jieba==0.42.1\",\n",
    "    \"librosa==0.7.0\",\n",
    "    \"phonemizer==2.1\",\n",
    "    \"Pillow==7.1.0\",\n",
    "    \"pinyin==0.4.0\",\n",
    "    \"scipy\",\n",
    "    \"SoundFile==0.10.2\",\n",
    "    \"numba==0.48\",\n",
    "    \"ko_pron\",\n",
    "]\n",
    "```\n",
    "\n",
    "### 1. 이용 가능한 모델 확인"
   ]
  },
  {
   "cell_type": "code",
   "execution_count": 2,
   "id": "bd4a18a2",
   "metadata": {},
   "outputs": [
    {
     "data": {
      "text/plain": [
       "'Available models for asr are ([lang]: en, [model]: wav2vec.en), ([lang]: ko, [model]: wav2vec.ko), ([lang]: zh, [model]: wav2vec.zh)'"
      ]
     },
     "execution_count": 2,
     "metadata": {},
     "output_type": "execute_result"
    }
   ],
   "source": [
    "Pororo.available_models(\"asr\")"
   ]
  },
  {
   "cell_type": "markdown",
   "id": "c2235959",
   "metadata": {},
   "source": [
    "### 2. 객체 생성"
   ]
  },
  {
   "cell_type": "code",
   "execution_count": null,
   "id": "49123958",
   "metadata": {},
   "outputs": [],
   "source": [
    "asr_ko = Pororo(task=\"asr\", lang=\"ko\")\n",
    "asr_en = Pororo(task=\"asr\", lang=\"en\")"
   ]
  },
  {
   "cell_type": "code",
   "execution_count": null,
   "id": "92bb581e",
   "metadata": {},
   "outputs": [],
   "source": [
    "asr_ko('korean_speech.wav')"
   ]
  },
  {
   "cell_type": "code",
   "execution_count": null,
   "id": "ccdf43d2",
   "metadata": {},
   "outputs": [],
   "source": [
    "asr_en('english_speech.wav')"
   ]
  },
  {
   "cell_type": "code",
   "execution_count": null,
   "id": "cea46018",
   "metadata": {},
   "outputs": [],
   "source": []
  }
 ],
 "metadata": {
  "kernelspec": {
   "display_name": "Python 3",
   "language": "python",
   "name": "python3"
  },
  "language_info": {
   "codemirror_mode": {
    "name": "ipython",
    "version": 3
   },
   "file_extension": ".py",
   "mimetype": "text/x-python",
   "name": "python",
   "nbconvert_exporter": "python",
   "pygments_lexer": "ipython3",
   "version": "3.8.10"
  }
 },
 "nbformat": 4,
 "nbformat_minor": 5
}
