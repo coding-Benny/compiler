{
 "cells": [
  {
   "cell_type": "code",
   "execution_count": 1,
   "id": "35dc9e7a",
   "metadata": {},
   "outputs": [],
   "source": [
    "import konlpy"
   ]
  },
  {
   "cell_type": "code",
   "execution_count": 2,
   "id": "cd2bef0b",
   "metadata": {},
   "outputs": [],
   "source": [
    "from konlpy.tag import Kkma\n",
    "kkma = Kkma()"
   ]
  },
  {
   "cell_type": "code",
   "execution_count": 3,
   "id": "8a96ca80",
   "metadata": {
    "scrolled": true
   },
   "outputs": [
    {
     "name": "stdout",
     "output_type": "stream",
     "text": [
      "['공부', '를', '하', '면', '하', 'ㄹ수록', '모르', '는', '것', '이', '많', '다는', '것', '을', '알', '게', '되', 'ㅂ니다', '.']\n",
      "['대학', '통계학', '이산', '이산수학', '수학', '등']\n",
      "[('다', 'MAG'), ('까먹', 'VV'), ('어', 'ECD'), ('버리', 'VXV'), ('었', 'EPT'), ('네요', 'EFN'), ('?', 'SF'), ('ㅋㅋ', 'EMO')]\n",
      "['그래도 계속 공부합니다.', '재밌으니까!']\n"
     ]
    }
   ],
   "source": [
    "print(kkma.morphs(u'공부를 하면 할수록 모르는 게 많다는 것을 알게 됩니다.'))\n",
    "print(kkma.nouns(u'대학에서 DB, 통계학, 이산수학 등을 배웠지만...'))\n",
    "print(kkma.pos(u'다 까먹어 버렸네요?ㅋㅋ'))\n",
    "print(kkma.sentences(u'그래도 계속 공부합니다. 재밌으니까!'))"
   ]
  },
  {
   "cell_type": "code",
   "execution_count": 4,
   "id": "f77caa10",
   "metadata": {},
   "outputs": [
    {
     "name": "stdout",
     "output_type": "stream",
     "text": [
      "['네, 안녕하세요.', '반갑습니다.']\n",
      "['질문', '건의', '건의사항', '사항', '깃헙', '이슈', '트래커']\n",
      "[('오류', 'NNG'),\n",
      " ('보', 'VV'),\n",
      " ('고는', 'ECE'),\n",
      " ('실행', 'NNG'),\n",
      " ('환경', 'NNG'),\n",
      " (',', 'SP'),\n",
      " ('에', 'JC'),\n",
      " ('러', 'NNP'),\n",
      " ('메세지', 'NNG'),\n",
      " ('와', 'JKM'),\n",
      " ('함께', 'MAG'),\n",
      " ('설명', 'NNG'),\n",
      " ('을', 'JKO'),\n",
      " ('최대한', 'NNG'),\n",
      " ('상세히', 'MAG'),\n",
      " ('!', 'SF'),\n",
      " ('^^', 'EMO')]\n"
     ]
    }
   ],
   "source": [
    "from konlpy.utils import pprint\n",
    "pprint(kkma.sentences('네, 안녕하세요. 반갑습니다.'))\n",
    "pprint(kkma.nouns('질문이나 건의사항은 깃헙 이슈 트래커에 남겨주세요.'))\n",
    "pprint(kkma.pos('오류 보고는 실행 환경, 에러 메세지와 함께 설명을 최대한 상세히!^^'))"
   ]
  },
  {
   "cell_type": "code",
   "execution_count": 5,
   "id": "f240f5e4",
   "metadata": {},
   "outputs": [
    {
     "name": "stdout",
     "output_type": "stream",
     "text": [
      "['우왕', '코', '모란', '도', '오픈', '소스', '가', '되', '었', '어요']\n",
      "['오픈', '소스', '관심', '개발자']\n",
      "[('혹시', 'MAG'), ('바람과 함께 사라지다', 'NNP'), ('보', 'VV'), ('았', 'EP'), ('어', 'EF'), ('?', 'SF')]\n"
     ]
    }
   ],
   "source": [
    "from konlpy.tag import Komoran\n",
    "komoran = Komoran(userdic='/tmp/dic.txt')\n",
    "print(komoran.morphs(u'우왕 코모란도 오픈소스가 되었어요'))\n",
    "print(komoran.nouns(u'오픈소스에 관심 많은 멋진 개발자님들!'))\n",
    "print(komoran.pos(u'혹시 바람과 함께 사라지다 봤어?'))"
   ]
  },
  {
   "cell_type": "code",
   "execution_count": null,
   "id": "a691f3ba",
   "metadata": {},
   "outputs": [],
   "source": []
  }
 ],
 "metadata": {
  "kernelspec": {
   "display_name": "Python 3",
   "language": "python",
   "name": "python3"
  },
  "language_info": {
   "codemirror_mode": {
    "name": "ipython",
    "version": 3
   },
   "file_extension": ".py",
   "mimetype": "text/x-python",
   "name": "python",
   "nbconvert_exporter": "python",
   "pygments_lexer": "ipython3",
   "version": "3.8.10"
  }
 },
 "nbformat": 4,
 "nbformat_minor": 5
}
