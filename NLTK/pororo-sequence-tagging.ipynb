{
 "cells": [
  {
   "cell_type": "markdown",
   "id": "6c12c1a1",
   "metadata": {},
   "source": [
    "# Pororo\n",
    "- [Repository](https://github.com/kakaobrain/pororo)\n",
    "- [Documentation](https://kakaobrain.github.io/pororo/)"
   ]
  },
  {
   "cell_type": "code",
   "execution_count": 1,
   "id": "aaac2b9e",
   "metadata": {},
   "outputs": [],
   "source": [
    "from pororo import Pororo"
   ]
  },
  {
   "cell_type": "markdown",
   "id": "9241a72c",
   "metadata": {},
   "source": [
    "# Sequence Tagging\n",
    "## [Contextualized Embedding](https://kakaobrain.github.io/pororo/tagging/contextualized.html)\n",
    "### 1. 이용 가능한 모델 확인"
   ]
  },
  {
   "cell_type": "code",
   "execution_count": 2,
   "id": "dece4799",
   "metadata": {},
   "outputs": [
    {
     "data": {
      "text/plain": [
       "'Available models for cse are ([lang]: en, [model]: roberta.base.en), ([lang]: ko, [model]: brainbert.base.ko), ([lang]: zh, [model]: zhberta.base.zh), ([lang]: ja, [model]: jaberta.base.ja)'"
      ]
     },
     "execution_count": 2,
     "metadata": {},
     "output_type": "execute_result"
    }
   ],
   "source": [
    "Pororo.available_models(\"cse\")"
   ]
  },
  {
   "cell_type": "markdown",
   "id": "25143b99",
   "metadata": {},
   "source": [
    "### 2. 객체 생성"
   ]
  },
  {
   "cell_type": "code",
   "execution_count": 3,
   "id": "10375d2d",
   "metadata": {},
   "outputs": [],
   "source": [
    "cse_ko = Pororo(task=\"cse\", lang=\"ko\")\n",
    "cse_en = Pororo(task=\"cse\", lang=\"en\")"
   ]
  },
  {
   "cell_type": "markdown",
   "id": "cd0e4303",
   "metadata": {},
   "source": [
    "### 3. 하위 단어 단위로 문맥에 따른 문장 임베딩 "
   ]
  },
  {
   "cell_type": "code",
   "execution_count": 4,
   "id": "8dcd8c5c",
   "metadata": {},
   "outputs": [
    {
     "data": {
      "text/plain": [
       "array([[-0.21313499, -0.11196373, -0.02407344, ..., -0.2571211 ,\n",
       "        -0.23565257, -0.12325783],\n",
       "       [ 0.13783577,  0.2669262 , -0.6433762 , ...,  0.01077018,\n",
       "        -0.11404316, -0.02197149],\n",
       "       [ 0.08259992,  0.24554944, -0.6630615 , ...,  0.02181647,\n",
       "        -0.11622939, -0.06948961],\n",
       "       [-0.20931226, -0.1354514 , -0.3357223 , ..., -0.12552167,\n",
       "        -0.19938025, -0.01137309],\n",
       "       [-0.25663525, -0.11936974, -0.01797597, ..., -0.2369157 ,\n",
       "        -0.19555894, -0.18572047]], dtype=float32)"
      ]
     },
     "execution_count": 4,
     "metadata": {},
     "output_type": "execute_result"
    }
   ],
   "source": [
    "cse_ko(\"하늘을 나는 새\")"
   ]
  },
  {
   "cell_type": "code",
   "execution_count": 5,
   "id": "4344366c",
   "metadata": {},
   "outputs": [
    {
     "data": {
      "text/plain": [
       "array([[-1.06049813e-02, -1.86113492e-01,  3.88148427e-03, ...,\n",
       "        -2.41542086e-01, -9.00222510e-02, -6.55645281e-02],\n",
       "       [ 9.95350853e-02, -1.23527922e-01,  1.22392386e-01, ...,\n",
       "         1.07821867e-01,  9.81458724e-02, -2.25251410e-02],\n",
       "       [-1.43838581e-04, -1.04551390e-01, -3.65026921e-01, ...,\n",
       "         7.41251931e-02, -1.71310231e-01,  1.15158353e-02],\n",
       "       ...,\n",
       "       [-2.24484839e-02, -7.06166923e-02,  1.99606985e-01, ...,\n",
       "        -1.82698280e-01,  8.40096921e-02,  8.68557170e-02],\n",
       "       [ 4.74012047e-02, -1.40060291e-01, -6.09750375e-02, ...,\n",
       "        -4.04116884e-02, -3.20566148e-02,  5.58848679e-02],\n",
       "       [ 6.44097999e-02, -8.70263278e-02,  1.42253563e-01, ...,\n",
       "         7.63181373e-02, -1.82041749e-02,  4.39261831e-03]], dtype=float32)"
      ]
     },
     "execution_count": 5,
     "metadata": {},
     "output_type": "execute_result"
    }
   ],
   "source": [
    "cse_ko(\"나른한 오후엔 음악과 커피를!\")"
   ]
  },
  {
   "cell_type": "code",
   "execution_count": 6,
   "id": "ed3f30fb",
   "metadata": {},
   "outputs": [
    {
     "data": {
      "text/plain": [
       "array([[-0.03558701,  0.11585447, -0.01496094, ..., -0.05464038,\n",
       "        -0.01766211, -0.04984224],\n",
       "       [ 0.04018528, -0.07011816, -0.11749196, ...,  0.27356097,\n",
       "         0.14581394, -0.24985018],\n",
       "       [ 0.23272096,  0.2758757 , -0.1045337 , ..., -0.00551438,\n",
       "         0.23068707, -0.16332047],\n",
       "       ...,\n",
       "       [-0.05810062,  0.12190569,  0.1875323 , ...,  0.14579834,\n",
       "         0.0088409 ,  0.01141189],\n",
       "       [ 0.00383297,  0.13403621,  0.19824538, ..., -0.27938277,\n",
       "         0.03267471,  0.0310562 ],\n",
       "       [-0.02350142,  0.12627493, -0.03620733, ..., -0.0935569 ,\n",
       "        -0.0096098 , -0.08637227]], dtype=float32)"
      ]
     },
     "execution_count": 6,
     "metadata": {},
     "output_type": "execute_result"
    }
   ],
   "source": [
    "cse_en(\"How are you going to spend your life?\")"
   ]
  },
  {
   "cell_type": "code",
   "execution_count": null,
   "id": "8e1b0905",
   "metadata": {},
   "outputs": [],
   "source": []
  }
 ],
 "metadata": {
  "kernelspec": {
   "display_name": "Python 3",
   "language": "python",
   "name": "python3"
  },
  "language_info": {
   "codemirror_mode": {
    "name": "ipython",
    "version": 3
   },
   "file_extension": ".py",
   "mimetype": "text/x-python",
   "name": "python",
   "nbconvert_exporter": "python",
   "pygments_lexer": "ipython3",
   "version": "3.8.10"
  }
 },
 "nbformat": 4,
 "nbformat_minor": 5
}
