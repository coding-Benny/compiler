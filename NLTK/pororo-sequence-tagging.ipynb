{
 "cells": [
  {
   "cell_type": "markdown",
   "id": "6c12c1a1",
   "metadata": {},
   "source": [
    "# Pororo\n",
    "- [Repository](https://github.com/kakaobrain/pororo)\n",
    "- [Documentation](https://kakaobrain.github.io/pororo/)"
   ]
  },
  {
   "cell_type": "code",
   "execution_count": 1,
   "id": "aaac2b9e",
   "metadata": {},
   "outputs": [],
   "source": [
    "from pororo import Pororo"
   ]
  },
  {
   "cell_type": "markdown",
   "id": "9241a72c",
   "metadata": {},
   "source": [
    "# Sequence Tagging\n",
    "## [Contextualized Embedding](https://kakaobrain.github.io/pororo/tagging/contextualized.html)\n",
    "### 1. 이용 가능한 모델 확인"
   ]
  },
  {
   "cell_type": "code",
   "execution_count": 2,
   "id": "dece4799",
   "metadata": {},
   "outputs": [
    {
     "data": {
      "text/plain": [
       "'Available models for cse are ([lang]: en, [model]: roberta.base.en), ([lang]: ko, [model]: brainbert.base.ko), ([lang]: zh, [model]: zhberta.base.zh), ([lang]: ja, [model]: jaberta.base.ja)'"
      ]
     },
     "execution_count": 2,
     "metadata": {},
     "output_type": "execute_result"
    }
   ],
   "source": [
    "Pororo.available_models(\"cse\")"
   ]
  },
  {
   "cell_type": "markdown",
   "id": "25143b99",
   "metadata": {},
   "source": [
    "### 2. 객체 생성"
   ]
  },
  {
   "cell_type": "code",
   "execution_count": 3,
   "id": "10375d2d",
   "metadata": {},
   "outputs": [],
   "source": [
    "cse_ko = Pororo(task=\"cse\", lang=\"ko\")\n",
    "cse_en = Pororo(task=\"cse\", lang=\"en\")"
   ]
  },
  {
   "cell_type": "markdown",
   "id": "cd0e4303",
   "metadata": {},
   "source": [
    "### 3. 하위 단어 단위로 문맥에 따른 문장 임베딩 "
   ]
  },
  {
   "cell_type": "code",
   "execution_count": 4,
   "id": "8dcd8c5c",
   "metadata": {},
   "outputs": [
    {
     "data": {
      "text/plain": [
       "array([[-0.21313499, -0.11196373, -0.02407344, ..., -0.2571211 ,\n",
       "        -0.23565257, -0.12325783],\n",
       "       [ 0.13783577,  0.2669262 , -0.6433762 , ...,  0.01077018,\n",
       "        -0.11404316, -0.02197149],\n",
       "       [ 0.08259992,  0.24554944, -0.6630615 , ...,  0.02181647,\n",
       "        -0.11622939, -0.06948961],\n",
       "       [-0.20931226, -0.1354514 , -0.3357223 , ..., -0.12552167,\n",
       "        -0.19938025, -0.01137309],\n",
       "       [-0.25663525, -0.11936974, -0.01797597, ..., -0.2369157 ,\n",
       "        -0.19555894, -0.18572047]], dtype=float32)"
      ]
     },
     "execution_count": 4,
     "metadata": {},
     "output_type": "execute_result"
    }
   ],
   "source": [
    "cse_ko(\"하늘을 나는 새\")"
   ]
  },
  {
   "cell_type": "code",
   "execution_count": 5,
   "id": "4344366c",
   "metadata": {},
   "outputs": [
    {
     "data": {
      "text/plain": [
       "array([[-1.06049813e-02, -1.86113492e-01,  3.88148427e-03, ...,\n",
       "        -2.41542086e-01, -9.00222510e-02, -6.55645281e-02],\n",
       "       [ 9.95350853e-02, -1.23527922e-01,  1.22392386e-01, ...,\n",
       "         1.07821867e-01,  9.81458724e-02, -2.25251410e-02],\n",
       "       [-1.43838581e-04, -1.04551390e-01, -3.65026921e-01, ...,\n",
       "         7.41251931e-02, -1.71310231e-01,  1.15158353e-02],\n",
       "       ...,\n",
       "       [-2.24484839e-02, -7.06166923e-02,  1.99606985e-01, ...,\n",
       "        -1.82698280e-01,  8.40096921e-02,  8.68557170e-02],\n",
       "       [ 4.74012047e-02, -1.40060291e-01, -6.09750375e-02, ...,\n",
       "        -4.04116884e-02, -3.20566148e-02,  5.58848679e-02],\n",
       "       [ 6.44097999e-02, -8.70263278e-02,  1.42253563e-01, ...,\n",
       "         7.63181373e-02, -1.82041749e-02,  4.39261831e-03]], dtype=float32)"
      ]
     },
     "execution_count": 5,
     "metadata": {},
     "output_type": "execute_result"
    }
   ],
   "source": [
    "cse_ko(\"나른한 오후엔 음악과 커피를!\")"
   ]
  },
  {
   "cell_type": "code",
   "execution_count": 6,
   "id": "ed3f30fb",
   "metadata": {},
   "outputs": [
    {
     "data": {
      "text/plain": [
       "array([[-0.03558701,  0.11585447, -0.01496094, ..., -0.05464038,\n",
       "        -0.01766211, -0.04984224],\n",
       "       [ 0.04018528, -0.07011816, -0.11749196, ...,  0.27356097,\n",
       "         0.14581394, -0.24985018],\n",
       "       [ 0.23272096,  0.2758757 , -0.1045337 , ..., -0.00551438,\n",
       "         0.23068707, -0.16332047],\n",
       "       ...,\n",
       "       [-0.05810062,  0.12190569,  0.1875323 , ...,  0.14579834,\n",
       "         0.0088409 ,  0.01141189],\n",
       "       [ 0.00383297,  0.13403621,  0.19824538, ..., -0.27938277,\n",
       "         0.03267471,  0.0310562 ],\n",
       "       [-0.02350142,  0.12627493, -0.03620733, ..., -0.0935569 ,\n",
       "        -0.0096098 , -0.08637227]], dtype=float32)"
      ]
     },
     "execution_count": 6,
     "metadata": {},
     "output_type": "execute_result"
    }
   ],
   "source": [
    "cse_en(\"How are you going to spend your life?\")"
   ]
  },
  {
   "cell_type": "markdown",
   "id": "f05e4858",
   "metadata": {},
   "source": [
    "## [Dependency Parsing](https://kakaobrain.github.io/pororo/tagging/dp.html)\n",
    "### 1. 이용 가능한 모델 확인"
   ]
  },
  {
   "cell_type": "code",
   "execution_count": 24,
   "id": "3568af65",
   "metadata": {},
   "outputs": [
    {
     "data": {
      "text/plain": [
       "'Available models for dep_parse are ([lang]: ko, [model]: posbert.base.ko.dp)'"
      ]
     },
     "execution_count": 24,
     "metadata": {},
     "output_type": "execute_result"
    }
   ],
   "source": [
    "Pororo.available_models(\"dep_parse\")"
   ]
  },
  {
   "cell_type": "markdown",
   "id": "ec34759e",
   "metadata": {},
   "source": [
    "### 2. 객체 생성"
   ]
  },
  {
   "cell_type": "markdown",
   "id": "f865ea1e",
   "metadata": {},
   "source": [
    "#### 개발 환경\n",
    "- macOS Big Sur 11.5.1\n",
    "- Python 3.8\n",
    "- pip 20.3.4\n",
    "- python-mecab-ko 1.0.9\n",
    "- python-dev-tools 2020.9.10\n",
    "- wget 1.21.1\n",
    "\n",
    "문제 원인 분석 및 해결 중...\n",
    "일단 버전은 문제되지 않도록 다 맞춰보았는데 해결되지 않았다. 필요한 패키지는 모두 설치한 상황이다."
   ]
  },
  {
   "cell_type": "code",
   "execution_count": 25,
   "id": "8af7f908",
   "metadata": {},
   "outputs": [
    {
     "ename": "TypeError",
     "evalue": "pybind11::init(): factory function returned nullptr",
     "output_type": "error",
     "traceback": [
      "\u001b[0;31m---------------------------------------------------------------------------\u001b[0m",
      "\u001b[0;31mTypeError\u001b[0m                                 Traceback (most recent call last)",
      "\u001b[0;32m<ipython-input-25-5952189722b7>\u001b[0m in \u001b[0;36m<module>\u001b[0;34m\u001b[0m\n\u001b[0;32m----> 1\u001b[0;31m \u001b[0mdp\u001b[0m \u001b[0;34m=\u001b[0m \u001b[0mPororo\u001b[0m\u001b[0;34m(\u001b[0m\u001b[0mtask\u001b[0m\u001b[0;34m=\u001b[0m\u001b[0;34m\"dep_parse\"\u001b[0m\u001b[0;34m,\u001b[0m \u001b[0mlang\u001b[0m\u001b[0;34m=\u001b[0m\u001b[0;34m\"ko\"\u001b[0m\u001b[0;34m)\u001b[0m\u001b[0;34m\u001b[0m\u001b[0;34m\u001b[0m\u001b[0m\n\u001b[0m",
      "\u001b[0;32m/opt/anaconda3/envs/pororo/lib/python3.8/site-packages/pororo/pororo.py\u001b[0m in \u001b[0;36m__new__\u001b[0;34m(cls, task, lang, model, **kwargs)\u001b[0m\n\u001b[1;32m    201\u001b[0m \u001b[0;34m\u001b[0m\u001b[0m\n\u001b[1;32m    202\u001b[0m         \u001b[0;31m# Instantiate task-specific pipeline module, if possible\u001b[0m\u001b[0;34m\u001b[0m\u001b[0;34m\u001b[0m\u001b[0;34m\u001b[0m\u001b[0m\n\u001b[0;32m--> 203\u001b[0;31m         task_module = SUPPORTED_TASKS[task](\n\u001b[0m\u001b[1;32m    204\u001b[0m             \u001b[0mtask\u001b[0m\u001b[0;34m,\u001b[0m\u001b[0;34m\u001b[0m\u001b[0;34m\u001b[0m\u001b[0m\n\u001b[1;32m    205\u001b[0m             \u001b[0mlang\u001b[0m\u001b[0;34m,\u001b[0m\u001b[0;34m\u001b[0m\u001b[0;34m\u001b[0m\u001b[0m\n",
      "\u001b[0;32m/opt/anaconda3/envs/pororo/lib/python3.8/site-packages/pororo/tasks/dependency_parsing.py\u001b[0m in \u001b[0;36mload\u001b[0;34m(self, device)\u001b[0m\n\u001b[1;32m     62\u001b[0m             ).eval().to(device))\n\u001b[1;32m     63\u001b[0m \u001b[0;34m\u001b[0m\u001b[0m\n\u001b[0;32m---> 64\u001b[0;31m             tagger = PororoPosFactory(\n\u001b[0m\u001b[1;32m     65\u001b[0m                 \u001b[0mtask\u001b[0m\u001b[0;34m=\u001b[0m\u001b[0;34m\"pos\"\u001b[0m\u001b[0;34m,\u001b[0m\u001b[0;34m\u001b[0m\u001b[0;34m\u001b[0m\u001b[0m\n\u001b[1;32m     66\u001b[0m                 \u001b[0mmodel\u001b[0m\u001b[0;34m=\u001b[0m\u001b[0;34m\"mecab-ko\"\u001b[0m\u001b[0;34m,\u001b[0m\u001b[0;34m\u001b[0m\u001b[0;34m\u001b[0m\u001b[0m\n",
      "\u001b[0;32m/opt/anaconda3/envs/pororo/lib/python3.8/site-packages/pororo/tasks/pos_tagging.py\u001b[0m in \u001b[0;36mload\u001b[0;34m(self, device)\u001b[0m\n\u001b[1;32m    108\u001b[0m                     \u001b[0;34m\"Please install python-mecab-ko with: `pip install python-mecab-ko`\"\u001b[0m\u001b[0;34m\u001b[0m\u001b[0;34m\u001b[0m\u001b[0m\n\u001b[1;32m    109\u001b[0m                 )\n\u001b[0;32m--> 110\u001b[0;31m             \u001b[0mmodel\u001b[0m \u001b[0;34m=\u001b[0m \u001b[0mmecab\u001b[0m\u001b[0;34m.\u001b[0m\u001b[0mMeCab\u001b[0m\u001b[0;34m(\u001b[0m\u001b[0;34m)\u001b[0m\u001b[0;34m\u001b[0m\u001b[0;34m\u001b[0m\u001b[0m\n\u001b[0m\u001b[1;32m    111\u001b[0m             \u001b[0;32mreturn\u001b[0m \u001b[0mPororoMecabPos\u001b[0m\u001b[0;34m(\u001b[0m\u001b[0mmodel\u001b[0m\u001b[0;34m,\u001b[0m \u001b[0mself\u001b[0m\u001b[0;34m.\u001b[0m\u001b[0mconfig\u001b[0m\u001b[0;34m)\u001b[0m\u001b[0;34m\u001b[0m\u001b[0;34m\u001b[0m\u001b[0m\n\u001b[1;32m    112\u001b[0m \u001b[0;34m\u001b[0m\u001b[0m\n",
      "\u001b[0;32m/opt/anaconda3/envs/pororo/lib/python3.8/site-packages/mecab/mecab.py\u001b[0m in \u001b[0;36m__init__\u001b[0;34m(self, dicpath)\u001b[0m\n\u001b[1;32m     51\u001b[0m         \u001b[0mlattice\u001b[0m \u001b[0;34m=\u001b[0m \u001b[0m_create_lattice\u001b[0m\u001b[0;34m(\u001b[0m\u001b[0msentence\u001b[0m\u001b[0;34m)\u001b[0m\u001b[0;34m\u001b[0m\u001b[0;34m\u001b[0m\u001b[0m\n\u001b[1;32m     52\u001b[0m         \u001b[0;32mif\u001b[0m \u001b[0;32mnot\u001b[0m \u001b[0mself\u001b[0m\u001b[0;34m.\u001b[0m\u001b[0mtagger\u001b[0m\u001b[0;34m.\u001b[0m\u001b[0mparse\u001b[0m\u001b[0;34m(\u001b[0m\u001b[0mlattice\u001b[0m\u001b[0;34m)\u001b[0m\u001b[0;34m:\u001b[0m\u001b[0;34m\u001b[0m\u001b[0;34m\u001b[0m\u001b[0m\n\u001b[0;32m---> 53\u001b[0;31m             \u001b[0;32mraise\u001b[0m \u001b[0mMeCabError\u001b[0m\u001b[0;34m(\u001b[0m\u001b[0mself\u001b[0m\u001b[0;34m.\u001b[0m\u001b[0mtagger\u001b[0m\u001b[0;34m.\u001b[0m\u001b[0mwhat\u001b[0m\u001b[0;34m(\u001b[0m\u001b[0;34m)\u001b[0m\u001b[0;34m)\u001b[0m\u001b[0;34m\u001b[0m\u001b[0;34m\u001b[0m\u001b[0m\n\u001b[0m\u001b[1;32m     54\u001b[0m \u001b[0;34m\u001b[0m\u001b[0m\n\u001b[1;32m     55\u001b[0m         return [\n",
      "\u001b[0;31mTypeError\u001b[0m: pybind11::init(): factory function returned nullptr"
     ]
    }
   ],
   "source": [
    "dp = Pororo(task=\"dep_parse\", lang=\"ko\")"
   ]
  },
  {
   "cell_type": "markdown",
   "id": "3353308a",
   "metadata": {},
   "source": [
    "### 3. 의존성 구문 분석"
   ]
  },
  {
   "cell_type": "code",
   "execution_count": null,
   "id": "61991a73",
   "metadata": {},
   "outputs": [],
   "source": [
    "dp(\"분위기도 좋고 음식도 맛있었어요. 한 시간 기다렸어요.\")"
   ]
  },
  {
   "cell_type": "code",
   "execution_count": null,
   "id": "5dbbda4a",
   "metadata": {},
   "outputs": [],
   "source": [
    "dp(\"한시간 기다렸어요.\")"
   ]
  },
  {
   "cell_type": "markdown",
   "id": "2049ed25",
   "metadata": {},
   "source": [
    "## [Fill-in-the-blank](https://kakaobrain.github.io/pororo/tagging/fill.html)\n",
    "### 1. 이용 가능한 모델 확인"
   ]
  },
  {
   "cell_type": "code",
   "execution_count": 26,
   "id": "8df3af1a",
   "metadata": {},
   "outputs": [
    {
     "data": {
      "text/plain": [
       "'Available models for fib are ([lang]: en, [model]: roberta.base.en), ([lang]: ko, [model]: posbert.base.ko), ([lang]: ja, [model]: jaberta.base.ja), ([lang]: zh, [model]: zhberta.base.zh)'"
      ]
     },
     "execution_count": 26,
     "metadata": {},
     "output_type": "execute_result"
    }
   ],
   "source": [
    "Pororo.available_models(\"fib\")"
   ]
  },
  {
   "cell_type": "markdown",
   "id": "70e3e0e9",
   "metadata": {},
   "source": [
    "### 2. 객체 생성\n",
    "Dependency parsing과 마찬가지로 에러 발생함"
   ]
  },
  {
   "cell_type": "code",
   "execution_count": 27,
   "id": "95950e41",
   "metadata": {},
   "outputs": [
    {
     "ename": "TypeError",
     "evalue": "pybind11::init(): factory function returned nullptr",
     "output_type": "error",
     "traceback": [
      "\u001b[0;31m---------------------------------------------------------------------------\u001b[0m",
      "\u001b[0;31mTypeError\u001b[0m                                 Traceback (most recent call last)",
      "\u001b[0;32m<ipython-input-27-711b739c604c>\u001b[0m in \u001b[0;36m<module>\u001b[0;34m\u001b[0m\n\u001b[0;32m----> 1\u001b[0;31m \u001b[0mfib_ko\u001b[0m \u001b[0;34m=\u001b[0m \u001b[0mPororo\u001b[0m\u001b[0;34m(\u001b[0m\u001b[0mtask\u001b[0m\u001b[0;34m=\u001b[0m\u001b[0;34m\"fib\"\u001b[0m\u001b[0;34m,\u001b[0m \u001b[0mlang\u001b[0m\u001b[0;34m=\u001b[0m\u001b[0;34m\"ko\"\u001b[0m\u001b[0;34m)\u001b[0m\u001b[0;34m\u001b[0m\u001b[0;34m\u001b[0m\u001b[0m\n\u001b[0m\u001b[1;32m      2\u001b[0m \u001b[0mfib_en\u001b[0m \u001b[0;34m=\u001b[0m \u001b[0mPororo\u001b[0m\u001b[0;34m(\u001b[0m\u001b[0mtask\u001b[0m\u001b[0;34m=\u001b[0m\u001b[0;34m\"fib\"\u001b[0m\u001b[0;34m,\u001b[0m \u001b[0mlang\u001b[0m\u001b[0;34m=\u001b[0m\u001b[0;34m\"en\"\u001b[0m\u001b[0;34m)\u001b[0m\u001b[0;34m\u001b[0m\u001b[0;34m\u001b[0m\u001b[0m\n",
      "\u001b[0;32m/opt/anaconda3/envs/pororo/lib/python3.8/site-packages/pororo/pororo.py\u001b[0m in \u001b[0;36m__new__\u001b[0;34m(cls, task, lang, model, **kwargs)\u001b[0m\n\u001b[1;32m    201\u001b[0m \u001b[0;34m\u001b[0m\u001b[0m\n\u001b[1;32m    202\u001b[0m         \u001b[0;31m# Instantiate task-specific pipeline module, if possible\u001b[0m\u001b[0;34m\u001b[0m\u001b[0;34m\u001b[0m\u001b[0;34m\u001b[0m\u001b[0m\n\u001b[0;32m--> 203\u001b[0;31m         task_module = SUPPORTED_TASKS[task](\n\u001b[0m\u001b[1;32m    204\u001b[0m             \u001b[0mtask\u001b[0m\u001b[0;34m,\u001b[0m\u001b[0;34m\u001b[0m\u001b[0;34m\u001b[0m\u001b[0m\n\u001b[1;32m    205\u001b[0m             \u001b[0mlang\u001b[0m\u001b[0;34m,\u001b[0m\u001b[0;34m\u001b[0m\u001b[0;34m\u001b[0m\u001b[0m\n",
      "\u001b[0;32m/opt/anaconda3/envs/pororo/lib/python3.8/site-packages/pororo/tasks/fill_in_the_blank.py\u001b[0m in \u001b[0;36mload\u001b[0;34m(self, device)\u001b[0m\n\u001b[1;32m     97\u001b[0m             \u001b[0;32mfrom\u001b[0m \u001b[0mpororo\u001b[0m\u001b[0;34m.\u001b[0m\u001b[0mmodels\u001b[0m\u001b[0;34m.\u001b[0m\u001b[0mbrainbert\u001b[0m \u001b[0;32mimport\u001b[0m \u001b[0mPosRobertaModel\u001b[0m\u001b[0;34m\u001b[0m\u001b[0;34m\u001b[0m\u001b[0m\n\u001b[1;32m     98\u001b[0m \u001b[0;34m\u001b[0m\u001b[0m\n\u001b[0;32m---> 99\u001b[0;31m             model = (PosRobertaModel.load_model(\n\u001b[0m\u001b[1;32m    100\u001b[0m                 \u001b[0;34mf\"bert/{self.config.n_model}\"\u001b[0m\u001b[0;34m,\u001b[0m\u001b[0;34m\u001b[0m\u001b[0;34m\u001b[0m\u001b[0m\n\u001b[1;32m    101\u001b[0m                 \u001b[0mself\u001b[0m\u001b[0;34m.\u001b[0m\u001b[0mconfig\u001b[0m\u001b[0;34m.\u001b[0m\u001b[0mlang\u001b[0m\u001b[0;34m,\u001b[0m\u001b[0;34m\u001b[0m\u001b[0;34m\u001b[0m\u001b[0m\n",
      "\u001b[0;32m/opt/anaconda3/envs/pororo/lib/python3.8/site-packages/pororo/models/brainbert/PosRoBERTa.py\u001b[0m in \u001b[0;36mload_model\u001b[0;34m(cls, model_name, lang, **kwargs)\u001b[0m\n\u001b[1;32m     36\u001b[0m             \u001b[0;34m**\u001b[0m\u001b[0mkwargs\u001b[0m\u001b[0;34m,\u001b[0m\u001b[0;34m\u001b[0m\u001b[0;34m\u001b[0m\u001b[0m\n\u001b[1;32m     37\u001b[0m         )\n\u001b[0;32m---> 38\u001b[0;31m         return PosRobertaHubInterface(\n\u001b[0m\u001b[1;32m     39\u001b[0m             \u001b[0mx\u001b[0m\u001b[0;34m[\u001b[0m\u001b[0;34m\"args\"\u001b[0m\u001b[0;34m]\u001b[0m\u001b[0;34m,\u001b[0m\u001b[0;34m\u001b[0m\u001b[0;34m\u001b[0m\u001b[0m\n\u001b[1;32m     40\u001b[0m             \u001b[0mx\u001b[0m\u001b[0;34m[\u001b[0m\u001b[0;34m\"task\"\u001b[0m\u001b[0;34m]\u001b[0m\u001b[0;34m,\u001b[0m\u001b[0;34m\u001b[0m\u001b[0;34m\u001b[0m\u001b[0m\n",
      "\u001b[0;32m/opt/anaconda3/envs/pororo/lib/python3.8/site-packages/pororo/models/brainbert/PosRoBERTa.py\u001b[0m in \u001b[0;36m__init__\u001b[0;34m(self, args, task, model, lang)\u001b[0m\n\u001b[1;32m     53\u001b[0m             \u001b[0mmodel\u001b[0m\u001b[0;34m=\u001b[0m\u001b[0;34m\"mecab_ko\"\u001b[0m\u001b[0;34m,\u001b[0m\u001b[0;34m\u001b[0m\u001b[0;34m\u001b[0m\u001b[0m\n\u001b[1;32m     54\u001b[0m         )\n\u001b[0;32m---> 55\u001b[0;31m         \u001b[0mself\u001b[0m\u001b[0;34m.\u001b[0m\u001b[0mbpe\u001b[0m \u001b[0;34m=\u001b[0m \u001b[0mself\u001b[0m\u001b[0;34m.\u001b[0m\u001b[0mbpe\u001b[0m\u001b[0;34m.\u001b[0m\u001b[0mload\u001b[0m\u001b[0;34m(\u001b[0m\u001b[0;34m\"cuda\"\u001b[0m\u001b[0;34m)\u001b[0m\u001b[0;34m\u001b[0m\u001b[0;34m\u001b[0m\u001b[0m\n\u001b[0m\u001b[1;32m     56\u001b[0m \u001b[0;34m\u001b[0m\u001b[0m\n\u001b[1;32m     57\u001b[0m     \u001b[0;32mdef\u001b[0m \u001b[0mtokenize\u001b[0m\u001b[0;34m(\u001b[0m\u001b[0mself\u001b[0m\u001b[0;34m,\u001b[0m \u001b[0msentence\u001b[0m\u001b[0;34m:\u001b[0m \u001b[0mstr\u001b[0m\u001b[0;34m,\u001b[0m \u001b[0madd_special_tokens\u001b[0m\u001b[0;34m:\u001b[0m \u001b[0mbool\u001b[0m \u001b[0;34m=\u001b[0m \u001b[0;32mFalse\u001b[0m\u001b[0;34m)\u001b[0m\u001b[0;34m:\u001b[0m\u001b[0;34m\u001b[0m\u001b[0;34m\u001b[0m\u001b[0m\n",
      "\u001b[0;32m/opt/anaconda3/envs/pororo/lib/python3.8/site-packages/pororo/tasks/tokenization.py\u001b[0m in \u001b[0;36mload\u001b[0;34m(self, device)\u001b[0m\n\u001b[1;32m    120\u001b[0m                     \u001b[0;34m\"Please install python-mecab-ko with: `pip install python-mecab-ko`\"\u001b[0m\u001b[0;34m\u001b[0m\u001b[0;34m\u001b[0m\u001b[0m\n\u001b[1;32m    121\u001b[0m                 )\n\u001b[0;32m--> 122\u001b[0;31m             \u001b[0mmodel\u001b[0m \u001b[0;34m=\u001b[0m \u001b[0mmecab\u001b[0m\u001b[0;34m.\u001b[0m\u001b[0mMeCab\u001b[0m\u001b[0;34m(\u001b[0m\u001b[0;34m)\u001b[0m\u001b[0;34m\u001b[0m\u001b[0;34m\u001b[0m\u001b[0m\n\u001b[0m\u001b[1;32m    123\u001b[0m             \u001b[0;32mreturn\u001b[0m \u001b[0mPororoMecabKoTokenizer\u001b[0m\u001b[0;34m(\u001b[0m\u001b[0mmodel\u001b[0m\u001b[0;34m,\u001b[0m \u001b[0mself\u001b[0m\u001b[0;34m.\u001b[0m\u001b[0mconfig\u001b[0m\u001b[0;34m)\u001b[0m\u001b[0;34m\u001b[0m\u001b[0;34m\u001b[0m\u001b[0m\n\u001b[1;32m    124\u001b[0m \u001b[0;34m\u001b[0m\u001b[0m\n",
      "\u001b[0;32m/opt/anaconda3/envs/pororo/lib/python3.8/site-packages/mecab/mecab.py\u001b[0m in \u001b[0;36m__init__\u001b[0;34m(self, dicpath)\u001b[0m\n\u001b[1;32m     51\u001b[0m         \u001b[0mlattice\u001b[0m \u001b[0;34m=\u001b[0m \u001b[0m_create_lattice\u001b[0m\u001b[0;34m(\u001b[0m\u001b[0msentence\u001b[0m\u001b[0;34m)\u001b[0m\u001b[0;34m\u001b[0m\u001b[0;34m\u001b[0m\u001b[0m\n\u001b[1;32m     52\u001b[0m         \u001b[0;32mif\u001b[0m \u001b[0;32mnot\u001b[0m \u001b[0mself\u001b[0m\u001b[0;34m.\u001b[0m\u001b[0mtagger\u001b[0m\u001b[0;34m.\u001b[0m\u001b[0mparse\u001b[0m\u001b[0;34m(\u001b[0m\u001b[0mlattice\u001b[0m\u001b[0;34m)\u001b[0m\u001b[0;34m:\u001b[0m\u001b[0;34m\u001b[0m\u001b[0;34m\u001b[0m\u001b[0m\n\u001b[0;32m---> 53\u001b[0;31m             \u001b[0;32mraise\u001b[0m \u001b[0mMeCabError\u001b[0m\u001b[0;34m(\u001b[0m\u001b[0mself\u001b[0m\u001b[0;34m.\u001b[0m\u001b[0mtagger\u001b[0m\u001b[0;34m.\u001b[0m\u001b[0mwhat\u001b[0m\u001b[0;34m(\u001b[0m\u001b[0;34m)\u001b[0m\u001b[0;34m)\u001b[0m\u001b[0;34m\u001b[0m\u001b[0;34m\u001b[0m\u001b[0m\n\u001b[0m\u001b[1;32m     54\u001b[0m \u001b[0;34m\u001b[0m\u001b[0m\n\u001b[1;32m     55\u001b[0m         return [\n",
      "\u001b[0;31mTypeError\u001b[0m: pybind11::init(): factory function returned nullptr"
     ]
    }
   ],
   "source": [
    "fib_ko = Pororo(task=\"fib\", lang=\"ko\")\n",
    "fib_en = Pororo(task=\"fib\", lang=\"en\")"
   ]
  },
  {
   "cell_type": "markdown",
   "id": "7fc2fe3a",
   "metadata": {},
   "source": [
    "### 3. 빈칸 채우기"
   ]
  },
  {
   "cell_type": "code",
   "execution_count": null,
   "id": "9bab9ef4",
   "metadata": {},
   "outputs": [],
   "source": [
    "fib_ko(\"김연아는 __의 피겨스케이팅 선수이다.\")"
   ]
  },
  {
   "cell_type": "code",
   "execution_count": null,
   "id": "75d6fdbf",
   "metadata": {},
   "outputs": [],
   "source": [
    "fib_en(\"New Hope Club is a famouse __ group.\")"
   ]
  },
  {
   "cell_type": "markdown",
   "id": "4d6cc98c",
   "metadata": {},
   "source": [
    "## [Machine Reading Comprehension](https://kakaobrain.github.io/pororo/tagging/mrc.html)\n",
    "### 1. 이용 가능한 모델 확인"
   ]
  },
  {
   "cell_type": "code",
   "execution_count": 28,
   "id": "62fcc4f8",
   "metadata": {},
   "outputs": [
    {
     "data": {
      "text/plain": [
       "'Available models for mrc are ([lang]: ko, [model]: brainbert.base.ko.korquad)'"
      ]
     },
     "execution_count": 28,
     "metadata": {},
     "output_type": "execute_result"
    }
   ],
   "source": [
    "Pororo.available_models(\"mrc\")"
   ]
  },
  {
   "cell_type": "markdown",
   "id": "6e6b9574",
   "metadata": {},
   "source": [
    "### 2. 객체 생성"
   ]
  },
  {
   "cell_type": "code",
   "execution_count": 29,
   "id": "e5ea53cb",
   "metadata": {},
   "outputs": [
    {
     "ename": "TypeError",
     "evalue": "pybind11::init(): factory function returned nullptr",
     "output_type": "error",
     "traceback": [
      "\u001b[0;31m---------------------------------------------------------------------------\u001b[0m",
      "\u001b[0;31mTypeError\u001b[0m                                 Traceback (most recent call last)",
      "\u001b[0;32m<ipython-input-29-e7aee9b88ec3>\u001b[0m in \u001b[0;36m<module>\u001b[0;34m\u001b[0m\n\u001b[0;32m----> 1\u001b[0;31m \u001b[0mmrc\u001b[0m \u001b[0;34m=\u001b[0m \u001b[0mPororo\u001b[0m\u001b[0;34m(\u001b[0m\u001b[0mtask\u001b[0m\u001b[0;34m=\u001b[0m\u001b[0;34m\"mrc\"\u001b[0m\u001b[0;34m,\u001b[0m \u001b[0mlang\u001b[0m\u001b[0;34m=\u001b[0m\u001b[0;34m\"ko\"\u001b[0m\u001b[0;34m)\u001b[0m\u001b[0;34m\u001b[0m\u001b[0;34m\u001b[0m\u001b[0m\n\u001b[0m",
      "\u001b[0;32m/opt/anaconda3/envs/pororo/lib/python3.8/site-packages/pororo/pororo.py\u001b[0m in \u001b[0;36m__new__\u001b[0;34m(cls, task, lang, model, **kwargs)\u001b[0m\n\u001b[1;32m    201\u001b[0m \u001b[0;34m\u001b[0m\u001b[0m\n\u001b[1;32m    202\u001b[0m         \u001b[0;31m# Instantiate task-specific pipeline module, if possible\u001b[0m\u001b[0;34m\u001b[0m\u001b[0;34m\u001b[0m\u001b[0;34m\u001b[0m\u001b[0m\n\u001b[0;32m--> 203\u001b[0;31m         task_module = SUPPORTED_TASKS[task](\n\u001b[0m\u001b[1;32m    204\u001b[0m             \u001b[0mtask\u001b[0m\u001b[0;34m,\u001b[0m\u001b[0;34m\u001b[0m\u001b[0;34m\u001b[0m\u001b[0m\n\u001b[1;32m    205\u001b[0m             \u001b[0mlang\u001b[0m\u001b[0;34m,\u001b[0m\u001b[0;34m\u001b[0m\u001b[0;34m\u001b[0m\u001b[0m\n",
      "\u001b[0;32m/opt/anaconda3/envs/pororo/lib/python3.8/site-packages/pororo/tasks/machine_reading_comprehension.py\u001b[0m in \u001b[0;36mload\u001b[0;34m(self, device)\u001b[0m\n\u001b[1;32m     72\u001b[0m             ).eval().to(device))\n\u001b[1;32m     73\u001b[0m \u001b[0;34m\u001b[0m\u001b[0m\n\u001b[0;32m---> 74\u001b[0;31m             \u001b[0mtagger\u001b[0m \u001b[0;34m=\u001b[0m \u001b[0mmecab\u001b[0m\u001b[0;34m.\u001b[0m\u001b[0mMeCab\u001b[0m\u001b[0;34m(\u001b[0m\u001b[0;34m)\u001b[0m\u001b[0;34m\u001b[0m\u001b[0;34m\u001b[0m\u001b[0m\n\u001b[0m\u001b[1;32m     75\u001b[0m \u001b[0;34m\u001b[0m\u001b[0m\n\u001b[1;32m     76\u001b[0m             \u001b[0;32mreturn\u001b[0m \u001b[0mPororoBertMrc\u001b[0m\u001b[0;34m(\u001b[0m\u001b[0mmodel\u001b[0m\u001b[0;34m,\u001b[0m \u001b[0mtagger\u001b[0m\u001b[0;34m,\u001b[0m \u001b[0mpostprocess_span\u001b[0m\u001b[0;34m,\u001b[0m \u001b[0mself\u001b[0m\u001b[0;34m.\u001b[0m\u001b[0mconfig\u001b[0m\u001b[0;34m)\u001b[0m\u001b[0;34m\u001b[0m\u001b[0;34m\u001b[0m\u001b[0m\n",
      "\u001b[0;32m/opt/anaconda3/envs/pororo/lib/python3.8/site-packages/mecab/mecab.py\u001b[0m in \u001b[0;36m__init__\u001b[0;34m(self, dicpath)\u001b[0m\n\u001b[1;32m     51\u001b[0m         \u001b[0mlattice\u001b[0m \u001b[0;34m=\u001b[0m \u001b[0m_create_lattice\u001b[0m\u001b[0;34m(\u001b[0m\u001b[0msentence\u001b[0m\u001b[0;34m)\u001b[0m\u001b[0;34m\u001b[0m\u001b[0;34m\u001b[0m\u001b[0m\n\u001b[1;32m     52\u001b[0m         \u001b[0;32mif\u001b[0m \u001b[0;32mnot\u001b[0m \u001b[0mself\u001b[0m\u001b[0;34m.\u001b[0m\u001b[0mtagger\u001b[0m\u001b[0;34m.\u001b[0m\u001b[0mparse\u001b[0m\u001b[0;34m(\u001b[0m\u001b[0mlattice\u001b[0m\u001b[0;34m)\u001b[0m\u001b[0;34m:\u001b[0m\u001b[0;34m\u001b[0m\u001b[0;34m\u001b[0m\u001b[0m\n\u001b[0;32m---> 53\u001b[0;31m             \u001b[0;32mraise\u001b[0m \u001b[0mMeCabError\u001b[0m\u001b[0;34m(\u001b[0m\u001b[0mself\u001b[0m\u001b[0;34m.\u001b[0m\u001b[0mtagger\u001b[0m\u001b[0;34m.\u001b[0m\u001b[0mwhat\u001b[0m\u001b[0;34m(\u001b[0m\u001b[0;34m)\u001b[0m\u001b[0;34m)\u001b[0m\u001b[0;34m\u001b[0m\u001b[0;34m\u001b[0m\u001b[0m\n\u001b[0m\u001b[1;32m     54\u001b[0m \u001b[0;34m\u001b[0m\u001b[0m\n\u001b[1;32m     55\u001b[0m         return [\n",
      "\u001b[0;31mTypeError\u001b[0m: pybind11::init(): factory function returned nullptr"
     ]
    }
   ],
   "source": [
    "mrc = Pororo(task=\"mrc\", lang=\"ko\")"
   ]
  },
  {
   "cell_type": "markdown",
   "id": "204cd25c",
   "metadata": {},
   "source": [
    "### 3. 기계 독해"
   ]
  },
  {
   "cell_type": "code",
   "execution_count": null,
   "id": "f908bdc9",
   "metadata": {},
   "outputs": [],
   "source": [
    "mrc(\n",
    "    \"카카오브레인이 공개한 것은?\",\n",
    "    \"카카오 인공지능(AI) 연구개발 자회사 카카오브레인이 AI 솔루션을 첫 상품화했다. 카카오는 카카오브레인 '포즈(pose·자세분석) API'를 유료 공개한다고 24일 밝혔다. 카카오브레인이 AI 기술을 유료 API를 공개하는 것은 처음이다. 공개하자마자 외부 문의가 쇄도한다. 포즈는 AI 비전(VISION, 영상·화면분석) 분야 중 하나다. 카카오브레인 포즈 API는 이미지나 영상을 분석해 사람 자세를 추출하는 기능을 제공한다.\"\n",
    "   )"
   ]
  },
  {
   "cell_type": "markdown",
   "id": "8dcdec61",
   "metadata": {},
   "source": [
    "mecab이 후 처리를 잘 수행하지 못할 때는 `postprocess` 옵션을 `False`로 설정할 수 있다."
   ]
  },
  {
   "cell_type": "code",
   "execution_count": null,
   "id": "3962144a",
   "metadata": {},
   "outputs": [],
   "source": [
    "mrc(\"카카오브레인이 공개한 라이브러리 이름은?\", \"카카오브레인은 자연어 처리와 음성 관련 태스크를 쉽게 수행할 수 있도록 도와 주는 라이브러리 pororo를 공개하였습니다.\", postprocess=False)"
   ]
  },
  {
   "cell_type": "markdown",
   "id": "334b2e26",
   "metadata": {},
   "source": [
    "## [Named Entity Recognition](https://kakaobrain.github.io/pororo/tagging/ner.html)\n",
    "### 1. 이용 가능한 모델 확인"
   ]
  },
  {
   "cell_type": "code",
   "execution_count": 30,
   "id": "1c90185a",
   "metadata": {},
   "outputs": [
    {
     "data": {
      "text/plain": [
       "'Available models for ner are ([lang]: en, [model]: roberta.base.en.ner), ([lang]: ko, [model]: charbert.base.ko.ner), ([lang]: zh, [model]: zhberta.base.zh.ner), ([lang]: ja, [model]: jaberta.base.ja.ner)'"
      ]
     },
     "execution_count": 30,
     "metadata": {},
     "output_type": "execute_result"
    }
   ],
   "source": [
    "Pororo.available_models(\"ner\")"
   ]
  },
  {
   "cell_type": "markdown",
   "id": "fe072de6",
   "metadata": {},
   "source": [
    "### 2. 객체 생성"
   ]
  },
  {
   "cell_type": "code",
   "execution_count": 31,
   "id": "870537cc",
   "metadata": {},
   "outputs": [],
   "source": [
    "ner_ko = Pororo(task=\"ner\", lang=\"ko\")\n",
    "ner_en = Pororo(task=\"ner\", lang=\"en\")"
   ]
  },
  {
   "cell_type": "markdown",
   "id": "c68525f1",
   "metadata": {},
   "source": [
    "### 3. 명명된 엔티티 인식"
   ]
  },
  {
   "cell_type": "code",
   "execution_count": 32,
   "id": "bd2c7572",
   "metadata": {},
   "outputs": [
    {
     "data": {
      "text/plain": [
       "[('안산', 'LOCATION'),\n",
       " ('은', 'O'),\n",
       " (' ', 'O'),\n",
       " ('21세', 'QUANTITY'),\n",
       " ('의', 'O'),\n",
       " (' ', 'O'),\n",
       " ('170 센티미터', 'QUANTITY'),\n",
       " ('이며,', 'O'),\n",
       " (' ', 'O'),\n",
       " ('2021', 'DATE'),\n",
       " (' ', 'O'),\n",
       " ('제32회', 'QUANTITY'),\n",
       " (' ', 'O'),\n",
       " ('도쿄 올림픽', 'EVENT'),\n",
       " (' ', 'O'),\n",
       " ('여자', 'O'),\n",
       " (' ', 'O'),\n",
       " ('양궁', 'CIVILIZATION'),\n",
       " (' ', 'O'),\n",
       " ('국가대표', 'CIVILIZATION'),\n",
       " ('로,', 'O'),\n",
       " (' ', 'O'),\n",
       " ('현재', 'O'),\n",
       " (' ', 'O'),\n",
       " ('세계랭킹', 'O'),\n",
       " (' ', 'O'),\n",
       " ('6위', 'QUANTITY'),\n",
       " ('이다.', 'O')]"
      ]
     },
     "execution_count": 32,
     "metadata": {},
     "output_type": "execute_result"
    }
   ],
   "source": [
    "ner_ko(\"안산은 21세의 170 센티미터이며, 2021 제32회 도쿄 올림픽 여자 양궁 국가대표로, 현재 세계랭킹 6위이다.\")"
   ]
  },
  {
   "cell_type": "markdown",
   "id": "48474a91",
   "metadata": {},
   "source": [
    "한국어의 경우, Word Sense Disambiguation 모듈을 사용하여 보다 구체적인 태그를 얻을 수 있다."
   ]
  },
  {
   "cell_type": "code",
   "execution_count": 33,
   "id": "5218950f",
   "metadata": {},
   "outputs": [
    {
     "data": {
      "text/plain": [
       "[('김제덕', 'PERSON'),\n",
       " ('은', 'O'),\n",
       " (' ', 'O'),\n",
       " ('18세', 'AGE'),\n",
       " ('의', 'O'),\n",
       " (' ', 'O'),\n",
       " ('176 센티미터', 'LENGTH/DISTANCE'),\n",
       " (',', 'O'),\n",
       " (' ', 'O'),\n",
       " ('72 킬로그램', 'WEIGHT'),\n",
       " ('이며,', 'O'),\n",
       " (' ', 'O'),\n",
       " ('2021', 'DATE'),\n",
       " (' ', 'O'),\n",
       " ('제32회', 'QUANTITY'),\n",
       " (' ', 'O'),\n",
       " ('도쿄 올림픽', 'EVENT'),\n",
       " (' ', 'O'),\n",
       " ('남자', 'O'),\n",
       " (' ', 'O'),\n",
       " ('양궁', 'CIVILIZATION'),\n",
       " (' ', 'O'),\n",
       " ('국가대표', 'CIVILIZATION'),\n",
       " ('이다.', 'O')]"
      ]
     },
     "execution_count": 33,
     "metadata": {},
     "output_type": "execute_result"
    }
   ],
   "source": [
    "ner_ko(\"김제덕은 18세의 176 센티미터, 72 킬로그램이며, 2021 제32회 도쿄 올림픽 남자 양궁 국가대표이다.\", apply_wsd=True)"
   ]
  },
  {
   "cell_type": "code",
   "execution_count": 34,
   "id": "c9629ca9",
   "metadata": {},
   "outputs": [
    {
     "data": {
      "text/plain": [
       "[('It', 'O'),\n",
       " ('was', 'O'),\n",
       " ('in', 'O'),\n",
       " ('midfield', 'O'),\n",
       " ('where', 'O'),\n",
       " ('Arsenal', 'ORG'),\n",
       " ('took', 'O'),\n",
       " ('control', 'O'),\n",
       " ('of', 'O'),\n",
       " ('the', 'O'),\n",
       " ('game', 'O'),\n",
       " (',', 'O'),\n",
       " ('and', 'O'),\n",
       " ('that', 'O'),\n",
       " ('was', 'O'),\n",
       " ('mainly', 'O'),\n",
       " ('down', 'O'),\n",
       " ('to', 'O'),\n",
       " ('Thomas Partey', 'PERSON'),\n",
       " ('and', 'O'),\n",
       " ('Mohamed Elneny', 'PERSON'),\n",
       " ('.', 'O')]"
      ]
     },
     "execution_count": 34,
     "metadata": {},
     "output_type": "execute_result"
    }
   ],
   "source": [
    "ner_en(\"It was in midfield where Arsenal took control of the game, and that was mainly down to Thomas Partey and Mohamed Elneny.\")"
   ]
  },
  {
   "cell_type": "code",
   "execution_count": null,
   "id": "3cca8dee",
   "metadata": {},
   "outputs": [],
   "source": []
  }
 ],
 "metadata": {
  "kernelspec": {
   "display_name": "Python 3",
   "language": "python",
   "name": "python3"
  },
  "language_info": {
   "codemirror_mode": {
    "name": "ipython",
    "version": 3
   },
   "file_extension": ".py",
   "mimetype": "text/x-python",
   "name": "python",
   "nbconvert_exporter": "python",
   "pygments_lexer": "ipython3",
   "version": "3.8.10"
  }
 },
 "nbformat": 4,
 "nbformat_minor": 5
}
